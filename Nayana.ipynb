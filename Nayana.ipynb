{
 "cells": [
  {
   "cell_type": "code",
   "execution_count": 1,
   "id": "3a05c3a6",
   "metadata": {},
   "outputs": [
    {
     "name": "stdout",
     "output_type": "stream",
     "text": [
      "Defaulting to user installation because normal site-packages is not writeable\n",
      "Requirement already satisfied: seaborn in c:\\programdata\\anaconda3\\lib\\site-packages (0.12.2)\n",
      "Requirement already satisfied: numpy!=1.24.0,>=1.17 in c:\\programdata\\anaconda3\\lib\\site-packages (from seaborn) (1.24.3)\n",
      "Requirement already satisfied: pandas>=0.25 in c:\\programdata\\anaconda3\\lib\\site-packages (from seaborn) (2.0.3)\n",
      "Requirement already satisfied: matplotlib!=3.6.1,>=3.1 in c:\\programdata\\anaconda3\\lib\\site-packages (from seaborn) (3.7.2)\n",
      "Requirement already satisfied: contourpy>=1.0.1 in c:\\programdata\\anaconda3\\lib\\site-packages (from matplotlib!=3.6.1,>=3.1->seaborn) (1.0.5)\n",
      "Requirement already satisfied: cycler>=0.10 in c:\\programdata\\anaconda3\\lib\\site-packages (from matplotlib!=3.6.1,>=3.1->seaborn) (0.11.0)\n",
      "Requirement already satisfied: fonttools>=4.22.0 in c:\\programdata\\anaconda3\\lib\\site-packages (from matplotlib!=3.6.1,>=3.1->seaborn) (4.25.0)\n",
      "Requirement already satisfied: kiwisolver>=1.0.1 in c:\\programdata\\anaconda3\\lib\\site-packages (from matplotlib!=3.6.1,>=3.1->seaborn) (1.4.4)\n",
      "Requirement already satisfied: packaging>=20.0 in c:\\programdata\\anaconda3\\lib\\site-packages (from matplotlib!=3.6.1,>=3.1->seaborn) (23.1)\n",
      "Requirement already satisfied: pillow>=6.2.0 in c:\\programdata\\anaconda3\\lib\\site-packages (from matplotlib!=3.6.1,>=3.1->seaborn) (9.4.0)\n",
      "Requirement already satisfied: pyparsing<3.1,>=2.3.1 in c:\\programdata\\anaconda3\\lib\\site-packages (from matplotlib!=3.6.1,>=3.1->seaborn) (3.0.9)\n",
      "Requirement already satisfied: python-dateutil>=2.7 in c:\\programdata\\anaconda3\\lib\\site-packages (from matplotlib!=3.6.1,>=3.1->seaborn) (2.8.2)\n",
      "Requirement already satisfied: pytz>=2020.1 in c:\\programdata\\anaconda3\\lib\\site-packages (from pandas>=0.25->seaborn) (2023.3.post1)\n",
      "Requirement already satisfied: tzdata>=2022.1 in c:\\programdata\\anaconda3\\lib\\site-packages (from pandas>=0.25->seaborn) (2023.3)\n",
      "Requirement already satisfied: six>=1.5 in c:\\programdata\\anaconda3\\lib\\site-packages (from python-dateutil>=2.7->matplotlib!=3.6.1,>=3.1->seaborn) (1.16.0)\n",
      "Note: you may need to restart the kernel to use updated packages.\n"
     ]
    }
   ],
   "source": [
    "pip install seaborn"
   ]
  },
  {
   "cell_type": "code",
   "execution_count": 2,
   "id": "ae7e005a",
   "metadata": {},
   "outputs": [
    {
     "name": "stdout",
     "output_type": "stream",
     "text": [
      "Defaulting to user installation because normal site-packages is not writeable\n",
      "Requirement already satisfied: pymongo in c:\\users\\hp\\appdata\\roaming\\python\\python311\\site-packages (4.6.3)\n",
      "Requirement already satisfied: dnspython<3.0.0,>=1.16.0 in c:\\users\\hp\\appdata\\roaming\\python\\python311\\site-packages (from pymongo) (2.6.1)\n",
      "Note: you may need to restart the kernel to use updated packages.\n"
     ]
    }
   ],
   "source": [
    "pip install pymongo"
   ]
  },
  {
   "cell_type": "markdown",
   "id": "28f50af1",
   "metadata": {},
   "source": [
    "# Data Extraction"
   ]
  },
  {
   "cell_type": "code",
   "execution_count": 3,
   "id": "73b1b25d",
   "metadata": {},
   "outputs": [
    {
     "name": "stdout",
     "output_type": "stream",
     "text": [
      "Data Successfully Inserted\n"
     ]
    }
   ],
   "source": [
    "from pymongo import MongoClient\n",
    "import requests\n",
    "import pandas as pd\n",
    "client=MongoClient(\"mongodb://%s:%s@127.0.0.1\" % (\"dap\", \"dap\"))\n",
    "def fetch_data():\n",
    "    url='https://data.cityofchicago.org/resource/2ani-ic5x.json?$limit=9301' #API endpoint\n",
    "    response=requests.get(url) #get request to url \n",
    "    if response.status_code==200: #indicates successful response\n",
    "        data=response.json() #convert to json format\n",
    "        return data\n",
    "    else: #unsucessful response\n",
    "        print('Failed to Fetch Data:', response.status_code)\n",
    "        return None\n",
    "data=fetch_data() #calls the function fetch_data and stores the returned json data to data\n",
    "db=client['project_database'] #connecting to MongoDB database \n",
    "collection=db['collection3'] #connecting to MongoDB collection \n",
    "if \"collection\" in db.list_collection_names(): #checks if collection already exists\n",
    "  print(\"This Collection Already Exists\")\n",
    "else:\n",
    "  collection.insert_many(data) #else insert json data into MongoDB collection\n",
    "  print(\"Data Successfully Inserted\")"
   ]
  },
  {
   "cell_type": "code",
   "execution_count": 4,
   "id": "472c0465",
   "metadata": {},
   "outputs": [],
   "source": [
    "cursor=collection.find({}) #retrieves data from MongoDB collection\n",
    "df=pd.DataFrame(list(cursor)) #converts cursor into pandas DataFrame"
   ]
  },
  {
   "cell_type": "markdown",
   "id": "9c603d3b",
   "metadata": {},
   "source": [
    "# Analysis of Data"
   ]
  },
  {
   "cell_type": "markdown",
   "id": "1d470a2f",
   "metadata": {},
   "source": [
    "To print the first 5 rows of data"
   ]
  },
  {
   "cell_type": "code",
   "execution_count": 5,
   "id": "68db2184",
   "metadata": {},
   "outputs": [
    {
     "data": {
      "text/html": [
       "<div>\n",
       "<style scoped>\n",
       "    .dataframe tbody tr th:only-of-type {\n",
       "        vertical-align: middle;\n",
       "    }\n",
       "\n",
       "    .dataframe tbody tr th {\n",
       "        vertical-align: top;\n",
       "    }\n",
       "\n",
       "    .dataframe thead th {\n",
       "        text-align: right;\n",
       "    }\n",
       "</style>\n",
       "<table border=\"1\" class=\"dataframe\">\n",
       "  <thead>\n",
       "    <tr style=\"text-align: right;\">\n",
       "      <th></th>\n",
       "      <th>_id</th>\n",
       "      <th>zip</th>\n",
       "      <th>week_end</th>\n",
       "      <th>season</th>\n",
       "      <th>measure</th>\n",
       "      <th>age</th>\n",
       "      <th>population</th>\n",
       "      <th>count</th>\n",
       "      <th>percent</th>\n",
       "      <th>zip_code_centroid</th>\n",
       "      <th>:@computed_region_rpca_8um6</th>\n",
       "      <th>:@computed_region_vrxf_vc4k</th>\n",
       "      <th>:@computed_region_6mkv_f3dw</th>\n",
       "      <th>:@computed_region_bdys_3d7i</th>\n",
       "      <th>:@computed_region_8hcu_yrd4</th>\n",
       "    </tr>\n",
       "  </thead>\n",
       "  <tbody>\n",
       "    <tr>\n",
       "      <th>0</th>\n",
       "      <td>66264790f95b89d5bbfe4fb6</td>\n",
       "      <td>60628</td>\n",
       "      <td>2023-09-23T00:00:00.000</td>\n",
       "      <td>2023-2024</td>\n",
       "      <td>UpToDate_2023_2024</td>\n",
       "      <td>0-17 yrs</td>\n",
       "      <td>13786</td>\n",
       "      <td>3</td>\n",
       "      <td>0.000</td>\n",
       "      <td>{'type': 'Point', 'coordinates': [-87.621537, ...</td>\n",
       "      <td>19</td>\n",
       "      <td>45</td>\n",
       "      <td>21861</td>\n",
       "      <td>237</td>\n",
       "      <td>11</td>\n",
       "    </tr>\n",
       "    <tr>\n",
       "      <th>1</th>\n",
       "      <td>66264790f95b89d5bbfe4fb7</td>\n",
       "      <td>60624</td>\n",
       "      <td>2023-09-30T00:00:00.000</td>\n",
       "      <td>2023-2024</td>\n",
       "      <td>UpToDate_2023_2024</td>\n",
       "      <td>0-17 yrs</td>\n",
       "      <td>10082</td>\n",
       "      <td>1</td>\n",
       "      <td>0.000</td>\n",
       "      <td>{'type': 'Point', 'coordinates': [-87.722735, ...</td>\n",
       "      <td>30</td>\n",
       "      <td>27</td>\n",
       "      <td>21572</td>\n",
       "      <td>736</td>\n",
       "      <td>28</td>\n",
       "    </tr>\n",
       "    <tr>\n",
       "      <th>2</th>\n",
       "      <td>66264790f95b89d5bbfe4fb8</td>\n",
       "      <td>60645</td>\n",
       "      <td>2023-09-16T00:00:00.000</td>\n",
       "      <td>2023-2024</td>\n",
       "      <td>UpToDate_2023_2024</td>\n",
       "      <td>18+ yrs</td>\n",
       "      <td>36081</td>\n",
       "      <td>23</td>\n",
       "      <td>0.001</td>\n",
       "      <td>{'type': 'Point', 'coordinates': [-87.695049, ...</td>\n",
       "      <td>12</td>\n",
       "      <td>20</td>\n",
       "      <td>22528</td>\n",
       "      <td>42</td>\n",
       "      <td>50</td>\n",
       "    </tr>\n",
       "    <tr>\n",
       "      <th>3</th>\n",
       "      <td>66264790f95b89d5bbfe4fb9</td>\n",
       "      <td>60628</td>\n",
       "      <td>2023-09-16T00:00:00.000</td>\n",
       "      <td>2023-2024</td>\n",
       "      <td>UpToDate_2023_2024</td>\n",
       "      <td>All Ages</td>\n",
       "      <td>62832</td>\n",
       "      <td>0</td>\n",
       "      <td>0.000</td>\n",
       "      <td>{'type': 'Point', 'coordinates': [-87.621537, ...</td>\n",
       "      <td>19</td>\n",
       "      <td>45</td>\n",
       "      <td>21861</td>\n",
       "      <td>237</td>\n",
       "      <td>11</td>\n",
       "    </tr>\n",
       "    <tr>\n",
       "      <th>4</th>\n",
       "      <td>66264790f95b89d5bbfe4fba</td>\n",
       "      <td>60606</td>\n",
       "      <td>2023-09-16T00:00:00.000</td>\n",
       "      <td>2023-2024</td>\n",
       "      <td>UpToDate_2023_2024</td>\n",
       "      <td>18+ yrs</td>\n",
       "      <td>3624</td>\n",
       "      <td>7</td>\n",
       "      <td>0.002</td>\n",
       "      <td>{'type': 'Point', 'coordinates': [-87.63676, 4...</td>\n",
       "      <td>46</td>\n",
       "      <td>38</td>\n",
       "      <td>14914</td>\n",
       "      <td>92</td>\n",
       "      <td>42</td>\n",
       "    </tr>\n",
       "  </tbody>\n",
       "</table>\n",
       "</div>"
      ],
      "text/plain": [
       "                        _id    zip                 week_end     season  \\\n",
       "0  66264790f95b89d5bbfe4fb6  60628  2023-09-23T00:00:00.000  2023-2024   \n",
       "1  66264790f95b89d5bbfe4fb7  60624  2023-09-30T00:00:00.000  2023-2024   \n",
       "2  66264790f95b89d5bbfe4fb8  60645  2023-09-16T00:00:00.000  2023-2024   \n",
       "3  66264790f95b89d5bbfe4fb9  60628  2023-09-16T00:00:00.000  2023-2024   \n",
       "4  66264790f95b89d5bbfe4fba  60606  2023-09-16T00:00:00.000  2023-2024   \n",
       "\n",
       "              measure       age population count percent  \\\n",
       "0  UpToDate_2023_2024  0-17 yrs      13786     3   0.000   \n",
       "1  UpToDate_2023_2024  0-17 yrs      10082     1   0.000   \n",
       "2  UpToDate_2023_2024   18+ yrs      36081    23   0.001   \n",
       "3  UpToDate_2023_2024  All Ages      62832     0   0.000   \n",
       "4  UpToDate_2023_2024   18+ yrs       3624     7   0.002   \n",
       "\n",
       "                                   zip_code_centroid  \\\n",
       "0  {'type': 'Point', 'coordinates': [-87.621537, ...   \n",
       "1  {'type': 'Point', 'coordinates': [-87.722735, ...   \n",
       "2  {'type': 'Point', 'coordinates': [-87.695049, ...   \n",
       "3  {'type': 'Point', 'coordinates': [-87.621537, ...   \n",
       "4  {'type': 'Point', 'coordinates': [-87.63676, 4...   \n",
       "\n",
       "  :@computed_region_rpca_8um6 :@computed_region_vrxf_vc4k  \\\n",
       "0                          19                          45   \n",
       "1                          30                          27   \n",
       "2                          12                          20   \n",
       "3                          19                          45   \n",
       "4                          46                          38   \n",
       "\n",
       "  :@computed_region_6mkv_f3dw :@computed_region_bdys_3d7i  \\\n",
       "0                       21861                         237   \n",
       "1                       21572                         736   \n",
       "2                       22528                          42   \n",
       "3                       21861                         237   \n",
       "4                       14914                          92   \n",
       "\n",
       "  :@computed_region_8hcu_yrd4  \n",
       "0                          11  \n",
       "1                          28  \n",
       "2                          50  \n",
       "3                          11  \n",
       "4                          42  "
      ]
     },
     "execution_count": 5,
     "metadata": {},
     "output_type": "execute_result"
    }
   ],
   "source": [
    "df.head()"
   ]
  },
  {
   "cell_type": "markdown",
   "id": "50cf60c4",
   "metadata": {},
   "source": [
    "To print the last 5 rows of data"
   ]
  },
  {
   "cell_type": "code",
   "execution_count": 6,
   "id": "9a7dd7ba",
   "metadata": {},
   "outputs": [
    {
     "data": {
      "text/html": [
       "<div>\n",
       "<style scoped>\n",
       "    .dataframe tbody tr th:only-of-type {\n",
       "        vertical-align: middle;\n",
       "    }\n",
       "\n",
       "    .dataframe tbody tr th {\n",
       "        vertical-align: top;\n",
       "    }\n",
       "\n",
       "    .dataframe thead th {\n",
       "        text-align: right;\n",
       "    }\n",
       "</style>\n",
       "<table border=\"1\" class=\"dataframe\">\n",
       "  <thead>\n",
       "    <tr style=\"text-align: right;\">\n",
       "      <th></th>\n",
       "      <th>_id</th>\n",
       "      <th>zip</th>\n",
       "      <th>week_end</th>\n",
       "      <th>season</th>\n",
       "      <th>measure</th>\n",
       "      <th>age</th>\n",
       "      <th>population</th>\n",
       "      <th>count</th>\n",
       "      <th>percent</th>\n",
       "      <th>zip_code_centroid</th>\n",
       "      <th>:@computed_region_rpca_8um6</th>\n",
       "      <th>:@computed_region_vrxf_vc4k</th>\n",
       "      <th>:@computed_region_6mkv_f3dw</th>\n",
       "      <th>:@computed_region_bdys_3d7i</th>\n",
       "      <th>:@computed_region_8hcu_yrd4</th>\n",
       "    </tr>\n",
       "  </thead>\n",
       "  <tbody>\n",
       "    <tr>\n",
       "      <th>9295</th>\n",
       "      <td>66264790f95b89d5bbfe7405</td>\n",
       "      <td>60634</td>\n",
       "      <td>2024-04-13T00:00:00.000</td>\n",
       "      <td>2023-2024</td>\n",
       "      <td>UpToDate_2023_2024</td>\n",
       "      <td>18+ yrs</td>\n",
       "      <td>60436</td>\n",
       "      <td>8106</td>\n",
       "      <td>0.134</td>\n",
       "      <td>{'type': 'Point', 'coordinates': [-87.797373, ...</td>\n",
       "      <td>52</td>\n",
       "      <td>17</td>\n",
       "      <td>22254</td>\n",
       "      <td>396</td>\n",
       "      <td>38</td>\n",
       "    </tr>\n",
       "    <tr>\n",
       "      <th>9296</th>\n",
       "      <td>66264790f95b89d5bbfe7406</td>\n",
       "      <td>60611</td>\n",
       "      <td>2024-03-16T00:00:00.000</td>\n",
       "      <td>2023-2024</td>\n",
       "      <td>UpToDate_2023_2024</td>\n",
       "      <td>18-64 yrs</td>\n",
       "      <td>28052</td>\n",
       "      <td>5744</td>\n",
       "      <td>0.205</td>\n",
       "      <td>{'type': 'Point', 'coordinates': [-87.620291, ...</td>\n",
       "      <td>6</td>\n",
       "      <td>37</td>\n",
       "      <td>21182</td>\n",
       "      <td>158</td>\n",
       "      <td>2</td>\n",
       "    </tr>\n",
       "    <tr>\n",
       "      <th>9297</th>\n",
       "      <td>66264790f95b89d5bbfe7407</td>\n",
       "      <td>60619</td>\n",
       "      <td>2024-01-13T00:00:00.000</td>\n",
       "      <td>2023-2024</td>\n",
       "      <td>UpToDate_2023_2024</td>\n",
       "      <td>18-64 yrs</td>\n",
       "      <td>39250</td>\n",
       "      <td>2432</td>\n",
       "      <td>0.062</td>\n",
       "      <td>{'type': 'Point', 'coordinates': [-87.60569, 4...</td>\n",
       "      <td>61</td>\n",
       "      <td>40</td>\n",
       "      <td>21546</td>\n",
       "      <td>140</td>\n",
       "      <td>4</td>\n",
       "    </tr>\n",
       "    <tr>\n",
       "      <th>9298</th>\n",
       "      <td>66264790f95b89d5bbfe7408</td>\n",
       "      <td>60642</td>\n",
       "      <td>2023-12-16T00:00:00.000</td>\n",
       "      <td>2023-2024</td>\n",
       "      <td>UpToDate_2023_2024</td>\n",
       "      <td>18-64 yrs</td>\n",
       "      <td>18062</td>\n",
       "      <td>2684</td>\n",
       "      <td>0.149</td>\n",
       "      <td>{'type': 'Point', 'coordinates': [-87.657821, ...</td>\n",
       "      <td>49</td>\n",
       "      <td>25</td>\n",
       "      <td>22620</td>\n",
       "      <td>109</td>\n",
       "      <td>27</td>\n",
       "    </tr>\n",
       "    <tr>\n",
       "      <th>9299</th>\n",
       "      <td>66264790f95b89d5bbfe7409</td>\n",
       "      <td>60607</td>\n",
       "      <td>2023-11-18T00:00:00.000</td>\n",
       "      <td>2023-2024</td>\n",
       "      <td>UpToDate_2023_2024</td>\n",
       "      <td>18-64 yrs</td>\n",
       "      <td>26365</td>\n",
       "      <td>3173</td>\n",
       "      <td>0.12</td>\n",
       "      <td>{'type': 'Point', 'coordinates': [-87.652727, ...</td>\n",
       "      <td>44</td>\n",
       "      <td>29</td>\n",
       "      <td>14917</td>\n",
       "      <td>87</td>\n",
       "      <td>34</td>\n",
       "    </tr>\n",
       "  </tbody>\n",
       "</table>\n",
       "</div>"
      ],
      "text/plain": [
       "                           _id    zip                 week_end     season  \\\n",
       "9295  66264790f95b89d5bbfe7405  60634  2024-04-13T00:00:00.000  2023-2024   \n",
       "9296  66264790f95b89d5bbfe7406  60611  2024-03-16T00:00:00.000  2023-2024   \n",
       "9297  66264790f95b89d5bbfe7407  60619  2024-01-13T00:00:00.000  2023-2024   \n",
       "9298  66264790f95b89d5bbfe7408  60642  2023-12-16T00:00:00.000  2023-2024   \n",
       "9299  66264790f95b89d5bbfe7409  60607  2023-11-18T00:00:00.000  2023-2024   \n",
       "\n",
       "                 measure        age population count percent  \\\n",
       "9295  UpToDate_2023_2024    18+ yrs      60436  8106   0.134   \n",
       "9296  UpToDate_2023_2024  18-64 yrs      28052  5744   0.205   \n",
       "9297  UpToDate_2023_2024  18-64 yrs      39250  2432   0.062   \n",
       "9298  UpToDate_2023_2024  18-64 yrs      18062  2684   0.149   \n",
       "9299  UpToDate_2023_2024  18-64 yrs      26365  3173    0.12   \n",
       "\n",
       "                                      zip_code_centroid  \\\n",
       "9295  {'type': 'Point', 'coordinates': [-87.797373, ...   \n",
       "9296  {'type': 'Point', 'coordinates': [-87.620291, ...   \n",
       "9297  {'type': 'Point', 'coordinates': [-87.60569, 4...   \n",
       "9298  {'type': 'Point', 'coordinates': [-87.657821, ...   \n",
       "9299  {'type': 'Point', 'coordinates': [-87.652727, ...   \n",
       "\n",
       "     :@computed_region_rpca_8um6 :@computed_region_vrxf_vc4k  \\\n",
       "9295                          52                          17   \n",
       "9296                           6                          37   \n",
       "9297                          61                          40   \n",
       "9298                          49                          25   \n",
       "9299                          44                          29   \n",
       "\n",
       "     :@computed_region_6mkv_f3dw :@computed_region_bdys_3d7i  \\\n",
       "9295                       22254                         396   \n",
       "9296                       21182                         158   \n",
       "9297                       21546                         140   \n",
       "9298                       22620                         109   \n",
       "9299                       14917                          87   \n",
       "\n",
       "     :@computed_region_8hcu_yrd4  \n",
       "9295                          38  \n",
       "9296                           2  \n",
       "9297                           4  \n",
       "9298                          27  \n",
       "9299                          34  "
      ]
     },
     "execution_count": 6,
     "metadata": {},
     "output_type": "execute_result"
    }
   ],
   "source": [
    "df.tail()"
   ]
  },
  {
   "cell_type": "markdown",
   "id": "1ced4037",
   "metadata": {},
   "source": [
    "To get the summary of the dataset"
   ]
  },
  {
   "cell_type": "code",
   "execution_count": 7,
   "id": "a6353265",
   "metadata": {},
   "outputs": [
    {
     "data": {
      "text/html": [
       "<div>\n",
       "<style scoped>\n",
       "    .dataframe tbody tr th:only-of-type {\n",
       "        vertical-align: middle;\n",
       "    }\n",
       "\n",
       "    .dataframe tbody tr th {\n",
       "        vertical-align: top;\n",
       "    }\n",
       "\n",
       "    .dataframe thead th {\n",
       "        text-align: right;\n",
       "    }\n",
       "</style>\n",
       "<table border=\"1\" class=\"dataframe\">\n",
       "  <thead>\n",
       "    <tr style=\"text-align: right;\">\n",
       "      <th></th>\n",
       "      <th>_id</th>\n",
       "      <th>zip</th>\n",
       "      <th>week_end</th>\n",
       "      <th>season</th>\n",
       "      <th>measure</th>\n",
       "      <th>age</th>\n",
       "      <th>population</th>\n",
       "      <th>count</th>\n",
       "      <th>percent</th>\n",
       "      <th>zip_code_centroid</th>\n",
       "      <th>:@computed_region_rpca_8um6</th>\n",
       "      <th>:@computed_region_vrxf_vc4k</th>\n",
       "      <th>:@computed_region_6mkv_f3dw</th>\n",
       "      <th>:@computed_region_bdys_3d7i</th>\n",
       "      <th>:@computed_region_8hcu_yrd4</th>\n",
       "    </tr>\n",
       "  </thead>\n",
       "  <tbody>\n",
       "    <tr>\n",
       "      <th>count</th>\n",
       "      <td>9300</td>\n",
       "      <td>9300</td>\n",
       "      <td>9300</td>\n",
       "      <td>9300</td>\n",
       "      <td>9300</td>\n",
       "      <td>9300</td>\n",
       "      <td>8990</td>\n",
       "      <td>9300</td>\n",
       "      <td>8990</td>\n",
       "      <td>9145</td>\n",
       "      <td>8835</td>\n",
       "      <td>8835</td>\n",
       "      <td>9145</td>\n",
       "      <td>8835</td>\n",
       "      <td>8835</td>\n",
       "    </tr>\n",
       "    <tr>\n",
       "      <th>unique</th>\n",
       "      <td>9300</td>\n",
       "      <td>60</td>\n",
       "      <td>31</td>\n",
       "      <td>1</td>\n",
       "      <td>1</td>\n",
       "      <td>5</td>\n",
       "      <td>288</td>\n",
       "      <td>5009</td>\n",
       "      <td>637</td>\n",
       "      <td>59</td>\n",
       "      <td>57</td>\n",
       "      <td>44</td>\n",
       "      <td>59</td>\n",
       "      <td>55</td>\n",
       "      <td>38</td>\n",
       "    </tr>\n",
       "    <tr>\n",
       "      <th>top</th>\n",
       "      <td>66264790f95b89d5bbfe4fb6</td>\n",
       "      <td>60628</td>\n",
       "      <td>2023-09-23T00:00:00.000</td>\n",
       "      <td>2023-2024</td>\n",
       "      <td>UpToDate_2023_2024</td>\n",
       "      <td>0-17 yrs</td>\n",
       "      <td>10082</td>\n",
       "      <td>0</td>\n",
       "      <td>0.000</td>\n",
       "      <td>{'type': 'Point', 'coordinates': [-87.621537, ...</td>\n",
       "      <td>19</td>\n",
       "      <td>38</td>\n",
       "      <td>21861</td>\n",
       "      <td>92</td>\n",
       "      <td>34</td>\n",
       "    </tr>\n",
       "    <tr>\n",
       "      <th>freq</th>\n",
       "      <td>1</td>\n",
       "      <td>155</td>\n",
       "      <td>300</td>\n",
       "      <td>9300</td>\n",
       "      <td>9300</td>\n",
       "      <td>1860</td>\n",
       "      <td>62</td>\n",
       "      <td>118</td>\n",
       "      <td>183</td>\n",
       "      <td>155</td>\n",
       "      <td>155</td>\n",
       "      <td>930</td>\n",
       "      <td>155</td>\n",
       "      <td>465</td>\n",
       "      <td>620</td>\n",
       "    </tr>\n",
       "  </tbody>\n",
       "</table>\n",
       "</div>"
      ],
      "text/plain": [
       "                             _id    zip                 week_end     season  \\\n",
       "count                       9300   9300                     9300       9300   \n",
       "unique                      9300     60                       31          1   \n",
       "top     66264790f95b89d5bbfe4fb6  60628  2023-09-23T00:00:00.000  2023-2024   \n",
       "freq                           1    155                      300       9300   \n",
       "\n",
       "                   measure       age population count percent  \\\n",
       "count                 9300      9300       8990  9300    8990   \n",
       "unique                   1         5        288  5009     637   \n",
       "top     UpToDate_2023_2024  0-17 yrs      10082     0   0.000   \n",
       "freq                  9300      1860         62   118     183   \n",
       "\n",
       "                                        zip_code_centroid  \\\n",
       "count                                                9145   \n",
       "unique                                                 59   \n",
       "top     {'type': 'Point', 'coordinates': [-87.621537, ...   \n",
       "freq                                                  155   \n",
       "\n",
       "       :@computed_region_rpca_8um6 :@computed_region_vrxf_vc4k  \\\n",
       "count                         8835                        8835   \n",
       "unique                          57                          44   \n",
       "top                             19                          38   \n",
       "freq                           155                         930   \n",
       "\n",
       "       :@computed_region_6mkv_f3dw :@computed_region_bdys_3d7i  \\\n",
       "count                         9145                        8835   \n",
       "unique                          59                          55   \n",
       "top                          21861                          92   \n",
       "freq                           155                         465   \n",
       "\n",
       "       :@computed_region_8hcu_yrd4  \n",
       "count                         8835  \n",
       "unique                          38  \n",
       "top                             34  \n",
       "freq                           620  "
      ]
     },
     "execution_count": 7,
     "metadata": {},
     "output_type": "execute_result"
    }
   ],
   "source": [
    "df.describe(include='all')"
   ]
  },
  {
   "cell_type": "markdown",
   "id": "a5a38cfe",
   "metadata": {},
   "source": [
    "To check for missing values"
   ]
  },
  {
   "cell_type": "code",
   "execution_count": 8,
   "id": "b8e73278",
   "metadata": {},
   "outputs": [
    {
     "data": {
      "text/html": [
       "<div>\n",
       "<style scoped>\n",
       "    .dataframe tbody tr th:only-of-type {\n",
       "        vertical-align: middle;\n",
       "    }\n",
       "\n",
       "    .dataframe tbody tr th {\n",
       "        vertical-align: top;\n",
       "    }\n",
       "\n",
       "    .dataframe thead th {\n",
       "        text-align: right;\n",
       "    }\n",
       "</style>\n",
       "<table border=\"1\" class=\"dataframe\">\n",
       "  <thead>\n",
       "    <tr style=\"text-align: right;\">\n",
       "      <th></th>\n",
       "      <th>_id</th>\n",
       "      <th>zip</th>\n",
       "      <th>week_end</th>\n",
       "      <th>season</th>\n",
       "      <th>measure</th>\n",
       "      <th>age</th>\n",
       "      <th>population</th>\n",
       "      <th>count</th>\n",
       "      <th>percent</th>\n",
       "      <th>zip_code_centroid</th>\n",
       "      <th>:@computed_region_rpca_8um6</th>\n",
       "      <th>:@computed_region_vrxf_vc4k</th>\n",
       "      <th>:@computed_region_6mkv_f3dw</th>\n",
       "      <th>:@computed_region_bdys_3d7i</th>\n",
       "      <th>:@computed_region_8hcu_yrd4</th>\n",
       "    </tr>\n",
       "  </thead>\n",
       "  <tbody>\n",
       "    <tr>\n",
       "      <th>0</th>\n",
       "      <td>False</td>\n",
       "      <td>False</td>\n",
       "      <td>False</td>\n",
       "      <td>False</td>\n",
       "      <td>False</td>\n",
       "      <td>False</td>\n",
       "      <td>False</td>\n",
       "      <td>False</td>\n",
       "      <td>False</td>\n",
       "      <td>False</td>\n",
       "      <td>False</td>\n",
       "      <td>False</td>\n",
       "      <td>False</td>\n",
       "      <td>False</td>\n",
       "      <td>False</td>\n",
       "    </tr>\n",
       "    <tr>\n",
       "      <th>1</th>\n",
       "      <td>False</td>\n",
       "      <td>False</td>\n",
       "      <td>False</td>\n",
       "      <td>False</td>\n",
       "      <td>False</td>\n",
       "      <td>False</td>\n",
       "      <td>False</td>\n",
       "      <td>False</td>\n",
       "      <td>False</td>\n",
       "      <td>False</td>\n",
       "      <td>False</td>\n",
       "      <td>False</td>\n",
       "      <td>False</td>\n",
       "      <td>False</td>\n",
       "      <td>False</td>\n",
       "    </tr>\n",
       "    <tr>\n",
       "      <th>2</th>\n",
       "      <td>False</td>\n",
       "      <td>False</td>\n",
       "      <td>False</td>\n",
       "      <td>False</td>\n",
       "      <td>False</td>\n",
       "      <td>False</td>\n",
       "      <td>False</td>\n",
       "      <td>False</td>\n",
       "      <td>False</td>\n",
       "      <td>False</td>\n",
       "      <td>False</td>\n",
       "      <td>False</td>\n",
       "      <td>False</td>\n",
       "      <td>False</td>\n",
       "      <td>False</td>\n",
       "    </tr>\n",
       "    <tr>\n",
       "      <th>3</th>\n",
       "      <td>False</td>\n",
       "      <td>False</td>\n",
       "      <td>False</td>\n",
       "      <td>False</td>\n",
       "      <td>False</td>\n",
       "      <td>False</td>\n",
       "      <td>False</td>\n",
       "      <td>False</td>\n",
       "      <td>False</td>\n",
       "      <td>False</td>\n",
       "      <td>False</td>\n",
       "      <td>False</td>\n",
       "      <td>False</td>\n",
       "      <td>False</td>\n",
       "      <td>False</td>\n",
       "    </tr>\n",
       "    <tr>\n",
       "      <th>4</th>\n",
       "      <td>False</td>\n",
       "      <td>False</td>\n",
       "      <td>False</td>\n",
       "      <td>False</td>\n",
       "      <td>False</td>\n",
       "      <td>False</td>\n",
       "      <td>False</td>\n",
       "      <td>False</td>\n",
       "      <td>False</td>\n",
       "      <td>False</td>\n",
       "      <td>False</td>\n",
       "      <td>False</td>\n",
       "      <td>False</td>\n",
       "      <td>False</td>\n",
       "      <td>False</td>\n",
       "    </tr>\n",
       "    <tr>\n",
       "      <th>...</th>\n",
       "      <td>...</td>\n",
       "      <td>...</td>\n",
       "      <td>...</td>\n",
       "      <td>...</td>\n",
       "      <td>...</td>\n",
       "      <td>...</td>\n",
       "      <td>...</td>\n",
       "      <td>...</td>\n",
       "      <td>...</td>\n",
       "      <td>...</td>\n",
       "      <td>...</td>\n",
       "      <td>...</td>\n",
       "      <td>...</td>\n",
       "      <td>...</td>\n",
       "      <td>...</td>\n",
       "    </tr>\n",
       "    <tr>\n",
       "      <th>9295</th>\n",
       "      <td>False</td>\n",
       "      <td>False</td>\n",
       "      <td>False</td>\n",
       "      <td>False</td>\n",
       "      <td>False</td>\n",
       "      <td>False</td>\n",
       "      <td>False</td>\n",
       "      <td>False</td>\n",
       "      <td>False</td>\n",
       "      <td>False</td>\n",
       "      <td>False</td>\n",
       "      <td>False</td>\n",
       "      <td>False</td>\n",
       "      <td>False</td>\n",
       "      <td>False</td>\n",
       "    </tr>\n",
       "    <tr>\n",
       "      <th>9296</th>\n",
       "      <td>False</td>\n",
       "      <td>False</td>\n",
       "      <td>False</td>\n",
       "      <td>False</td>\n",
       "      <td>False</td>\n",
       "      <td>False</td>\n",
       "      <td>False</td>\n",
       "      <td>False</td>\n",
       "      <td>False</td>\n",
       "      <td>False</td>\n",
       "      <td>False</td>\n",
       "      <td>False</td>\n",
       "      <td>False</td>\n",
       "      <td>False</td>\n",
       "      <td>False</td>\n",
       "    </tr>\n",
       "    <tr>\n",
       "      <th>9297</th>\n",
       "      <td>False</td>\n",
       "      <td>False</td>\n",
       "      <td>False</td>\n",
       "      <td>False</td>\n",
       "      <td>False</td>\n",
       "      <td>False</td>\n",
       "      <td>False</td>\n",
       "      <td>False</td>\n",
       "      <td>False</td>\n",
       "      <td>False</td>\n",
       "      <td>False</td>\n",
       "      <td>False</td>\n",
       "      <td>False</td>\n",
       "      <td>False</td>\n",
       "      <td>False</td>\n",
       "    </tr>\n",
       "    <tr>\n",
       "      <th>9298</th>\n",
       "      <td>False</td>\n",
       "      <td>False</td>\n",
       "      <td>False</td>\n",
       "      <td>False</td>\n",
       "      <td>False</td>\n",
       "      <td>False</td>\n",
       "      <td>False</td>\n",
       "      <td>False</td>\n",
       "      <td>False</td>\n",
       "      <td>False</td>\n",
       "      <td>False</td>\n",
       "      <td>False</td>\n",
       "      <td>False</td>\n",
       "      <td>False</td>\n",
       "      <td>False</td>\n",
       "    </tr>\n",
       "    <tr>\n",
       "      <th>9299</th>\n",
       "      <td>False</td>\n",
       "      <td>False</td>\n",
       "      <td>False</td>\n",
       "      <td>False</td>\n",
       "      <td>False</td>\n",
       "      <td>False</td>\n",
       "      <td>False</td>\n",
       "      <td>False</td>\n",
       "      <td>False</td>\n",
       "      <td>False</td>\n",
       "      <td>False</td>\n",
       "      <td>False</td>\n",
       "      <td>False</td>\n",
       "      <td>False</td>\n",
       "      <td>False</td>\n",
       "    </tr>\n",
       "  </tbody>\n",
       "</table>\n",
       "<p>9300 rows × 15 columns</p>\n",
       "</div>"
      ],
      "text/plain": [
       "        _id    zip  week_end  season  measure    age  population  count  \\\n",
       "0     False  False     False   False    False  False       False  False   \n",
       "1     False  False     False   False    False  False       False  False   \n",
       "2     False  False     False   False    False  False       False  False   \n",
       "3     False  False     False   False    False  False       False  False   \n",
       "4     False  False     False   False    False  False       False  False   \n",
       "...     ...    ...       ...     ...      ...    ...         ...    ...   \n",
       "9295  False  False     False   False    False  False       False  False   \n",
       "9296  False  False     False   False    False  False       False  False   \n",
       "9297  False  False     False   False    False  False       False  False   \n",
       "9298  False  False     False   False    False  False       False  False   \n",
       "9299  False  False     False   False    False  False       False  False   \n",
       "\n",
       "      percent  zip_code_centroid  :@computed_region_rpca_8um6  \\\n",
       "0       False              False                        False   \n",
       "1       False              False                        False   \n",
       "2       False              False                        False   \n",
       "3       False              False                        False   \n",
       "4       False              False                        False   \n",
       "...       ...                ...                          ...   \n",
       "9295    False              False                        False   \n",
       "9296    False              False                        False   \n",
       "9297    False              False                        False   \n",
       "9298    False              False                        False   \n",
       "9299    False              False                        False   \n",
       "\n",
       "      :@computed_region_vrxf_vc4k  :@computed_region_6mkv_f3dw  \\\n",
       "0                           False                        False   \n",
       "1                           False                        False   \n",
       "2                           False                        False   \n",
       "3                           False                        False   \n",
       "4                           False                        False   \n",
       "...                           ...                          ...   \n",
       "9295                        False                        False   \n",
       "9296                        False                        False   \n",
       "9297                        False                        False   \n",
       "9298                        False                        False   \n",
       "9299                        False                        False   \n",
       "\n",
       "      :@computed_region_bdys_3d7i  :@computed_region_8hcu_yrd4  \n",
       "0                           False                        False  \n",
       "1                           False                        False  \n",
       "2                           False                        False  \n",
       "3                           False                        False  \n",
       "4                           False                        False  \n",
       "...                           ...                          ...  \n",
       "9295                        False                        False  \n",
       "9296                        False                        False  \n",
       "9297                        False                        False  \n",
       "9298                        False                        False  \n",
       "9299                        False                        False  \n",
       "\n",
       "[9300 rows x 15 columns]"
      ]
     },
     "execution_count": 8,
     "metadata": {},
     "output_type": "execute_result"
    }
   ],
   "source": [
    "df.isnull()"
   ]
  },
  {
   "cell_type": "code",
   "execution_count": 9,
   "id": "c6767a2b",
   "metadata": {},
   "outputs": [
    {
     "name": "stdout",
     "output_type": "stream",
     "text": [
      "                           _id    zip                 week_end     season  \\\n",
      "7     66264790f95b89d5bbfe4fbd  60707  2023-09-23T00:00:00.000  2023-2024   \n",
      "9     66264790f95b89d5bbfe4fbf  60827  2023-10-21T00:00:00.000  2023-2024   \n",
      "13    66264790f95b89d5bbfe4fc3  60827  2023-09-16T00:00:00.000  2023-2024   \n",
      "15    66264790f95b89d5bbfe4fc5  60827  2023-10-14T00:00:00.000  2023-2024   \n",
      "19    66264790f95b89d5bbfe4fc9  60827  2023-09-23T00:00:00.000  2023-2024   \n",
      "...                        ...    ...                      ...        ...   \n",
      "9245  66264790f95b89d5bbfe73d3  60707  2024-03-02T00:00:00.000  2023-2024   \n",
      "9258  66264790f95b89d5bbfe73e0  60707  2024-03-02T00:00:00.000  2023-2024   \n",
      "9264  66264790f95b89d5bbfe73e6  60707  2023-12-09T00:00:00.000  2023-2024   \n",
      "9266  66264790f95b89d5bbfe73e8  60827  2023-12-02T00:00:00.000  2023-2024   \n",
      "9268  66264790f95b89d5bbfe73ea  60707  2023-11-18T00:00:00.000  2023-2024   \n",
      "\n",
      "                 measure        age population count percent  \\\n",
      "7     UpToDate_2023_2024   0-17 yrs       8670     0   0.000   \n",
      "9     UpToDate_2023_2024   0-17 yrs       6999     3   0.000   \n",
      "13    UpToDate_2023_2024   All Ages      24936     0   0.000   \n",
      "15    UpToDate_2023_2024   0-17 yrs       6999     2   0.000   \n",
      "19    UpToDate_2023_2024  18-64 yrs      14834     2   0.000   \n",
      "...                  ...        ...        ...   ...     ...   \n",
      "9245  UpToDate_2023_2024  18-64 yrs      27375   530   0.019   \n",
      "9258  UpToDate_2023_2024   All Ages      43241  1185   0.027   \n",
      "9264  UpToDate_2023_2024   All Ages      43241   874    0.02   \n",
      "9266  UpToDate_2023_2024  18-64 yrs      14834    57   0.004   \n",
      "9268  UpToDate_2023_2024   0-17 yrs       8670    48   0.006   \n",
      "\n",
      "                                      zip_code_centroid  \\\n",
      "7     {'type': 'Point', 'coordinates': [-87.808283, ...   \n",
      "9     {'type': 'Point', 'coordinates': [-87.633087, ...   \n",
      "13    {'type': 'Point', 'coordinates': [-87.633087, ...   \n",
      "15    {'type': 'Point', 'coordinates': [-87.633087, ...   \n",
      "19    {'type': 'Point', 'coordinates': [-87.633087, ...   \n",
      "...                                                 ...   \n",
      "9245  {'type': 'Point', 'coordinates': [-87.808283, ...   \n",
      "9258  {'type': 'Point', 'coordinates': [-87.808283, ...   \n",
      "9264  {'type': 'Point', 'coordinates': [-87.808283, ...   \n",
      "9266  {'type': 'Point', 'coordinates': [-87.633087, ...   \n",
      "9268  {'type': 'Point', 'coordinates': [-87.808283, ...   \n",
      "\n",
      "     :@computed_region_rpca_8um6 :@computed_region_vrxf_vc4k  \\\n",
      "7                            NaN                         NaN   \n",
      "9                            NaN                         NaN   \n",
      "13                           NaN                         NaN   \n",
      "15                           NaN                         NaN   \n",
      "19                           NaN                         NaN   \n",
      "...                          ...                         ...   \n",
      "9245                         NaN                         NaN   \n",
      "9258                         NaN                         NaN   \n",
      "9264                         NaN                         NaN   \n",
      "9266                         NaN                         NaN   \n",
      "9268                         NaN                         NaN   \n",
      "\n",
      "     :@computed_region_6mkv_f3dw :@computed_region_bdys_3d7i  \\\n",
      "7                           4454                         NaN   \n",
      "9                           4460                         NaN   \n",
      "13                          4460                         NaN   \n",
      "15                          4460                         NaN   \n",
      "19                          4460                         NaN   \n",
      "...                          ...                         ...   \n",
      "9245                        4454                         NaN   \n",
      "9258                        4454                         NaN   \n",
      "9264                        4454                         NaN   \n",
      "9266                        4460                         NaN   \n",
      "9268                        4454                         NaN   \n",
      "\n",
      "     :@computed_region_8hcu_yrd4  \n",
      "7                            NaN  \n",
      "9                            NaN  \n",
      "13                           NaN  \n",
      "15                           NaN  \n",
      "19                           NaN  \n",
      "...                          ...  \n",
      "9245                         NaN  \n",
      "9258                         NaN  \n",
      "9264                         NaN  \n",
      "9266                         NaN  \n",
      "9268                         NaN  \n",
      "\n",
      "[620 rows x 15 columns]\n"
     ]
    }
   ],
   "source": [
    "null_values=df.isnull().any(axis=1) #to identify rows with null values\n",
    "null_rows=df[null_values] #to get the rows with null values\n",
    "print(null_rows)"
   ]
  },
  {
   "cell_type": "code",
   "execution_count": 10,
   "id": "47ae8b48",
   "metadata": {},
   "outputs": [
    {
     "data": {
      "text/plain": [
       "_id                              0\n",
       "zip                              0\n",
       "week_end                         0\n",
       "season                           0\n",
       "measure                          0\n",
       "age                              0\n",
       "population                     310\n",
       "count                            0\n",
       "percent                        310\n",
       "zip_code_centroid              155\n",
       ":@computed_region_rpca_8um6    465\n",
       ":@computed_region_vrxf_vc4k    465\n",
       ":@computed_region_6mkv_f3dw    155\n",
       ":@computed_region_bdys_3d7i    465\n",
       ":@computed_region_8hcu_yrd4    465\n",
       "dtype: int64"
      ]
     },
     "execution_count": 10,
     "metadata": {},
     "output_type": "execute_result"
    }
   ],
   "source": [
    "df.isnull().sum() #to get the count of null values in each column"
   ]
  },
  {
   "cell_type": "markdown",
   "id": "b85b9c9b",
   "metadata": {},
   "source": [
    "# Preprocessing"
   ]
  },
  {
   "cell_type": "markdown",
   "id": "ab4cc314",
   "metadata": {},
   "source": [
    "Dropping unwanted columns"
   ]
  },
  {
   "cell_type": "code",
   "execution_count": 11,
   "id": "b4996d5d",
   "metadata": {},
   "outputs": [],
   "source": [
    "unwanted=['_id', 'week_end', 'measure', 'zip_code_centroid']\n",
    "df.drop(columns=unwanted, inplace=True)"
   ]
  },
  {
   "cell_type": "code",
   "execution_count": 12,
   "id": "bf9794e9",
   "metadata": {},
   "outputs": [
    {
     "data": {
      "text/html": [
       "<div>\n",
       "<style scoped>\n",
       "    .dataframe tbody tr th:only-of-type {\n",
       "        vertical-align: middle;\n",
       "    }\n",
       "\n",
       "    .dataframe tbody tr th {\n",
       "        vertical-align: top;\n",
       "    }\n",
       "\n",
       "    .dataframe thead th {\n",
       "        text-align: right;\n",
       "    }\n",
       "</style>\n",
       "<table border=\"1\" class=\"dataframe\">\n",
       "  <thead>\n",
       "    <tr style=\"text-align: right;\">\n",
       "      <th></th>\n",
       "      <th>zip</th>\n",
       "      <th>season</th>\n",
       "      <th>age</th>\n",
       "      <th>population</th>\n",
       "      <th>count</th>\n",
       "      <th>percent</th>\n",
       "      <th>:@computed_region_rpca_8um6</th>\n",
       "      <th>:@computed_region_vrxf_vc4k</th>\n",
       "      <th>:@computed_region_6mkv_f3dw</th>\n",
       "      <th>:@computed_region_bdys_3d7i</th>\n",
       "      <th>:@computed_region_8hcu_yrd4</th>\n",
       "    </tr>\n",
       "  </thead>\n",
       "  <tbody>\n",
       "    <tr>\n",
       "      <th>0</th>\n",
       "      <td>60628</td>\n",
       "      <td>2023-2024</td>\n",
       "      <td>0-17 yrs</td>\n",
       "      <td>13786</td>\n",
       "      <td>3</td>\n",
       "      <td>0.000</td>\n",
       "      <td>19</td>\n",
       "      <td>45</td>\n",
       "      <td>21861</td>\n",
       "      <td>237</td>\n",
       "      <td>11</td>\n",
       "    </tr>\n",
       "    <tr>\n",
       "      <th>1</th>\n",
       "      <td>60624</td>\n",
       "      <td>2023-2024</td>\n",
       "      <td>0-17 yrs</td>\n",
       "      <td>10082</td>\n",
       "      <td>1</td>\n",
       "      <td>0.000</td>\n",
       "      <td>30</td>\n",
       "      <td>27</td>\n",
       "      <td>21572</td>\n",
       "      <td>736</td>\n",
       "      <td>28</td>\n",
       "    </tr>\n",
       "    <tr>\n",
       "      <th>2</th>\n",
       "      <td>60645</td>\n",
       "      <td>2023-2024</td>\n",
       "      <td>18+ yrs</td>\n",
       "      <td>36081</td>\n",
       "      <td>23</td>\n",
       "      <td>0.001</td>\n",
       "      <td>12</td>\n",
       "      <td>20</td>\n",
       "      <td>22528</td>\n",
       "      <td>42</td>\n",
       "      <td>50</td>\n",
       "    </tr>\n",
       "    <tr>\n",
       "      <th>3</th>\n",
       "      <td>60628</td>\n",
       "      <td>2023-2024</td>\n",
       "      <td>All Ages</td>\n",
       "      <td>62832</td>\n",
       "      <td>0</td>\n",
       "      <td>0.000</td>\n",
       "      <td>19</td>\n",
       "      <td>45</td>\n",
       "      <td>21861</td>\n",
       "      <td>237</td>\n",
       "      <td>11</td>\n",
       "    </tr>\n",
       "    <tr>\n",
       "      <th>4</th>\n",
       "      <td>60606</td>\n",
       "      <td>2023-2024</td>\n",
       "      <td>18+ yrs</td>\n",
       "      <td>3624</td>\n",
       "      <td>7</td>\n",
       "      <td>0.002</td>\n",
       "      <td>46</td>\n",
       "      <td>38</td>\n",
       "      <td>14914</td>\n",
       "      <td>92</td>\n",
       "      <td>42</td>\n",
       "    </tr>\n",
       "    <tr>\n",
       "      <th>...</th>\n",
       "      <td>...</td>\n",
       "      <td>...</td>\n",
       "      <td>...</td>\n",
       "      <td>...</td>\n",
       "      <td>...</td>\n",
       "      <td>...</td>\n",
       "      <td>...</td>\n",
       "      <td>...</td>\n",
       "      <td>...</td>\n",
       "      <td>...</td>\n",
       "      <td>...</td>\n",
       "    </tr>\n",
       "    <tr>\n",
       "      <th>9295</th>\n",
       "      <td>60634</td>\n",
       "      <td>2023-2024</td>\n",
       "      <td>18+ yrs</td>\n",
       "      <td>60436</td>\n",
       "      <td>8106</td>\n",
       "      <td>0.134</td>\n",
       "      <td>52</td>\n",
       "      <td>17</td>\n",
       "      <td>22254</td>\n",
       "      <td>396</td>\n",
       "      <td>38</td>\n",
       "    </tr>\n",
       "    <tr>\n",
       "      <th>9296</th>\n",
       "      <td>60611</td>\n",
       "      <td>2023-2024</td>\n",
       "      <td>18-64 yrs</td>\n",
       "      <td>28052</td>\n",
       "      <td>5744</td>\n",
       "      <td>0.205</td>\n",
       "      <td>6</td>\n",
       "      <td>37</td>\n",
       "      <td>21182</td>\n",
       "      <td>158</td>\n",
       "      <td>2</td>\n",
       "    </tr>\n",
       "    <tr>\n",
       "      <th>9297</th>\n",
       "      <td>60619</td>\n",
       "      <td>2023-2024</td>\n",
       "      <td>18-64 yrs</td>\n",
       "      <td>39250</td>\n",
       "      <td>2432</td>\n",
       "      <td>0.062</td>\n",
       "      <td>61</td>\n",
       "      <td>40</td>\n",
       "      <td>21546</td>\n",
       "      <td>140</td>\n",
       "      <td>4</td>\n",
       "    </tr>\n",
       "    <tr>\n",
       "      <th>9298</th>\n",
       "      <td>60642</td>\n",
       "      <td>2023-2024</td>\n",
       "      <td>18-64 yrs</td>\n",
       "      <td>18062</td>\n",
       "      <td>2684</td>\n",
       "      <td>0.149</td>\n",
       "      <td>49</td>\n",
       "      <td>25</td>\n",
       "      <td>22620</td>\n",
       "      <td>109</td>\n",
       "      <td>27</td>\n",
       "    </tr>\n",
       "    <tr>\n",
       "      <th>9299</th>\n",
       "      <td>60607</td>\n",
       "      <td>2023-2024</td>\n",
       "      <td>18-64 yrs</td>\n",
       "      <td>26365</td>\n",
       "      <td>3173</td>\n",
       "      <td>0.12</td>\n",
       "      <td>44</td>\n",
       "      <td>29</td>\n",
       "      <td>14917</td>\n",
       "      <td>87</td>\n",
       "      <td>34</td>\n",
       "    </tr>\n",
       "  </tbody>\n",
       "</table>\n",
       "<p>9300 rows × 11 columns</p>\n",
       "</div>"
      ],
      "text/plain": [
       "        zip     season        age population count percent  \\\n",
       "0     60628  2023-2024   0-17 yrs      13786     3   0.000   \n",
       "1     60624  2023-2024   0-17 yrs      10082     1   0.000   \n",
       "2     60645  2023-2024    18+ yrs      36081    23   0.001   \n",
       "3     60628  2023-2024   All Ages      62832     0   0.000   \n",
       "4     60606  2023-2024    18+ yrs       3624     7   0.002   \n",
       "...     ...        ...        ...        ...   ...     ...   \n",
       "9295  60634  2023-2024    18+ yrs      60436  8106   0.134   \n",
       "9296  60611  2023-2024  18-64 yrs      28052  5744   0.205   \n",
       "9297  60619  2023-2024  18-64 yrs      39250  2432   0.062   \n",
       "9298  60642  2023-2024  18-64 yrs      18062  2684   0.149   \n",
       "9299  60607  2023-2024  18-64 yrs      26365  3173    0.12   \n",
       "\n",
       "     :@computed_region_rpca_8um6 :@computed_region_vrxf_vc4k  \\\n",
       "0                             19                          45   \n",
       "1                             30                          27   \n",
       "2                             12                          20   \n",
       "3                             19                          45   \n",
       "4                             46                          38   \n",
       "...                          ...                         ...   \n",
       "9295                          52                          17   \n",
       "9296                           6                          37   \n",
       "9297                          61                          40   \n",
       "9298                          49                          25   \n",
       "9299                          44                          29   \n",
       "\n",
       "     :@computed_region_6mkv_f3dw :@computed_region_bdys_3d7i  \\\n",
       "0                          21861                         237   \n",
       "1                          21572                         736   \n",
       "2                          22528                          42   \n",
       "3                          21861                         237   \n",
       "4                          14914                          92   \n",
       "...                          ...                         ...   \n",
       "9295                       22254                         396   \n",
       "9296                       21182                         158   \n",
       "9297                       21546                         140   \n",
       "9298                       22620                         109   \n",
       "9299                       14917                          87   \n",
       "\n",
       "     :@computed_region_8hcu_yrd4  \n",
       "0                             11  \n",
       "1                             28  \n",
       "2                             50  \n",
       "3                             11  \n",
       "4                             42  \n",
       "...                          ...  \n",
       "9295                          38  \n",
       "9296                           2  \n",
       "9297                           4  \n",
       "9298                          27  \n",
       "9299                          34  \n",
       "\n",
       "[9300 rows x 11 columns]"
      ]
     },
     "execution_count": 12,
     "metadata": {},
     "output_type": "execute_result"
    }
   ],
   "source": [
    "df"
   ]
  },
  {
   "cell_type": "code",
   "execution_count": 13,
   "id": "d55c2996",
   "metadata": {},
   "outputs": [],
   "source": [
    "unwanted=[':@computed_region_rpca_8um6', ':@computed_region_vrxf_vc4k', ':@computed_region_6mkv_f3dw', ':@computed_region_bdys_3d7i', ':@computed_region_8hcu_yrd4']\n",
    "df.drop(columns=unwanted, inplace=True)"
   ]
  },
  {
   "cell_type": "code",
   "execution_count": 14,
   "id": "99dacdaf",
   "metadata": {},
   "outputs": [
    {
     "data": {
      "text/html": [
       "<div>\n",
       "<style scoped>\n",
       "    .dataframe tbody tr th:only-of-type {\n",
       "        vertical-align: middle;\n",
       "    }\n",
       "\n",
       "    .dataframe tbody tr th {\n",
       "        vertical-align: top;\n",
       "    }\n",
       "\n",
       "    .dataframe thead th {\n",
       "        text-align: right;\n",
       "    }\n",
       "</style>\n",
       "<table border=\"1\" class=\"dataframe\">\n",
       "  <thead>\n",
       "    <tr style=\"text-align: right;\">\n",
       "      <th></th>\n",
       "      <th>zip</th>\n",
       "      <th>season</th>\n",
       "      <th>age</th>\n",
       "      <th>population</th>\n",
       "      <th>count</th>\n",
       "      <th>percent</th>\n",
       "    </tr>\n",
       "  </thead>\n",
       "  <tbody>\n",
       "    <tr>\n",
       "      <th>0</th>\n",
       "      <td>60628</td>\n",
       "      <td>2023-2024</td>\n",
       "      <td>0-17 yrs</td>\n",
       "      <td>13786</td>\n",
       "      <td>3</td>\n",
       "      <td>0.000</td>\n",
       "    </tr>\n",
       "    <tr>\n",
       "      <th>1</th>\n",
       "      <td>60624</td>\n",
       "      <td>2023-2024</td>\n",
       "      <td>0-17 yrs</td>\n",
       "      <td>10082</td>\n",
       "      <td>1</td>\n",
       "      <td>0.000</td>\n",
       "    </tr>\n",
       "    <tr>\n",
       "      <th>2</th>\n",
       "      <td>60645</td>\n",
       "      <td>2023-2024</td>\n",
       "      <td>18+ yrs</td>\n",
       "      <td>36081</td>\n",
       "      <td>23</td>\n",
       "      <td>0.001</td>\n",
       "    </tr>\n",
       "    <tr>\n",
       "      <th>3</th>\n",
       "      <td>60628</td>\n",
       "      <td>2023-2024</td>\n",
       "      <td>All Ages</td>\n",
       "      <td>62832</td>\n",
       "      <td>0</td>\n",
       "      <td>0.000</td>\n",
       "    </tr>\n",
       "    <tr>\n",
       "      <th>4</th>\n",
       "      <td>60606</td>\n",
       "      <td>2023-2024</td>\n",
       "      <td>18+ yrs</td>\n",
       "      <td>3624</td>\n",
       "      <td>7</td>\n",
       "      <td>0.002</td>\n",
       "    </tr>\n",
       "    <tr>\n",
       "      <th>...</th>\n",
       "      <td>...</td>\n",
       "      <td>...</td>\n",
       "      <td>...</td>\n",
       "      <td>...</td>\n",
       "      <td>...</td>\n",
       "      <td>...</td>\n",
       "    </tr>\n",
       "    <tr>\n",
       "      <th>9295</th>\n",
       "      <td>60634</td>\n",
       "      <td>2023-2024</td>\n",
       "      <td>18+ yrs</td>\n",
       "      <td>60436</td>\n",
       "      <td>8106</td>\n",
       "      <td>0.134</td>\n",
       "    </tr>\n",
       "    <tr>\n",
       "      <th>9296</th>\n",
       "      <td>60611</td>\n",
       "      <td>2023-2024</td>\n",
       "      <td>18-64 yrs</td>\n",
       "      <td>28052</td>\n",
       "      <td>5744</td>\n",
       "      <td>0.205</td>\n",
       "    </tr>\n",
       "    <tr>\n",
       "      <th>9297</th>\n",
       "      <td>60619</td>\n",
       "      <td>2023-2024</td>\n",
       "      <td>18-64 yrs</td>\n",
       "      <td>39250</td>\n",
       "      <td>2432</td>\n",
       "      <td>0.062</td>\n",
       "    </tr>\n",
       "    <tr>\n",
       "      <th>9298</th>\n",
       "      <td>60642</td>\n",
       "      <td>2023-2024</td>\n",
       "      <td>18-64 yrs</td>\n",
       "      <td>18062</td>\n",
       "      <td>2684</td>\n",
       "      <td>0.149</td>\n",
       "    </tr>\n",
       "    <tr>\n",
       "      <th>9299</th>\n",
       "      <td>60607</td>\n",
       "      <td>2023-2024</td>\n",
       "      <td>18-64 yrs</td>\n",
       "      <td>26365</td>\n",
       "      <td>3173</td>\n",
       "      <td>0.12</td>\n",
       "    </tr>\n",
       "  </tbody>\n",
       "</table>\n",
       "<p>9300 rows × 6 columns</p>\n",
       "</div>"
      ],
      "text/plain": [
       "        zip     season        age population count percent\n",
       "0     60628  2023-2024   0-17 yrs      13786     3   0.000\n",
       "1     60624  2023-2024   0-17 yrs      10082     1   0.000\n",
       "2     60645  2023-2024    18+ yrs      36081    23   0.001\n",
       "3     60628  2023-2024   All Ages      62832     0   0.000\n",
       "4     60606  2023-2024    18+ yrs       3624     7   0.002\n",
       "...     ...        ...        ...        ...   ...     ...\n",
       "9295  60634  2023-2024    18+ yrs      60436  8106   0.134\n",
       "9296  60611  2023-2024  18-64 yrs      28052  5744   0.205\n",
       "9297  60619  2023-2024  18-64 yrs      39250  2432   0.062\n",
       "9298  60642  2023-2024  18-64 yrs      18062  2684   0.149\n",
       "9299  60607  2023-2024  18-64 yrs      26365  3173    0.12\n",
       "\n",
       "[9300 rows x 6 columns]"
      ]
     },
     "execution_count": 14,
     "metadata": {},
     "output_type": "execute_result"
    }
   ],
   "source": [
    "df"
   ]
  },
  {
   "cell_type": "markdown",
   "id": "61cb1743",
   "metadata": {},
   "source": [
    "Replacing missing values with mean"
   ]
  },
  {
   "cell_type": "code",
   "execution_count": 15,
   "id": "a42f1c47",
   "metadata": {},
   "outputs": [
    {
     "ename": "TypeError",
     "evalue": "can only concatenate str (not \"int\") to str",
     "output_type": "error",
     "traceback": [
      "\u001b[1;31m---------------------------------------------------------------------------\u001b[0m",
      "\u001b[1;31mTypeError\u001b[0m                                 Traceback (most recent call last)",
      "Cell \u001b[1;32mIn[15], line 1\u001b[0m\n\u001b[1;32m----> 1\u001b[0m df[\u001b[38;5;124m'\u001b[39m\u001b[38;5;124mpopulation\u001b[39m\u001b[38;5;124m'\u001b[39m]\u001b[38;5;241m.\u001b[39mfillna(df[\u001b[38;5;124m'\u001b[39m\u001b[38;5;124mpopulation\u001b[39m\u001b[38;5;124m'\u001b[39m]\u001b[38;5;241m.\u001b[39mmean(), inplace\u001b[38;5;241m=\u001b[39m\u001b[38;5;28;01mTrue\u001b[39;00m)\n",
      "File \u001b[1;32mC:\\ProgramData\\anaconda3\\Lib\\site-packages\\pandas\\core\\generic.py:11556\u001b[0m, in \u001b[0;36mNDFrame._add_numeric_operations.<locals>.mean\u001b[1;34m(self, axis, skipna, numeric_only, **kwargs)\u001b[0m\n\u001b[0;32m  11539\u001b[0m \u001b[38;5;129m@doc\u001b[39m(\n\u001b[0;32m  11540\u001b[0m     _num_doc,\n\u001b[0;32m  11541\u001b[0m     desc\u001b[38;5;241m=\u001b[39m\u001b[38;5;124m\"\u001b[39m\u001b[38;5;124mReturn the mean of the values over the requested axis.\u001b[39m\u001b[38;5;124m\"\u001b[39m,\n\u001b[1;32m   (...)\u001b[0m\n\u001b[0;32m  11554\u001b[0m     \u001b[38;5;241m*\u001b[39m\u001b[38;5;241m*\u001b[39mkwargs,\n\u001b[0;32m  11555\u001b[0m ):\n\u001b[1;32m> 11556\u001b[0m     \u001b[38;5;28;01mreturn\u001b[39;00m NDFrame\u001b[38;5;241m.\u001b[39mmean(\u001b[38;5;28mself\u001b[39m, axis, skipna, numeric_only, \u001b[38;5;241m*\u001b[39m\u001b[38;5;241m*\u001b[39mkwargs)\n",
      "File \u001b[1;32mC:\\ProgramData\\anaconda3\\Lib\\site-packages\\pandas\\core\\generic.py:11201\u001b[0m, in \u001b[0;36mNDFrame.mean\u001b[1;34m(self, axis, skipna, numeric_only, **kwargs)\u001b[0m\n\u001b[0;32m  11194\u001b[0m \u001b[38;5;28;01mdef\u001b[39;00m \u001b[38;5;21mmean\u001b[39m(\n\u001b[0;32m  11195\u001b[0m     \u001b[38;5;28mself\u001b[39m,\n\u001b[0;32m  11196\u001b[0m     axis: Axis \u001b[38;5;241m|\u001b[39m \u001b[38;5;28;01mNone\u001b[39;00m \u001b[38;5;241m=\u001b[39m \u001b[38;5;241m0\u001b[39m,\n\u001b[1;32m   (...)\u001b[0m\n\u001b[0;32m  11199\u001b[0m     \u001b[38;5;241m*\u001b[39m\u001b[38;5;241m*\u001b[39mkwargs,\n\u001b[0;32m  11200\u001b[0m ) \u001b[38;5;241m-\u001b[39m\u001b[38;5;241m>\u001b[39m Series \u001b[38;5;241m|\u001b[39m \u001b[38;5;28mfloat\u001b[39m:\n\u001b[1;32m> 11201\u001b[0m     \u001b[38;5;28;01mreturn\u001b[39;00m \u001b[38;5;28mself\u001b[39m\u001b[38;5;241m.\u001b[39m_stat_function(\n\u001b[0;32m  11202\u001b[0m         \u001b[38;5;124m\"\u001b[39m\u001b[38;5;124mmean\u001b[39m\u001b[38;5;124m\"\u001b[39m, nanops\u001b[38;5;241m.\u001b[39mnanmean, axis, skipna, numeric_only, \u001b[38;5;241m*\u001b[39m\u001b[38;5;241m*\u001b[39mkwargs\n\u001b[0;32m  11203\u001b[0m     )\n",
      "File \u001b[1;32mC:\\ProgramData\\anaconda3\\Lib\\site-packages\\pandas\\core\\generic.py:11158\u001b[0m, in \u001b[0;36mNDFrame._stat_function\u001b[1;34m(self, name, func, axis, skipna, numeric_only, **kwargs)\u001b[0m\n\u001b[0;32m  11154\u001b[0m     nv\u001b[38;5;241m.\u001b[39mvalidate_stat_func((), kwargs, fname\u001b[38;5;241m=\u001b[39mname)\n\u001b[0;32m  11156\u001b[0m validate_bool_kwarg(skipna, \u001b[38;5;124m\"\u001b[39m\u001b[38;5;124mskipna\u001b[39m\u001b[38;5;124m\"\u001b[39m, none_allowed\u001b[38;5;241m=\u001b[39m\u001b[38;5;28;01mFalse\u001b[39;00m)\n\u001b[1;32m> 11158\u001b[0m \u001b[38;5;28;01mreturn\u001b[39;00m \u001b[38;5;28mself\u001b[39m\u001b[38;5;241m.\u001b[39m_reduce(\n\u001b[0;32m  11159\u001b[0m     func, name\u001b[38;5;241m=\u001b[39mname, axis\u001b[38;5;241m=\u001b[39maxis, skipna\u001b[38;5;241m=\u001b[39mskipna, numeric_only\u001b[38;5;241m=\u001b[39mnumeric_only\n\u001b[0;32m  11160\u001b[0m )\n",
      "File \u001b[1;32mC:\\ProgramData\\anaconda3\\Lib\\site-packages\\pandas\\core\\series.py:4670\u001b[0m, in \u001b[0;36mSeries._reduce\u001b[1;34m(self, op, name, axis, skipna, numeric_only, filter_type, **kwds)\u001b[0m\n\u001b[0;32m   4665\u001b[0m     \u001b[38;5;28;01mraise\u001b[39;00m \u001b[38;5;167;01mTypeError\u001b[39;00m(\n\u001b[0;32m   4666\u001b[0m         \u001b[38;5;124mf\u001b[39m\u001b[38;5;124m\"\u001b[39m\u001b[38;5;124mSeries.\u001b[39m\u001b[38;5;132;01m{\u001b[39;00mname\u001b[38;5;132;01m}\u001b[39;00m\u001b[38;5;124m does not allow \u001b[39m\u001b[38;5;132;01m{\u001b[39;00mkwd_name\u001b[38;5;132;01m}\u001b[39;00m\u001b[38;5;124m=\u001b[39m\u001b[38;5;132;01m{\u001b[39;00mnumeric_only\u001b[38;5;132;01m}\u001b[39;00m\u001b[38;5;124m \u001b[39m\u001b[38;5;124m\"\u001b[39m\n\u001b[0;32m   4667\u001b[0m         \u001b[38;5;124m\"\u001b[39m\u001b[38;5;124mwith non-numeric dtypes.\u001b[39m\u001b[38;5;124m\"\u001b[39m\n\u001b[0;32m   4668\u001b[0m     )\n\u001b[0;32m   4669\u001b[0m \u001b[38;5;28;01mwith\u001b[39;00m np\u001b[38;5;241m.\u001b[39merrstate(\u001b[38;5;28mall\u001b[39m\u001b[38;5;241m=\u001b[39m\u001b[38;5;124m\"\u001b[39m\u001b[38;5;124mignore\u001b[39m\u001b[38;5;124m\"\u001b[39m):\n\u001b[1;32m-> 4670\u001b[0m     \u001b[38;5;28;01mreturn\u001b[39;00m op(delegate, skipna\u001b[38;5;241m=\u001b[39mskipna, \u001b[38;5;241m*\u001b[39m\u001b[38;5;241m*\u001b[39mkwds)\n",
      "File \u001b[1;32mC:\\ProgramData\\anaconda3\\Lib\\site-packages\\pandas\\core\\nanops.py:96\u001b[0m, in \u001b[0;36mdisallow.__call__.<locals>._f\u001b[1;34m(*args, **kwargs)\u001b[0m\n\u001b[0;32m     94\u001b[0m \u001b[38;5;28;01mtry\u001b[39;00m:\n\u001b[0;32m     95\u001b[0m     \u001b[38;5;28;01mwith\u001b[39;00m np\u001b[38;5;241m.\u001b[39merrstate(invalid\u001b[38;5;241m=\u001b[39m\u001b[38;5;124m\"\u001b[39m\u001b[38;5;124mignore\u001b[39m\u001b[38;5;124m\"\u001b[39m):\n\u001b[1;32m---> 96\u001b[0m         \u001b[38;5;28;01mreturn\u001b[39;00m f(\u001b[38;5;241m*\u001b[39margs, \u001b[38;5;241m*\u001b[39m\u001b[38;5;241m*\u001b[39mkwargs)\n\u001b[0;32m     97\u001b[0m \u001b[38;5;28;01mexcept\u001b[39;00m \u001b[38;5;167;01mValueError\u001b[39;00m \u001b[38;5;28;01mas\u001b[39;00m e:\n\u001b[0;32m     98\u001b[0m     \u001b[38;5;66;03m# we want to transform an object array\u001b[39;00m\n\u001b[0;32m     99\u001b[0m     \u001b[38;5;66;03m# ValueError message to the more typical TypeError\u001b[39;00m\n\u001b[0;32m    100\u001b[0m     \u001b[38;5;66;03m# e.g. this is normally a disallowed function on\u001b[39;00m\n\u001b[0;32m    101\u001b[0m     \u001b[38;5;66;03m# object arrays that contain strings\u001b[39;00m\n\u001b[0;32m    102\u001b[0m     \u001b[38;5;28;01mif\u001b[39;00m is_object_dtype(args[\u001b[38;5;241m0\u001b[39m]):\n",
      "File \u001b[1;32mC:\\ProgramData\\anaconda3\\Lib\\site-packages\\pandas\\core\\nanops.py:158\u001b[0m, in \u001b[0;36mbottleneck_switch.__call__.<locals>.f\u001b[1;34m(values, axis, skipna, **kwds)\u001b[0m\n\u001b[0;32m    156\u001b[0m         result \u001b[38;5;241m=\u001b[39m alt(values, axis\u001b[38;5;241m=\u001b[39maxis, skipna\u001b[38;5;241m=\u001b[39mskipna, \u001b[38;5;241m*\u001b[39m\u001b[38;5;241m*\u001b[39mkwds)\n\u001b[0;32m    157\u001b[0m \u001b[38;5;28;01melse\u001b[39;00m:\n\u001b[1;32m--> 158\u001b[0m     result \u001b[38;5;241m=\u001b[39m alt(values, axis\u001b[38;5;241m=\u001b[39maxis, skipna\u001b[38;5;241m=\u001b[39mskipna, \u001b[38;5;241m*\u001b[39m\u001b[38;5;241m*\u001b[39mkwds)\n\u001b[0;32m    160\u001b[0m \u001b[38;5;28;01mreturn\u001b[39;00m result\n",
      "File \u001b[1;32mC:\\ProgramData\\anaconda3\\Lib\\site-packages\\pandas\\core\\nanops.py:421\u001b[0m, in \u001b[0;36m_datetimelike_compat.<locals>.new_func\u001b[1;34m(values, axis, skipna, mask, **kwargs)\u001b[0m\n\u001b[0;32m    418\u001b[0m \u001b[38;5;28;01mif\u001b[39;00m datetimelike \u001b[38;5;129;01mand\u001b[39;00m mask \u001b[38;5;129;01mis\u001b[39;00m \u001b[38;5;28;01mNone\u001b[39;00m:\n\u001b[0;32m    419\u001b[0m     mask \u001b[38;5;241m=\u001b[39m isna(values)\n\u001b[1;32m--> 421\u001b[0m result \u001b[38;5;241m=\u001b[39m func(values, axis\u001b[38;5;241m=\u001b[39maxis, skipna\u001b[38;5;241m=\u001b[39mskipna, mask\u001b[38;5;241m=\u001b[39mmask, \u001b[38;5;241m*\u001b[39m\u001b[38;5;241m*\u001b[39mkwargs)\n\u001b[0;32m    423\u001b[0m \u001b[38;5;28;01mif\u001b[39;00m datetimelike:\n\u001b[0;32m    424\u001b[0m     result \u001b[38;5;241m=\u001b[39m _wrap_results(result, orig_values\u001b[38;5;241m.\u001b[39mdtype, fill_value\u001b[38;5;241m=\u001b[39miNaT)\n",
      "File \u001b[1;32mC:\\ProgramData\\anaconda3\\Lib\\site-packages\\pandas\\core\\nanops.py:727\u001b[0m, in \u001b[0;36mnanmean\u001b[1;34m(values, axis, skipna, mask)\u001b[0m\n\u001b[0;32m    724\u001b[0m     dtype_count \u001b[38;5;241m=\u001b[39m dtype\n\u001b[0;32m    726\u001b[0m count \u001b[38;5;241m=\u001b[39m _get_counts(values\u001b[38;5;241m.\u001b[39mshape, mask, axis, dtype\u001b[38;5;241m=\u001b[39mdtype_count)\n\u001b[1;32m--> 727\u001b[0m the_sum \u001b[38;5;241m=\u001b[39m _ensure_numeric(values\u001b[38;5;241m.\u001b[39msum(axis, dtype\u001b[38;5;241m=\u001b[39mdtype_sum))\n\u001b[0;32m    729\u001b[0m \u001b[38;5;28;01mif\u001b[39;00m axis \u001b[38;5;129;01mis\u001b[39;00m \u001b[38;5;129;01mnot\u001b[39;00m \u001b[38;5;28;01mNone\u001b[39;00m \u001b[38;5;129;01mand\u001b[39;00m \u001b[38;5;28mgetattr\u001b[39m(the_sum, \u001b[38;5;124m\"\u001b[39m\u001b[38;5;124mndim\u001b[39m\u001b[38;5;124m\"\u001b[39m, \u001b[38;5;28;01mFalse\u001b[39;00m):\n\u001b[0;32m    730\u001b[0m     count \u001b[38;5;241m=\u001b[39m cast(np\u001b[38;5;241m.\u001b[39mndarray, count)\n",
      "File \u001b[1;32mC:\\ProgramData\\anaconda3\\Lib\\site-packages\\numpy\\core\\_methods.py:49\u001b[0m, in \u001b[0;36m_sum\u001b[1;34m(a, axis, dtype, out, keepdims, initial, where)\u001b[0m\n\u001b[0;32m     47\u001b[0m \u001b[38;5;28;01mdef\u001b[39;00m \u001b[38;5;21m_sum\u001b[39m(a, axis\u001b[38;5;241m=\u001b[39m\u001b[38;5;28;01mNone\u001b[39;00m, dtype\u001b[38;5;241m=\u001b[39m\u001b[38;5;28;01mNone\u001b[39;00m, out\u001b[38;5;241m=\u001b[39m\u001b[38;5;28;01mNone\u001b[39;00m, keepdims\u001b[38;5;241m=\u001b[39m\u001b[38;5;28;01mFalse\u001b[39;00m,\n\u001b[0;32m     48\u001b[0m          initial\u001b[38;5;241m=\u001b[39m_NoValue, where\u001b[38;5;241m=\u001b[39m\u001b[38;5;28;01mTrue\u001b[39;00m):\n\u001b[1;32m---> 49\u001b[0m     \u001b[38;5;28;01mreturn\u001b[39;00m umr_sum(a, axis, dtype, out, keepdims, initial, where)\n",
      "\u001b[1;31mTypeError\u001b[0m: can only concatenate str (not \"int\") to str"
     ]
    }
   ],
   "source": [
    "df['population'].fillna(df['population'].mean(), inplace=True)"
   ]
  },
  {
   "cell_type": "code",
   "execution_count": 16,
   "id": "20af865f",
   "metadata": {},
   "outputs": [],
   "source": [
    "df['population'] = pd.to_numeric(df['population'], errors='coerce') #correcting the error by converting it to numeric"
   ]
  },
  {
   "cell_type": "code",
   "execution_count": 17,
   "id": "b0cb10e9",
   "metadata": {},
   "outputs": [],
   "source": [
    "df['population'].fillna(df['population'].mean(), inplace=True)"
   ]
  },
  {
   "cell_type": "code",
   "execution_count": 18,
   "id": "af5c493c",
   "metadata": {},
   "outputs": [
    {
     "ename": "TypeError",
     "evalue": "can only concatenate str (not \"int\") to str",
     "output_type": "error",
     "traceback": [
      "\u001b[1;31m---------------------------------------------------------------------------\u001b[0m",
      "\u001b[1;31mTypeError\u001b[0m                                 Traceback (most recent call last)",
      "Cell \u001b[1;32mIn[18], line 1\u001b[0m\n\u001b[1;32m----> 1\u001b[0m df[\u001b[38;5;124m'\u001b[39m\u001b[38;5;124mpercent\u001b[39m\u001b[38;5;124m'\u001b[39m]\u001b[38;5;241m.\u001b[39mfillna(df[\u001b[38;5;124m'\u001b[39m\u001b[38;5;124mpercent\u001b[39m\u001b[38;5;124m'\u001b[39m]\u001b[38;5;241m.\u001b[39mmean(), inplace\u001b[38;5;241m=\u001b[39m\u001b[38;5;28;01mTrue\u001b[39;00m)\n",
      "File \u001b[1;32mC:\\ProgramData\\anaconda3\\Lib\\site-packages\\pandas\\core\\generic.py:11556\u001b[0m, in \u001b[0;36mNDFrame._add_numeric_operations.<locals>.mean\u001b[1;34m(self, axis, skipna, numeric_only, **kwargs)\u001b[0m\n\u001b[0;32m  11539\u001b[0m \u001b[38;5;129m@doc\u001b[39m(\n\u001b[0;32m  11540\u001b[0m     _num_doc,\n\u001b[0;32m  11541\u001b[0m     desc\u001b[38;5;241m=\u001b[39m\u001b[38;5;124m\"\u001b[39m\u001b[38;5;124mReturn the mean of the values over the requested axis.\u001b[39m\u001b[38;5;124m\"\u001b[39m,\n\u001b[1;32m   (...)\u001b[0m\n\u001b[0;32m  11554\u001b[0m     \u001b[38;5;241m*\u001b[39m\u001b[38;5;241m*\u001b[39mkwargs,\n\u001b[0;32m  11555\u001b[0m ):\n\u001b[1;32m> 11556\u001b[0m     \u001b[38;5;28;01mreturn\u001b[39;00m NDFrame\u001b[38;5;241m.\u001b[39mmean(\u001b[38;5;28mself\u001b[39m, axis, skipna, numeric_only, \u001b[38;5;241m*\u001b[39m\u001b[38;5;241m*\u001b[39mkwargs)\n",
      "File \u001b[1;32mC:\\ProgramData\\anaconda3\\Lib\\site-packages\\pandas\\core\\generic.py:11201\u001b[0m, in \u001b[0;36mNDFrame.mean\u001b[1;34m(self, axis, skipna, numeric_only, **kwargs)\u001b[0m\n\u001b[0;32m  11194\u001b[0m \u001b[38;5;28;01mdef\u001b[39;00m \u001b[38;5;21mmean\u001b[39m(\n\u001b[0;32m  11195\u001b[0m     \u001b[38;5;28mself\u001b[39m,\n\u001b[0;32m  11196\u001b[0m     axis: Axis \u001b[38;5;241m|\u001b[39m \u001b[38;5;28;01mNone\u001b[39;00m \u001b[38;5;241m=\u001b[39m \u001b[38;5;241m0\u001b[39m,\n\u001b[1;32m   (...)\u001b[0m\n\u001b[0;32m  11199\u001b[0m     \u001b[38;5;241m*\u001b[39m\u001b[38;5;241m*\u001b[39mkwargs,\n\u001b[0;32m  11200\u001b[0m ) \u001b[38;5;241m-\u001b[39m\u001b[38;5;241m>\u001b[39m Series \u001b[38;5;241m|\u001b[39m \u001b[38;5;28mfloat\u001b[39m:\n\u001b[1;32m> 11201\u001b[0m     \u001b[38;5;28;01mreturn\u001b[39;00m \u001b[38;5;28mself\u001b[39m\u001b[38;5;241m.\u001b[39m_stat_function(\n\u001b[0;32m  11202\u001b[0m         \u001b[38;5;124m\"\u001b[39m\u001b[38;5;124mmean\u001b[39m\u001b[38;5;124m\"\u001b[39m, nanops\u001b[38;5;241m.\u001b[39mnanmean, axis, skipna, numeric_only, \u001b[38;5;241m*\u001b[39m\u001b[38;5;241m*\u001b[39mkwargs\n\u001b[0;32m  11203\u001b[0m     )\n",
      "File \u001b[1;32mC:\\ProgramData\\anaconda3\\Lib\\site-packages\\pandas\\core\\generic.py:11158\u001b[0m, in \u001b[0;36mNDFrame._stat_function\u001b[1;34m(self, name, func, axis, skipna, numeric_only, **kwargs)\u001b[0m\n\u001b[0;32m  11154\u001b[0m     nv\u001b[38;5;241m.\u001b[39mvalidate_stat_func((), kwargs, fname\u001b[38;5;241m=\u001b[39mname)\n\u001b[0;32m  11156\u001b[0m validate_bool_kwarg(skipna, \u001b[38;5;124m\"\u001b[39m\u001b[38;5;124mskipna\u001b[39m\u001b[38;5;124m\"\u001b[39m, none_allowed\u001b[38;5;241m=\u001b[39m\u001b[38;5;28;01mFalse\u001b[39;00m)\n\u001b[1;32m> 11158\u001b[0m \u001b[38;5;28;01mreturn\u001b[39;00m \u001b[38;5;28mself\u001b[39m\u001b[38;5;241m.\u001b[39m_reduce(\n\u001b[0;32m  11159\u001b[0m     func, name\u001b[38;5;241m=\u001b[39mname, axis\u001b[38;5;241m=\u001b[39maxis, skipna\u001b[38;5;241m=\u001b[39mskipna, numeric_only\u001b[38;5;241m=\u001b[39mnumeric_only\n\u001b[0;32m  11160\u001b[0m )\n",
      "File \u001b[1;32mC:\\ProgramData\\anaconda3\\Lib\\site-packages\\pandas\\core\\series.py:4670\u001b[0m, in \u001b[0;36mSeries._reduce\u001b[1;34m(self, op, name, axis, skipna, numeric_only, filter_type, **kwds)\u001b[0m\n\u001b[0;32m   4665\u001b[0m     \u001b[38;5;28;01mraise\u001b[39;00m \u001b[38;5;167;01mTypeError\u001b[39;00m(\n\u001b[0;32m   4666\u001b[0m         \u001b[38;5;124mf\u001b[39m\u001b[38;5;124m\"\u001b[39m\u001b[38;5;124mSeries.\u001b[39m\u001b[38;5;132;01m{\u001b[39;00mname\u001b[38;5;132;01m}\u001b[39;00m\u001b[38;5;124m does not allow \u001b[39m\u001b[38;5;132;01m{\u001b[39;00mkwd_name\u001b[38;5;132;01m}\u001b[39;00m\u001b[38;5;124m=\u001b[39m\u001b[38;5;132;01m{\u001b[39;00mnumeric_only\u001b[38;5;132;01m}\u001b[39;00m\u001b[38;5;124m \u001b[39m\u001b[38;5;124m\"\u001b[39m\n\u001b[0;32m   4667\u001b[0m         \u001b[38;5;124m\"\u001b[39m\u001b[38;5;124mwith non-numeric dtypes.\u001b[39m\u001b[38;5;124m\"\u001b[39m\n\u001b[0;32m   4668\u001b[0m     )\n\u001b[0;32m   4669\u001b[0m \u001b[38;5;28;01mwith\u001b[39;00m np\u001b[38;5;241m.\u001b[39merrstate(\u001b[38;5;28mall\u001b[39m\u001b[38;5;241m=\u001b[39m\u001b[38;5;124m\"\u001b[39m\u001b[38;5;124mignore\u001b[39m\u001b[38;5;124m\"\u001b[39m):\n\u001b[1;32m-> 4670\u001b[0m     \u001b[38;5;28;01mreturn\u001b[39;00m op(delegate, skipna\u001b[38;5;241m=\u001b[39mskipna, \u001b[38;5;241m*\u001b[39m\u001b[38;5;241m*\u001b[39mkwds)\n",
      "File \u001b[1;32mC:\\ProgramData\\anaconda3\\Lib\\site-packages\\pandas\\core\\nanops.py:96\u001b[0m, in \u001b[0;36mdisallow.__call__.<locals>._f\u001b[1;34m(*args, **kwargs)\u001b[0m\n\u001b[0;32m     94\u001b[0m \u001b[38;5;28;01mtry\u001b[39;00m:\n\u001b[0;32m     95\u001b[0m     \u001b[38;5;28;01mwith\u001b[39;00m np\u001b[38;5;241m.\u001b[39merrstate(invalid\u001b[38;5;241m=\u001b[39m\u001b[38;5;124m\"\u001b[39m\u001b[38;5;124mignore\u001b[39m\u001b[38;5;124m\"\u001b[39m):\n\u001b[1;32m---> 96\u001b[0m         \u001b[38;5;28;01mreturn\u001b[39;00m f(\u001b[38;5;241m*\u001b[39margs, \u001b[38;5;241m*\u001b[39m\u001b[38;5;241m*\u001b[39mkwargs)\n\u001b[0;32m     97\u001b[0m \u001b[38;5;28;01mexcept\u001b[39;00m \u001b[38;5;167;01mValueError\u001b[39;00m \u001b[38;5;28;01mas\u001b[39;00m e:\n\u001b[0;32m     98\u001b[0m     \u001b[38;5;66;03m# we want to transform an object array\u001b[39;00m\n\u001b[0;32m     99\u001b[0m     \u001b[38;5;66;03m# ValueError message to the more typical TypeError\u001b[39;00m\n\u001b[0;32m    100\u001b[0m     \u001b[38;5;66;03m# e.g. this is normally a disallowed function on\u001b[39;00m\n\u001b[0;32m    101\u001b[0m     \u001b[38;5;66;03m# object arrays that contain strings\u001b[39;00m\n\u001b[0;32m    102\u001b[0m     \u001b[38;5;28;01mif\u001b[39;00m is_object_dtype(args[\u001b[38;5;241m0\u001b[39m]):\n",
      "File \u001b[1;32mC:\\ProgramData\\anaconda3\\Lib\\site-packages\\pandas\\core\\nanops.py:158\u001b[0m, in \u001b[0;36mbottleneck_switch.__call__.<locals>.f\u001b[1;34m(values, axis, skipna, **kwds)\u001b[0m\n\u001b[0;32m    156\u001b[0m         result \u001b[38;5;241m=\u001b[39m alt(values, axis\u001b[38;5;241m=\u001b[39maxis, skipna\u001b[38;5;241m=\u001b[39mskipna, \u001b[38;5;241m*\u001b[39m\u001b[38;5;241m*\u001b[39mkwds)\n\u001b[0;32m    157\u001b[0m \u001b[38;5;28;01melse\u001b[39;00m:\n\u001b[1;32m--> 158\u001b[0m     result \u001b[38;5;241m=\u001b[39m alt(values, axis\u001b[38;5;241m=\u001b[39maxis, skipna\u001b[38;5;241m=\u001b[39mskipna, \u001b[38;5;241m*\u001b[39m\u001b[38;5;241m*\u001b[39mkwds)\n\u001b[0;32m    160\u001b[0m \u001b[38;5;28;01mreturn\u001b[39;00m result\n",
      "File \u001b[1;32mC:\\ProgramData\\anaconda3\\Lib\\site-packages\\pandas\\core\\nanops.py:421\u001b[0m, in \u001b[0;36m_datetimelike_compat.<locals>.new_func\u001b[1;34m(values, axis, skipna, mask, **kwargs)\u001b[0m\n\u001b[0;32m    418\u001b[0m \u001b[38;5;28;01mif\u001b[39;00m datetimelike \u001b[38;5;129;01mand\u001b[39;00m mask \u001b[38;5;129;01mis\u001b[39;00m \u001b[38;5;28;01mNone\u001b[39;00m:\n\u001b[0;32m    419\u001b[0m     mask \u001b[38;5;241m=\u001b[39m isna(values)\n\u001b[1;32m--> 421\u001b[0m result \u001b[38;5;241m=\u001b[39m func(values, axis\u001b[38;5;241m=\u001b[39maxis, skipna\u001b[38;5;241m=\u001b[39mskipna, mask\u001b[38;5;241m=\u001b[39mmask, \u001b[38;5;241m*\u001b[39m\u001b[38;5;241m*\u001b[39mkwargs)\n\u001b[0;32m    423\u001b[0m \u001b[38;5;28;01mif\u001b[39;00m datetimelike:\n\u001b[0;32m    424\u001b[0m     result \u001b[38;5;241m=\u001b[39m _wrap_results(result, orig_values\u001b[38;5;241m.\u001b[39mdtype, fill_value\u001b[38;5;241m=\u001b[39miNaT)\n",
      "File \u001b[1;32mC:\\ProgramData\\anaconda3\\Lib\\site-packages\\pandas\\core\\nanops.py:727\u001b[0m, in \u001b[0;36mnanmean\u001b[1;34m(values, axis, skipna, mask)\u001b[0m\n\u001b[0;32m    724\u001b[0m     dtype_count \u001b[38;5;241m=\u001b[39m dtype\n\u001b[0;32m    726\u001b[0m count \u001b[38;5;241m=\u001b[39m _get_counts(values\u001b[38;5;241m.\u001b[39mshape, mask, axis, dtype\u001b[38;5;241m=\u001b[39mdtype_count)\n\u001b[1;32m--> 727\u001b[0m the_sum \u001b[38;5;241m=\u001b[39m _ensure_numeric(values\u001b[38;5;241m.\u001b[39msum(axis, dtype\u001b[38;5;241m=\u001b[39mdtype_sum))\n\u001b[0;32m    729\u001b[0m \u001b[38;5;28;01mif\u001b[39;00m axis \u001b[38;5;129;01mis\u001b[39;00m \u001b[38;5;129;01mnot\u001b[39;00m \u001b[38;5;28;01mNone\u001b[39;00m \u001b[38;5;129;01mand\u001b[39;00m \u001b[38;5;28mgetattr\u001b[39m(the_sum, \u001b[38;5;124m\"\u001b[39m\u001b[38;5;124mndim\u001b[39m\u001b[38;5;124m\"\u001b[39m, \u001b[38;5;28;01mFalse\u001b[39;00m):\n\u001b[0;32m    730\u001b[0m     count \u001b[38;5;241m=\u001b[39m cast(np\u001b[38;5;241m.\u001b[39mndarray, count)\n",
      "File \u001b[1;32mC:\\ProgramData\\anaconda3\\Lib\\site-packages\\numpy\\core\\_methods.py:49\u001b[0m, in \u001b[0;36m_sum\u001b[1;34m(a, axis, dtype, out, keepdims, initial, where)\u001b[0m\n\u001b[0;32m     47\u001b[0m \u001b[38;5;28;01mdef\u001b[39;00m \u001b[38;5;21m_sum\u001b[39m(a, axis\u001b[38;5;241m=\u001b[39m\u001b[38;5;28;01mNone\u001b[39;00m, dtype\u001b[38;5;241m=\u001b[39m\u001b[38;5;28;01mNone\u001b[39;00m, out\u001b[38;5;241m=\u001b[39m\u001b[38;5;28;01mNone\u001b[39;00m, keepdims\u001b[38;5;241m=\u001b[39m\u001b[38;5;28;01mFalse\u001b[39;00m,\n\u001b[0;32m     48\u001b[0m          initial\u001b[38;5;241m=\u001b[39m_NoValue, where\u001b[38;5;241m=\u001b[39m\u001b[38;5;28;01mTrue\u001b[39;00m):\n\u001b[1;32m---> 49\u001b[0m     \u001b[38;5;28;01mreturn\u001b[39;00m umr_sum(a, axis, dtype, out, keepdims, initial, where)\n",
      "\u001b[1;31mTypeError\u001b[0m: can only concatenate str (not \"int\") to str"
     ]
    }
   ],
   "source": [
    "df['percent'].fillna(df['percent'].mean(), inplace=True)"
   ]
  },
  {
   "cell_type": "code",
   "execution_count": 19,
   "id": "1e4e82e6",
   "metadata": {},
   "outputs": [],
   "source": [
    "df['percent'] = pd.to_numeric(df['percent'], errors='coerce') #correcting the error "
   ]
  },
  {
   "cell_type": "code",
   "execution_count": 20,
   "id": "861509fc",
   "metadata": {},
   "outputs": [],
   "source": [
    "df['percent'].fillna(df['percent'].mean(), inplace=True)"
   ]
  },
  {
   "cell_type": "code",
   "execution_count": 21,
   "id": "fe734b55",
   "metadata": {},
   "outputs": [
    {
     "data": {
      "text/plain": [
       "zip           0\n",
       "season        0\n",
       "age           0\n",
       "population    0\n",
       "count         0\n",
       "percent       0\n",
       "dtype: int64"
      ]
     },
     "execution_count": 21,
     "metadata": {},
     "output_type": "execute_result"
    }
   ],
   "source": [
    "df.isnull().sum() #to get the count of null values in each column"
   ]
  },
  {
   "cell_type": "markdown",
   "id": "51ca9925",
   "metadata": {},
   "source": [
    "# Data Transformation"
   ]
  },
  {
   "cell_type": "code",
   "execution_count": 22,
   "id": "23a663be",
   "metadata": {},
   "outputs": [
    {
     "data": {
      "text/html": [
       "<div>\n",
       "<style scoped>\n",
       "    .dataframe tbody tr th:only-of-type {\n",
       "        vertical-align: middle;\n",
       "    }\n",
       "\n",
       "    .dataframe tbody tr th {\n",
       "        vertical-align: top;\n",
       "    }\n",
       "\n",
       "    .dataframe thead th {\n",
       "        text-align: right;\n",
       "    }\n",
       "</style>\n",
       "<table border=\"1\" class=\"dataframe\">\n",
       "  <thead>\n",
       "    <tr style=\"text-align: right;\">\n",
       "      <th></th>\n",
       "      <th>zip</th>\n",
       "      <th>season</th>\n",
       "      <th>age</th>\n",
       "      <th>population</th>\n",
       "      <th>count</th>\n",
       "      <th>percent</th>\n",
       "      <th>AgeGroup</th>\n",
       "    </tr>\n",
       "  </thead>\n",
       "  <tbody>\n",
       "    <tr>\n",
       "      <th>0</th>\n",
       "      <td>60628</td>\n",
       "      <td>2023-2024</td>\n",
       "      <td>0-17 yrs</td>\n",
       "      <td>13786.0</td>\n",
       "      <td>3</td>\n",
       "      <td>0.000</td>\n",
       "      <td>Young</td>\n",
       "    </tr>\n",
       "    <tr>\n",
       "      <th>1</th>\n",
       "      <td>60624</td>\n",
       "      <td>2023-2024</td>\n",
       "      <td>0-17 yrs</td>\n",
       "      <td>10082.0</td>\n",
       "      <td>1</td>\n",
       "      <td>0.000</td>\n",
       "      <td>Young</td>\n",
       "    </tr>\n",
       "    <tr>\n",
       "      <th>2</th>\n",
       "      <td>60645</td>\n",
       "      <td>2023-2024</td>\n",
       "      <td>18+ yrs</td>\n",
       "      <td>36081.0</td>\n",
       "      <td>23</td>\n",
       "      <td>0.001</td>\n",
       "      <td>Adult</td>\n",
       "    </tr>\n",
       "    <tr>\n",
       "      <th>3</th>\n",
       "      <td>60628</td>\n",
       "      <td>2023-2024</td>\n",
       "      <td>All Ages</td>\n",
       "      <td>62832.0</td>\n",
       "      <td>0</td>\n",
       "      <td>0.000</td>\n",
       "      <td>All Ages</td>\n",
       "    </tr>\n",
       "    <tr>\n",
       "      <th>4</th>\n",
       "      <td>60606</td>\n",
       "      <td>2023-2024</td>\n",
       "      <td>18+ yrs</td>\n",
       "      <td>3624.0</td>\n",
       "      <td>7</td>\n",
       "      <td>0.002</td>\n",
       "      <td>Adult</td>\n",
       "    </tr>\n",
       "    <tr>\n",
       "      <th>...</th>\n",
       "      <td>...</td>\n",
       "      <td>...</td>\n",
       "      <td>...</td>\n",
       "      <td>...</td>\n",
       "      <td>...</td>\n",
       "      <td>...</td>\n",
       "      <td>...</td>\n",
       "    </tr>\n",
       "    <tr>\n",
       "      <th>9295</th>\n",
       "      <td>60634</td>\n",
       "      <td>2023-2024</td>\n",
       "      <td>18+ yrs</td>\n",
       "      <td>60436.0</td>\n",
       "      <td>8106</td>\n",
       "      <td>0.134</td>\n",
       "      <td>Adult</td>\n",
       "    </tr>\n",
       "    <tr>\n",
       "      <th>9296</th>\n",
       "      <td>60611</td>\n",
       "      <td>2023-2024</td>\n",
       "      <td>18-64 yrs</td>\n",
       "      <td>28052.0</td>\n",
       "      <td>5744</td>\n",
       "      <td>0.205</td>\n",
       "      <td>Adult</td>\n",
       "    </tr>\n",
       "    <tr>\n",
       "      <th>9297</th>\n",
       "      <td>60619</td>\n",
       "      <td>2023-2024</td>\n",
       "      <td>18-64 yrs</td>\n",
       "      <td>39250.0</td>\n",
       "      <td>2432</td>\n",
       "      <td>0.062</td>\n",
       "      <td>Adult</td>\n",
       "    </tr>\n",
       "    <tr>\n",
       "      <th>9298</th>\n",
       "      <td>60642</td>\n",
       "      <td>2023-2024</td>\n",
       "      <td>18-64 yrs</td>\n",
       "      <td>18062.0</td>\n",
       "      <td>2684</td>\n",
       "      <td>0.149</td>\n",
       "      <td>Adult</td>\n",
       "    </tr>\n",
       "    <tr>\n",
       "      <th>9299</th>\n",
       "      <td>60607</td>\n",
       "      <td>2023-2024</td>\n",
       "      <td>18-64 yrs</td>\n",
       "      <td>26365.0</td>\n",
       "      <td>3173</td>\n",
       "      <td>0.120</td>\n",
       "      <td>Adult</td>\n",
       "    </tr>\n",
       "  </tbody>\n",
       "</table>\n",
       "<p>9300 rows × 7 columns</p>\n",
       "</div>"
      ],
      "text/plain": [
       "        zip     season        age  population count  percent  AgeGroup\n",
       "0     60628  2023-2024   0-17 yrs     13786.0     3    0.000     Young\n",
       "1     60624  2023-2024   0-17 yrs     10082.0     1    0.000     Young\n",
       "2     60645  2023-2024    18+ yrs     36081.0    23    0.001     Adult\n",
       "3     60628  2023-2024   All Ages     62832.0     0    0.000  All Ages\n",
       "4     60606  2023-2024    18+ yrs      3624.0     7    0.002     Adult\n",
       "...     ...        ...        ...         ...   ...      ...       ...\n",
       "9295  60634  2023-2024    18+ yrs     60436.0  8106    0.134     Adult\n",
       "9296  60611  2023-2024  18-64 yrs     28052.0  5744    0.205     Adult\n",
       "9297  60619  2023-2024  18-64 yrs     39250.0  2432    0.062     Adult\n",
       "9298  60642  2023-2024  18-64 yrs     18062.0  2684    0.149     Adult\n",
       "9299  60607  2023-2024  18-64 yrs     26365.0  3173    0.120     Adult\n",
       "\n",
       "[9300 rows x 7 columns]"
      ]
     },
     "execution_count": 22,
     "metadata": {},
     "output_type": "execute_result"
    }
   ],
   "source": [
    "import numpy as np\n",
    "dictionary={'0-17 yrs':'Young','18+ yrs':'Adult', '18-64 yrs':'Adult','65+ yrs':'Senior', 'All Ages':'All Ages'}\n",
    "df['AgeGroup']=df['age'].map(dictionary)\n",
    "df"
   ]
  },
  {
   "cell_type": "markdown",
   "id": "d8e758cd",
   "metadata": {},
   "source": [
    "# Data Visualization"
   ]
  },
  {
   "cell_type": "code",
   "execution_count": 23,
   "id": "7ea3b690",
   "metadata": {},
   "outputs": [
    {
     "name": "stdout",
     "output_type": "stream",
     "text": [
      "Defaulting to user installation because normal site-packages is not writeable\n",
      "Requirement already satisfied: matplotlib in c:\\programdata\\anaconda3\\lib\\site-packages (3.7.2)\n",
      "Requirement already satisfied: contourpy>=1.0.1 in c:\\programdata\\anaconda3\\lib\\site-packages (from matplotlib) (1.0.5)\n",
      "Requirement already satisfied: cycler>=0.10 in c:\\programdata\\anaconda3\\lib\\site-packages (from matplotlib) (0.11.0)\n",
      "Requirement already satisfied: fonttools>=4.22.0 in c:\\programdata\\anaconda3\\lib\\site-packages (from matplotlib) (4.25.0)\n",
      "Requirement already satisfied: kiwisolver>=1.0.1 in c:\\programdata\\anaconda3\\lib\\site-packages (from matplotlib) (1.4.4)\n",
      "Requirement already satisfied: numpy>=1.20 in c:\\programdata\\anaconda3\\lib\\site-packages (from matplotlib) (1.24.3)\n",
      "Requirement already satisfied: packaging>=20.0 in c:\\programdata\\anaconda3\\lib\\site-packages (from matplotlib) (23.1)\n",
      "Requirement already satisfied: pillow>=6.2.0 in c:\\programdata\\anaconda3\\lib\\site-packages (from matplotlib) (9.4.0)\n",
      "Requirement already satisfied: pyparsing<3.1,>=2.3.1 in c:\\programdata\\anaconda3\\lib\\site-packages (from matplotlib) (3.0.9)\n",
      "Requirement already satisfied: python-dateutil>=2.7 in c:\\programdata\\anaconda3\\lib\\site-packages (from matplotlib) (2.8.2)\n",
      "Requirement already satisfied: six>=1.5 in c:\\programdata\\anaconda3\\lib\\site-packages (from python-dateutil>=2.7->matplotlib) (1.16.0)\n",
      "Note: you may need to restart the kernel to use updated packages.\n"
     ]
    }
   ],
   "source": [
    "pip install matplotlib "
   ]
  },
  {
   "cell_type": "code",
   "execution_count": 24,
   "id": "d3db2c76",
   "metadata": {},
   "outputs": [],
   "source": [
    "import matplotlib.pyplot as plot"
   ]
  },
  {
   "cell_type": "code",
   "execution_count": 39,
   "id": "2c348690",
   "metadata": {},
   "outputs": [],
   "source": [
    "df['count'] = pd.to_numeric(df['count'], errors='coerce')"
   ]
  },
  {
   "cell_type": "code",
   "execution_count": 41,
   "id": "0bec6089",
   "metadata": {},
   "outputs": [
    {
     "data": {
      "image/png": "[encoded data removed]",
      "text/plain": [
       "<Figure size 600x300 with 1 Axes>"
      ]
     },
     "metadata": {},
     "output_type": "display_data"
    }
   ],
   "source": [
    "df0=df.groupby('AgeGroup')['count'].sum().reset_index()\n",
    "df0=df0.sort_values(by='count', ascending=False)\n",
    "plot.figure(figsize=(6, 3))\n",
    "plot.bar(df0['AgeGroup'], df0['count'], color='brown')\n",
    "plot.xlabel('Age Group')\n",
    "plot.ylabel('Count of Individuals taken Vaccine')\n",
    "plot.title('Count of Individuals taken Vaccine by Age Group')\n",
    "plot.show() "
   ]
  },
  {
   "cell_type": "code",
   "execution_count": 44,
   "id": "0dea6977",
   "metadata": {},
   "outputs": [],
   "source": [
    "import plotly.express as px"
   ]
  },
  {
   "cell_type": "code",
   "execution_count": 53,
   "id": "905d62f3",
   "metadata": {},
   "outputs": [
    {
     "data": {
      "application/vnd.plotly.v1+json": {
       "config": {
        "plotlyServerURL": "https://plot.ly"
       },
       "data": [
        {
         "alignmentgroup": "True",
         "hovertemplate": "zip=%{x}<br>count=%{y}<extra></extra>",
         "legendgroup": "60601",
         "marker": {
          "color": "#636efa",
          "pattern": {
           "shape": ""
          }
         },
         "name": "60601",
         "offsetgroup": "60601",
         "orientation": "v",
         "showlegend": true,
         "textposition": "auto",
         "type": "bar",
         "x": [
          "60601"
         ],
         "xaxis": "x",
         "y": [
          281095
         ],
         "yaxis": "y"
        },
        {
         "alignmentgroup": "True",
         "hovertemplate": "zip=%{x}<br>count=%{y}<extra></extra>",
         "legendgroup": "60602",
         "marker": {
          "color": "#EF553B",
          "pattern": {
           "shape": ""
          }
         },
         "name": "60602",
         "offsetgroup": "60602",
         "orientation": "v",
         "showlegend": true,
         "textposition": "auto",
         "type": "bar",
         "x": [
          "60602"
         ],
         "xaxis": "x",
         "y": [
          40884
         ],
         "yaxis": "y"
        },
        {
         "alignmentgroup": "True",
         "hovertemplate": "zip=%{x}<br>count=%{y}<extra></extra>",
         "legendgroup": "60603",
         "marker": {
          "color": "#00cc96",
          "pattern": {
           "shape": ""
          }
         },
         "name": "60603",
         "offsetgroup": "60603",
         "orientation": "v",
         "showlegend": true,
         "textposition": "auto",
         "type": "bar",
         "x": [
          "60603"
         ],
         "xaxis": "x",
         "y": [
          36062
         ],
         "yaxis": "y"
        },
        {
         "alignmentgroup": "True",
         "hovertemplate": "zip=%{x}<br>count=%{y}<extra></extra>",
         "legendgroup": "60604",
         "marker": {
          "color": "#ab63fa",
          "pattern": {
           "shape": ""
          }
         },
         "name": "60604",
         "offsetgroup": "60604",
         "orientation": "v",
         "showlegend": true,
         "textposition": "auto",
         "type": "bar",
         "x": [
          "60604"
         ],
         "xaxis": "x",
         "y": [
          32121
         ],
         "yaxis": "y"
        },
        {
         "alignmentgroup": "True",
         "hovertemplate": "zip=%{x}<br>count=%{y}<extra></extra>",
         "legendgroup": "60605",
         "marker": {
          "color": "#FFA15A",
          "pattern": {
           "shape": ""
          }
         },
         "name": "60605",
         "offsetgroup": "60605",
         "orientation": "v",
         "showlegend": true,
         "textposition": "auto",
         "type": "bar",
         "x": [
          "60605"
         ],
         "xaxis": "x",
         "y": [
          546475
         ],
         "yaxis": "y"
        },
        {
         "alignmentgroup": "True",
         "hovertemplate": "zip=%{x}<br>count=%{y}<extra></extra>",
         "legendgroup": "60606",
         "marker": {
          "color": "#19d3f3",
          "pattern": {
           "shape": ""
          }
         },
         "name": "60606",
         "offsetgroup": "60606",
         "orientation": "v",
         "showlegend": true,
         "textposition": "auto",
         "type": "bar",
         "x": [
          "60606"
         ],
         "xaxis": "x",
         "y": [
          66422
         ],
         "yaxis": "y"
        },
        {
         "alignmentgroup": "True",
         "hovertemplate": "zip=%{x}<br>count=%{y}<extra></extra>",
         "legendgroup": "60607",
         "marker": {
          "color": "#FF6692",
          "pattern": {
           "shape": ""
          }
         },
         "name": "60607",
         "offsetgroup": "60607",
         "orientation": "v",
         "showlegend": true,
         "textposition": "auto",
         "type": "bar",
         "x": [
          "60607"
         ],
         "xaxis": "x",
         "y": [
          429567
         ],
         "yaxis": "y"
        },
        {
         "alignmentgroup": "True",
         "hovertemplate": "zip=%{x}<br>count=%{y}<extra></extra>",
         "legendgroup": "60608",
         "marker": {
          "color": "#B6E880",
          "pattern": {
           "shape": ""
          }
         },
         "name": "60608",
         "offsetgroup": "60608",
         "orientation": "v",
         "showlegend": true,
         "textposition": "auto",
         "type": "bar",
         "x": [
          "60608"
         ],
         "xaxis": "x",
         "y": [
          645616
         ],
         "yaxis": "y"
        },
        {
         "alignmentgroup": "True",
         "hovertemplate": "zip=%{x}<br>count=%{y}<extra></extra>",
         "legendgroup": "60609",
         "marker": {
          "color": "#FF97FF",
          "pattern": {
           "shape": ""
          }
         },
         "name": "60609",
         "offsetgroup": "60609",
         "orientation": "v",
         "showlegend": true,
         "textposition": "auto",
         "type": "bar",
         "x": [
          "60609"
         ],
         "xaxis": "x",
         "y": [
          355733
         ],
         "yaxis": "y"
        },
        {
         "alignmentgroup": "True",
         "hovertemplate": "zip=%{x}<br>count=%{y}<extra></extra>",
         "legendgroup": "60610",
         "marker": {
          "color": "#FECB52",
          "pattern": {
           "shape": ""
          }
         },
         "name": "60610",
         "offsetgroup": "60610",
         "orientation": "v",
         "showlegend": true,
         "textposition": "auto",
         "type": "bar",
         "x": [
          "60610"
         ],
         "xaxis": "x",
         "y": [
          662261
         ],
         "yaxis": "y"
        },
        {
         "alignmentgroup": "True",
         "hovertemplate": "zip=%{x}<br>count=%{y}<extra></extra>",
         "legendgroup": "60611",
         "marker": {
          "color": "#636efa",
          "pattern": {
           "shape": ""
          }
         },
         "name": "60611",
         "offsetgroup": "60611",
         "orientation": "v",
         "showlegend": true,
         "textposition": "auto",
         "type": "bar",
         "x": [
          "60611"
         ],
         "xaxis": "x",
         "y": [
          758124
         ],
         "yaxis": "y"
        },
        {
         "alignmentgroup": "True",
         "hovertemplate": "zip=%{x}<br>count=%{y}<extra></extra>",
         "legendgroup": "60612",
         "marker": {
          "color": "#EF553B",
          "pattern": {
           "shape": ""
          }
         },
         "name": "60612",
         "offsetgroup": "60612",
         "orientation": "v",
         "showlegend": true,
         "textposition": "auto",
         "type": "bar",
         "x": [
          "60612"
         ],
         "xaxis": "x",
         "y": [
          292045
         ],
         "yaxis": "y"
        },
        {
         "alignmentgroup": "True",
         "hovertemplate": "zip=%{x}<br>count=%{y}<extra></extra>",
         "legendgroup": "60613",
         "marker": {
          "color": "#00cc96",
          "pattern": {
           "shape": ""
          }
         },
         "name": "60613",
         "offsetgroup": "60613",
         "orientation": "v",
         "showlegend": true,
         "textposition": "auto",
         "type": "bar",
         "x": [
          "60613"
         ],
         "xaxis": "x",
         "y": [
          1031824
         ],
         "yaxis": "y"
        },
        {
         "alignmentgroup": "True",
         "hovertemplate": "zip=%{x}<br>count=%{y}<extra></extra>",
         "legendgroup": "60614",
         "marker": {
          "color": "#ab63fa",
          "pattern": {
           "shape": ""
          }
         },
         "name": "60614",
         "offsetgroup": "60614",
         "orientation": "v",
         "showlegend": true,
         "textposition": "auto",
         "type": "bar",
         "x": [
          "60614"
         ],
         "xaxis": "x",
         "y": [
          1217450
         ],
         "yaxis": "y"
        },
        {
         "alignmentgroup": "True",
         "hovertemplate": "zip=%{x}<br>count=%{y}<extra></extra>",
         "legendgroup": "60615",
         "marker": {
          "color": "#FFA15A",
          "pattern": {
           "shape": ""
          }
         },
         "name": "60615",
         "offsetgroup": "60615",
         "orientation": "v",
         "showlegend": true,
         "textposition": "auto",
         "type": "bar",
         "x": [
          "60615"
         ],
         "xaxis": "x",
         "y": [
          590753
         ],
         "yaxis": "y"
        },
        {
         "alignmentgroup": "True",
         "hovertemplate": "zip=%{x}<br>count=%{y}<extra></extra>",
         "legendgroup": "60616",
         "marker": {
          "color": "#19d3f3",
          "pattern": {
           "shape": ""
          }
         },
         "name": "60616",
         "offsetgroup": "60616",
         "orientation": "v",
         "showlegend": true,
         "textposition": "auto",
         "type": "bar",
         "x": [
          "60616"
         ],
         "xaxis": "x",
         "y": [
          535321
         ],
         "yaxis": "y"
        },
        {
         "alignmentgroup": "True",
         "hovertemplate": "zip=%{x}<br>count=%{y}<extra></extra>",
         "legendgroup": "60617",
         "marker": {
          "color": "#FF6692",
          "pattern": {
           "shape": ""
          }
         },
         "name": "60617",
         "offsetgroup": "60617",
         "orientation": "v",
         "showlegend": true,
         "textposition": "auto",
         "type": "bar",
         "x": [
          "60617"
         ],
         "xaxis": "x",
         "y": [
          464803
         ],
         "yaxis": "y"
        },
        {
         "alignmentgroup": "True",
         "hovertemplate": "zip=%{x}<br>count=%{y}<extra></extra>",
         "legendgroup": "60618",
         "marker": {
          "color": "#B6E880",
          "pattern": {
           "shape": ""
          }
         },
         "name": "60618",
         "offsetgroup": "60618",
         "orientation": "v",
         "showlegend": true,
         "textposition": "auto",
         "type": "bar",
         "x": [
          "60618"
         ],
         "xaxis": "x",
         "y": [
          1380679
         ],
         "yaxis": "y"
        },
        {
         "alignmentgroup": "True",
         "hovertemplate": "zip=%{x}<br>count=%{y}<extra></extra>",
         "legendgroup": "60619",
         "marker": {
          "color": "#FF97FF",
          "pattern": {
           "shape": ""
          }
         },
         "name": "60619",
         "offsetgroup": "60619",
         "orientation": "v",
         "showlegend": true,
         "textposition": "auto",
         "type": "bar",
         "x": [
          "60619"
         ],
         "xaxis": "x",
         "y": [
          435451
         ],
         "yaxis": "y"
        },
        {
         "alignmentgroup": "True",
         "hovertemplate": "zip=%{x}<br>count=%{y}<extra></extra>",
         "legendgroup": "60620",
         "marker": {
          "color": "#FECB52",
          "pattern": {
           "shape": ""
          }
         },
         "name": "60620",
         "offsetgroup": "60620",
         "orientation": "v",
         "showlegend": true,
         "textposition": "auto",
         "type": "bar",
         "x": [
          "60620"
         ],
         "xaxis": "x",
         "y": [
          369126
         ],
         "yaxis": "y"
        },
        {
         "alignmentgroup": "True",
         "hovertemplate": "zip=%{x}<br>count=%{y}<extra></extra>",
         "legendgroup": "60621",
         "marker": {
          "color": "#636efa",
          "pattern": {
           "shape": ""
          }
         },
         "name": "60621",
         "offsetgroup": "60621",
         "orientation": "v",
         "showlegend": true,
         "textposition": "auto",
         "type": "bar",
         "x": [
          "60621"
         ],
         "xaxis": "x",
         "y": [
          119459
         ],
         "yaxis": "y"
        },
        {
         "alignmentgroup": "True",
         "hovertemplate": "zip=%{x}<br>count=%{y}<extra></extra>",
         "legendgroup": "60622",
         "marker": {
          "color": "#EF553B",
          "pattern": {
           "shape": ""
          }
         },
         "name": "60622",
         "offsetgroup": "60622",
         "orientation": "v",
         "showlegend": true,
         "textposition": "auto",
         "type": "bar",
         "x": [
          "60622"
         ],
         "xaxis": "x",
         "y": [
          752245
         ],
         "yaxis": "y"
        },
        {
         "alignmentgroup": "True",
         "hovertemplate": "zip=%{x}<br>count=%{y}<extra></extra>",
         "legendgroup": "60623",
         "marker": {
          "color": "#00cc96",
          "pattern": {
           "shape": ""
          }
         },
         "name": "60623",
         "offsetgroup": "60623",
         "orientation": "v",
         "showlegend": true,
         "textposition": "auto",
         "type": "bar",
         "x": [
          "60623"
         ],
         "xaxis": "x",
         "y": [
          375040
         ],
         "yaxis": "y"
        },
        {
         "alignmentgroup": "True",
         "hovertemplate": "zip=%{x}<br>count=%{y}<extra></extra>",
         "legendgroup": "60624",
         "marker": {
          "color": "#ab63fa",
          "pattern": {
           "shape": ""
          }
         },
         "name": "60624",
         "offsetgroup": "60624",
         "orientation": "v",
         "showlegend": true,
         "textposition": "auto",
         "type": "bar",
         "x": [
          "60624"
         ],
         "xaxis": "x",
         "y": [
          163470
         ],
         "yaxis": "y"
        },
        {
         "alignmentgroup": "True",
         "hovertemplate": "zip=%{x}<br>count=%{y}<extra></extra>",
         "legendgroup": "60625",
         "marker": {
          "color": "#FFA15A",
          "pattern": {
           "shape": ""
          }
         },
         "name": "60625",
         "offsetgroup": "60625",
         "orientation": "v",
         "showlegend": true,
         "textposition": "auto",
         "type": "bar",
         "x": [
          "60625"
         ],
         "xaxis": "x",
         "y": [
          1132699
         ],
         "yaxis": "y"
        },
        {
         "alignmentgroup": "True",
         "hovertemplate": "zip=%{x}<br>count=%{y}<extra></extra>",
         "legendgroup": "60626",
         "marker": {
          "color": "#19d3f3",
          "pattern": {
           "shape": ""
          }
         },
         "name": "60626",
         "offsetgroup": "60626",
         "orientation": "v",
         "showlegend": true,
         "textposition": "auto",
         "type": "bar",
         "x": [
          "60626"
         ],
         "xaxis": "x",
         "y": [
          707090
         ],
         "yaxis": "y"
        },
        {
         "alignmentgroup": "True",
         "hovertemplate": "zip=%{x}<br>count=%{y}<extra></extra>",
         "legendgroup": "60628",
         "marker": {
          "color": "#FF6692",
          "pattern": {
           "shape": ""
          }
         },
         "name": "60628",
         "offsetgroup": "60628",
         "orientation": "v",
         "showlegend": true,
         "textposition": "auto",
         "type": "bar",
         "x": [
          "60628"
         ],
         "xaxis": "x",
         "y": [
          386726
         ],
         "yaxis": "y"
        },
        {
         "alignmentgroup": "True",
         "hovertemplate": "zip=%{x}<br>count=%{y}<extra></extra>",
         "legendgroup": "60629",
         "marker": {
          "color": "#B6E880",
          "pattern": {
           "shape": ""
          }
         },
         "name": "60629",
         "offsetgroup": "60629",
         "orientation": "v",
         "showlegend": true,
         "textposition": "auto",
         "type": "bar",
         "x": [
          "60629"
         ],
         "xaxis": "x",
         "y": [
          543788
         ],
         "yaxis": "y"
        },
        {
         "alignmentgroup": "True",
         "hovertemplate": "zip=%{x}<br>count=%{y}<extra></extra>",
         "legendgroup": "60630",
         "marker": {
          "color": "#FF97FF",
          "pattern": {
           "shape": ""
          }
         },
         "name": "60630",
         "offsetgroup": "60630",
         "orientation": "v",
         "showlegend": true,
         "textposition": "auto",
         "type": "bar",
         "x": [
          "60630"
         ],
         "xaxis": "x",
         "y": [
          618356
         ],
         "yaxis": "y"
        },
        {
         "alignmentgroup": "True",
         "hovertemplate": "zip=%{x}<br>count=%{y}<extra></extra>",
         "legendgroup": "60631",
         "marker": {
          "color": "#FECB52",
          "pattern": {
           "shape": ""
          }
         },
         "name": "60631",
         "offsetgroup": "60631",
         "orientation": "v",
         "showlegend": true,
         "textposition": "auto",
         "type": "bar",
         "x": [
          "60631"
         ],
         "xaxis": "x",
         "y": [
          337479
         ],
         "yaxis": "y"
        },
        {
         "alignmentgroup": "True",
         "hovertemplate": "zip=%{x}<br>count=%{y}<extra></extra>",
         "legendgroup": "60632",
         "marker": {
          "color": "#636efa",
          "pattern": {
           "shape": ""
          }
         },
         "name": "60632",
         "offsetgroup": "60632",
         "orientation": "v",
         "showlegend": true,
         "textposition": "auto",
         "type": "bar",
         "x": [
          "60632"
         ],
         "xaxis": "x",
         "y": [
          449018
         ],
         "yaxis": "y"
        },
        {
         "alignmentgroup": "True",
         "hovertemplate": "zip=%{x}<br>count=%{y}<extra></extra>",
         "legendgroup": "60633",
         "marker": {
          "color": "#EF553B",
          "pattern": {
           "shape": ""
          }
         },
         "name": "60633",
         "offsetgroup": "60633",
         "orientation": "v",
         "showlegend": true,
         "textposition": "auto",
         "type": "bar",
         "x": [
          "60633"
         ],
         "xaxis": "x",
         "y": [
          49389
         ],
         "yaxis": "y"
        },
        {
         "alignmentgroup": "True",
         "hovertemplate": "zip=%{x}<br>count=%{y}<extra></extra>",
         "legendgroup": "60634",
         "marker": {
          "color": "#00cc96",
          "pattern": {
           "shape": ""
          }
         },
         "name": "60634",
         "offsetgroup": "60634",
         "orientation": "v",
         "showlegend": true,
         "textposition": "auto",
         "type": "bar",
         "x": [
          "60634"
         ],
         "xaxis": "x",
         "y": [
          584566
         ],
         "yaxis": "y"
        },
        {
         "alignmentgroup": "True",
         "hovertemplate": "zip=%{x}<br>count=%{y}<extra></extra>",
         "legendgroup": "60636",
         "marker": {
          "color": "#ab63fa",
          "pattern": {
           "shape": ""
          }
         },
         "name": "60636",
         "offsetgroup": "60636",
         "orientation": "v",
         "showlegend": true,
         "textposition": "auto",
         "type": "bar",
         "x": [
          "60636"
         ],
         "xaxis": "x",
         "y": [
          150265
         ],
         "yaxis": "y"
        },
        {
         "alignmentgroup": "True",
         "hovertemplate": "zip=%{x}<br>count=%{y}<extra></extra>",
         "legendgroup": "60637",
         "marker": {
          "color": "#FFA15A",
          "pattern": {
           "shape": ""
          }
         },
         "name": "60637",
         "offsetgroup": "60637",
         "orientation": "v",
         "showlegend": true,
         "textposition": "auto",
         "type": "bar",
         "x": [
          "60637"
         ],
         "xaxis": "x",
         "y": [
          409199
         ],
         "yaxis": "y"
        },
        {
         "alignmentgroup": "True",
         "hovertemplate": "zip=%{x}<br>count=%{y}<extra></extra>",
         "legendgroup": "60638",
         "marker": {
          "color": "#19d3f3",
          "pattern": {
           "shape": ""
          }
         },
         "name": "60638",
         "offsetgroup": "60638",
         "orientation": "v",
         "showlegend": true,
         "textposition": "auto",
         "type": "bar",
         "x": [
          "60638"
         ],
         "xaxis": "x",
         "y": [
          367847
         ],
         "yaxis": "y"
        },
        {
         "alignmentgroup": "True",
         "hovertemplate": "zip=%{x}<br>count=%{y}<extra></extra>",
         "legendgroup": "60639",
         "marker": {
          "color": "#FF6692",
          "pattern": {
           "shape": ""
          }
         },
         "name": "60639",
         "offsetgroup": "60639",
         "orientation": "v",
         "showlegend": true,
         "textposition": "auto",
         "type": "bar",
         "x": [
          "60639"
         ],
         "xaxis": "x",
         "y": [
          463789
         ],
         "yaxis": "y"
        },
        {
         "alignmentgroup": "True",
         "hovertemplate": "zip=%{x}<br>count=%{y}<extra></extra>",
         "legendgroup": "60640",
         "marker": {
          "color": "#B6E880",
          "pattern": {
           "shape": ""
          }
         },
         "name": "60640",
         "offsetgroup": "60640",
         "orientation": "v",
         "showlegend": true,
         "textposition": "auto",
         "type": "bar",
         "x": [
          "60640"
         ],
         "xaxis": "x",
         "y": [
          1398616
         ],
         "yaxis": "y"
        },
        {
         "alignmentgroup": "True",
         "hovertemplate": "zip=%{x}<br>count=%{y}<extra></extra>",
         "legendgroup": "60641",
         "marker": {
          "color": "#FF97FF",
          "pattern": {
           "shape": ""
          }
         },
         "name": "60641",
         "offsetgroup": "60641",
         "orientation": "v",
         "showlegend": true,
         "textposition": "auto",
         "type": "bar",
         "x": [
          "60641"
         ],
         "xaxis": "x",
         "y": [
          671835
         ],
         "yaxis": "y"
        },
        {
         "alignmentgroup": "True",
         "hovertemplate": "zip=%{x}<br>count=%{y}<extra></extra>",
         "legendgroup": "60642",
         "marker": {
          "color": "#FECB52",
          "pattern": {
           "shape": ""
          }
         },
         "name": "60642",
         "offsetgroup": "60642",
         "orientation": "v",
         "showlegend": true,
         "textposition": "auto",
         "type": "bar",
         "x": [
          "60642"
         ],
         "xaxis": "x",
         "y": [
          277792
         ],
         "yaxis": "y"
        },
        {
         "alignmentgroup": "True",
         "hovertemplate": "zip=%{x}<br>count=%{y}<extra></extra>",
         "legendgroup": "60643",
         "marker": {
          "color": "#636efa",
          "pattern": {
           "shape": ""
          }
         },
         "name": "60643",
         "offsetgroup": "60643",
         "orientation": "v",
         "showlegend": true,
         "textposition": "auto",
         "type": "bar",
         "x": [
          "60643"
         ],
         "xaxis": "x",
         "y": [
          499905
         ],
         "yaxis": "y"
        },
        {
         "alignmentgroup": "True",
         "hovertemplate": "zip=%{x}<br>count=%{y}<extra></extra>",
         "legendgroup": "60644",
         "marker": {
          "color": "#EF553B",
          "pattern": {
           "shape": ""
          }
         },
         "name": "60644",
         "offsetgroup": "60644",
         "orientation": "v",
         "showlegend": true,
         "textposition": "auto",
         "type": "bar",
         "x": [
          "60644"
         ],
         "xaxis": "x",
         "y": [
          221906
         ],
         "yaxis": "y"
        },
        {
         "alignmentgroup": "True",
         "hovertemplate": "zip=%{x}<br>count=%{y}<extra></extra>",
         "legendgroup": "60645",
         "marker": {
          "color": "#00cc96",
          "pattern": {
           "shape": ""
          }
         },
         "name": "60645",
         "offsetgroup": "60645",
         "orientation": "v",
         "showlegend": true,
         "textposition": "auto",
         "type": "bar",
         "x": [
          "60645"
         ],
         "xaxis": "x",
         "y": [
          475703
         ],
         "yaxis": "y"
        },
        {
         "alignmentgroup": "True",
         "hovertemplate": "zip=%{x}<br>count=%{y}<extra></extra>",
         "legendgroup": "60646",
         "marker": {
          "color": "#ab63fa",
          "pattern": {
           "shape": ""
          }
         },
         "name": "60646",
         "offsetgroup": "60646",
         "orientation": "v",
         "showlegend": true,
         "textposition": "auto",
         "type": "bar",
         "x": [
          "60646"
         ],
         "xaxis": "x",
         "y": [
          406591
         ],
         "yaxis": "y"
        },
        {
         "alignmentgroup": "True",
         "hovertemplate": "zip=%{x}<br>count=%{y}<extra></extra>",
         "legendgroup": "60647",
         "marker": {
          "color": "#FFA15A",
          "pattern": {
           "shape": ""
          }
         },
         "name": "60647",
         "offsetgroup": "60647",
         "orientation": "v",
         "showlegend": true,
         "textposition": "auto",
         "type": "bar",
         "x": [
          "60647"
         ],
         "xaxis": "x",
         "y": [
          1194063
         ],
         "yaxis": "y"
        },
        {
         "alignmentgroup": "True",
         "hovertemplate": "zip=%{x}<br>count=%{y}<extra></extra>",
         "legendgroup": "60649",
         "marker": {
          "color": "#19d3f3",
          "pattern": {
           "shape": ""
          }
         },
         "name": "60649",
         "offsetgroup": "60649",
         "orientation": "v",
         "showlegend": true,
         "textposition": "auto",
         "type": "bar",
         "x": [
          "60649"
         ],
         "xaxis": "x",
         "y": [
          288891
         ],
         "yaxis": "y"
        },
        {
         "alignmentgroup": "True",
         "hovertemplate": "zip=%{x}<br>count=%{y}<extra></extra>",
         "legendgroup": "60651",
         "marker": {
          "color": "#FF6692",
          "pattern": {
           "shape": ""
          }
         },
         "name": "60651",
         "offsetgroup": "60651",
         "orientation": "v",
         "showlegend": true,
         "textposition": "auto",
         "type": "bar",
         "x": [
          "60651"
         ],
         "xaxis": "x",
         "y": [
          344578
         ],
         "yaxis": "y"
        },
        {
         "alignmentgroup": "True",
         "hovertemplate": "zip=%{x}<br>count=%{y}<extra></extra>",
         "legendgroup": "60652",
         "marker": {
          "color": "#B6E880",
          "pattern": {
           "shape": ""
          }
         },
         "name": "60652",
         "offsetgroup": "60652",
         "orientation": "v",
         "showlegend": true,
         "textposition": "auto",
         "type": "bar",
         "x": [
          "60652"
         ],
         "xaxis": "x",
         "y": [
          267959
         ],
         "yaxis": "y"
        },
        {
         "alignmentgroup": "True",
         "hovertemplate": "zip=%{x}<br>count=%{y}<extra></extra>",
         "legendgroup": "60653",
         "marker": {
          "color": "#FF97FF",
          "pattern": {
           "shape": ""
          }
         },
         "name": "60653",
         "offsetgroup": "60653",
         "orientation": "v",
         "showlegend": true,
         "textposition": "auto",
         "type": "bar",
         "x": [
          "60653"
         ],
         "xaxis": "x",
         "y": [
          255347
         ],
         "yaxis": "y"
        },
        {
         "alignmentgroup": "True",
         "hovertemplate": "zip=%{x}<br>count=%{y}<extra></extra>",
         "legendgroup": "60654",
         "marker": {
          "color": "#FECB52",
          "pattern": {
           "shape": ""
          }
         },
         "name": "60654",
         "offsetgroup": "60654",
         "orientation": "v",
         "showlegend": true,
         "textposition": "auto",
         "type": "bar",
         "x": [
          "60654"
         ],
         "xaxis": "x",
         "y": [
          328271
         ],
         "yaxis": "y"
        },
        {
         "alignmentgroup": "True",
         "hovertemplate": "zip=%{x}<br>count=%{y}<extra></extra>",
         "legendgroup": "60655",
         "marker": {
          "color": "#636efa",
          "pattern": {
           "shape": ""
          }
         },
         "name": "60655",
         "offsetgroup": "60655",
         "orientation": "v",
         "showlegend": true,
         "textposition": "auto",
         "type": "bar",
         "x": [
          "60655"
         ],
         "xaxis": "x",
         "y": [
          193011
         ],
         "yaxis": "y"
        },
        {
         "alignmentgroup": "True",
         "hovertemplate": "zip=%{x}<br>count=%{y}<extra></extra>",
         "legendgroup": "60656",
         "marker": {
          "color": "#EF553B",
          "pattern": {
           "shape": ""
          }
         },
         "name": "60656",
         "offsetgroup": "60656",
         "orientation": "v",
         "showlegend": true,
         "textposition": "auto",
         "type": "bar",
         "x": [
          "60656"
         ],
         "xaxis": "x",
         "y": [
          209026
         ],
         "yaxis": "y"
        },
        {
         "alignmentgroup": "True",
         "hovertemplate": "zip=%{x}<br>count=%{y}<extra></extra>",
         "legendgroup": "60657",
         "marker": {
          "color": "#00cc96",
          "pattern": {
           "shape": ""
          }
         },
         "name": "60657",
         "offsetgroup": "60657",
         "orientation": "v",
         "showlegend": true,
         "textposition": "auto",
         "type": "bar",
         "x": [
          "60657"
         ],
         "xaxis": "x",
         "y": [
          1408250
         ],
         "yaxis": "y"
        },
        {
         "alignmentgroup": "True",
         "hovertemplate": "zip=%{x}<br>count=%{y}<extra></extra>",
         "legendgroup": "60659",
         "marker": {
          "color": "#ab63fa",
          "pattern": {
           "shape": ""
          }
         },
         "name": "60659",
         "offsetgroup": "60659",
         "orientation": "v",
         "showlegend": true,
         "textposition": "auto",
         "type": "bar",
         "x": [
          "60659"
         ],
         "xaxis": "x",
         "y": [
          340525
         ],
         "yaxis": "y"
        },
        {
         "alignmentgroup": "True",
         "hovertemplate": "zip=%{x}<br>count=%{y}<extra></extra>",
         "legendgroup": "60660",
         "marker": {
          "color": "#FFA15A",
          "pattern": {
           "shape": ""
          }
         },
         "name": "60660",
         "offsetgroup": "60660",
         "orientation": "v",
         "showlegend": true,
         "textposition": "auto",
         "type": "bar",
         "x": [
          "60660"
         ],
         "xaxis": "x",
         "y": [
          780157
         ],
         "yaxis": "y"
        },
        {
         "alignmentgroup": "True",
         "hovertemplate": "zip=%{x}<br>count=%{y}<extra></extra>",
         "legendgroup": "60661",
         "marker": {
          "color": "#19d3f3",
          "pattern": {
           "shape": ""
          }
         },
         "name": "60661",
         "offsetgroup": "60661",
         "orientation": "v",
         "showlegend": true,
         "textposition": "auto",
         "type": "bar",
         "x": [
          "60661"
         ],
         "xaxis": "x",
         "y": [
          152458
         ],
         "yaxis": "y"
        },
        {
         "alignmentgroup": "True",
         "hovertemplate": "zip=%{x}<br>count=%{y}<extra></extra>",
         "legendgroup": "60666",
         "marker": {
          "color": "#FF6692",
          "pattern": {
           "shape": ""
          }
         },
         "name": "60666",
         "offsetgroup": "60666",
         "orientation": "v",
         "showlegend": true,
         "textposition": "auto",
         "type": "bar",
         "x": [
          "60666"
         ],
         "xaxis": "x",
         "y": [
          3943
         ],
         "yaxis": "y"
        },
        {
         "alignmentgroup": "True",
         "hovertemplate": "zip=%{x}<br>count=%{y}<extra></extra>",
         "legendgroup": "60707",
         "marker": {
          "color": "#B6E880",
          "pattern": {
           "shape": ""
          }
         },
         "name": "60707",
         "offsetgroup": "60707",
         "orientation": "v",
         "showlegend": true,
         "textposition": "auto",
         "type": "bar",
         "x": [
          "60707"
         ],
         "xaxis": "x",
         "y": [
          76072
         ],
         "yaxis": "y"
        },
        {
         "alignmentgroup": "True",
         "hovertemplate": "zip=%{x}<br>count=%{y}<extra></extra>",
         "legendgroup": "60827",
         "marker": {
          "color": "#FF97FF",
          "pattern": {
           "shape": ""
          }
         },
         "name": "60827",
         "offsetgroup": "60827",
         "orientation": "v",
         "showlegend": true,
         "textposition": "auto",
         "type": "bar",
         "x": [
          "60827"
         ],
         "xaxis": "x",
         "y": [
          9397
         ],
         "yaxis": "y"
        },
        {
         "alignmentgroup": "True",
         "hovertemplate": "zip=%{x}<br>count=%{y}<extra></extra>",
         "legendgroup": "Unknown",
         "marker": {
          "color": "#FECB52",
          "pattern": {
           "shape": ""
          }
         },
         "name": "Unknown",
         "offsetgroup": "Unknown",
         "orientation": "v",
         "showlegend": true,
         "textposition": "auto",
         "type": "bar",
         "x": [
          "Unknown"
         ],
         "xaxis": "x",
         "y": [
          54762
         ],
         "yaxis": "y"
        }
       ],
       "layout": {
        "barmode": "relative",
        "legend": {
         "title": {
          "text": "zip"
         },
         "tracegroupgap": 0
        },
        "template": {
         "data": {
          "bar": [
           {
            "error_x": {
             "color": "#2a3f5f"
            },
            "error_y": {
             "color": "#2a3f5f"
            },
            "marker": {
             "line": {
              "color": "#E5ECF6",
              "width": 0.5
             },
             "pattern": {
              "fillmode": "overlay",
              "size": 10,
              "solidity": 0.2
             }
            },
            "type": "bar"
           }
          ],
          "barpolar": [
           {
            "marker": {
             "line": {
              "color": "#E5ECF6",
              "width": 0.5
             },
             "pattern": {
              "fillmode": "overlay",
              "size": 10,
              "solidity": 0.2
             }
            },
            "type": "barpolar"
           }
          ],
          "carpet": [
           {
            "aaxis": {
             "endlinecolor": "#2a3f5f",
             "gridcolor": "white",
             "linecolor": "white",
             "minorgridcolor": "white",
             "startlinecolor": "#2a3f5f"
            },
            "baxis": {
             "endlinecolor": "#2a3f5f",
             "gridcolor": "white",
             "linecolor": "white",
             "minorgridcolor": "white",
             "startlinecolor": "#2a3f5f"
            },
            "type": "carpet"
           }
          ],
          "choropleth": [
           {
            "colorbar": {
             "outlinewidth": 0,
             "ticks": ""
            },
            "type": "choropleth"
           }
          ],
          "contour": [
           {
            "colorbar": {
             "outlinewidth": 0,
             "ticks": ""
            },
            "colorscale": [
             [
              0,
              "#0d0887"
             ],
             [
              0.1111111111111111,
              "#46039f"
             ],
             [
              0.2222222222222222,
              "#7201a8"
             ],
             [
              0.3333333333333333,
              "#9c179e"
             ],
             [
              0.4444444444444444,
              "#bd3786"
             ],
             [
              0.5555555555555556,
              "#d8576b"
             ],
             [
              0.6666666666666666,
              "#ed7953"
             ],
             [
              0.7777777777777778,
              "#fb9f3a"
             ],
             [
              0.8888888888888888,
              "#fdca26"
             ],
             [
              1,
              "#f0f921"
             ]
            ],
            "type": "contour"
           }
          ],
          "contourcarpet": [
           {
            "colorbar": {
             "outlinewidth": 0,
             "ticks": ""
            },
            "type": "contourcarpet"
           }
          ],
          "heatmap": [
           {
            "colorbar": {
             "outlinewidth": 0,
             "ticks": ""
            },
            "colorscale": [
             [
              0,
              "#0d0887"
             ],
             [
              0.1111111111111111,
              "#46039f"
             ],
             [
              0.2222222222222222,
              "#7201a8"
             ],
             [
              0.3333333333333333,
              "#9c179e"
             ],
             [
              0.4444444444444444,
              "#bd3786"
             ],
             [
              0.5555555555555556,
              "#d8576b"
             ],
             [
              0.6666666666666666,
              "#ed7953"
             ],
             [
              0.7777777777777778,
              "#fb9f3a"
             ],
             [
              0.8888888888888888,
              "#fdca26"
             ],
             [
              1,
              "#f0f921"
             ]
            ],
            "type": "heatmap"
           }
          ],
          "heatmapgl": [
           {
            "colorbar": {
             "outlinewidth": 0,
             "ticks": ""
            },
            "colorscale": [
             [
              0,
              "#0d0887"
             ],
             [
              0.1111111111111111,
              "#46039f"
             ],
             [
              0.2222222222222222,
              "#7201a8"
             ],
             [
              0.3333333333333333,
              "#9c179e"
             ],
             [
              0.4444444444444444,
              "#bd3786"
             ],
             [
              0.5555555555555556,
              "#d8576b"
             ],
             [
              0.6666666666666666,
              "#ed7953"
             ],
             [
              0.7777777777777778,
              "#fb9f3a"
             ],
             [
              0.8888888888888888,
              "#fdca26"
             ],
             [
              1,
              "#f0f921"
             ]
            ],
            "type": "heatmapgl"
           }
          ],
          "histogram": [
           {
            "marker": {
             "pattern": {
              "fillmode": "overlay",
              "size": 10,
              "solidity": 0.2
             }
            },
            "type": "histogram"
           }
          ],
          "histogram2d": [
           {
            "colorbar": {
             "outlinewidth": 0,
             "ticks": ""
            },
            "colorscale": [
             [
              0,
              "#0d0887"
             ],
             [
              0.1111111111111111,
              "#46039f"
             ],
             [
              0.2222222222222222,
              "#7201a8"
             ],
             [
              0.3333333333333333,
              "#9c179e"
             ],
             [
              0.4444444444444444,
              "#bd3786"
             ],
             [
              0.5555555555555556,
              "#d8576b"
             ],
             [
              0.6666666666666666,
              "#ed7953"
             ],
             [
              0.7777777777777778,
              "#fb9f3a"
             ],
             [
              0.8888888888888888,
              "#fdca26"
             ],
             [
              1,
              "#f0f921"
             ]
            ],
            "type": "histogram2d"
           }
          ],
          "histogram2dcontour": [
           {
            "colorbar": {
             "outlinewidth": 0,
             "ticks": ""
            },
            "colorscale": [
             [
              0,
              "#0d0887"
             ],
             [
              0.1111111111111111,
              "#46039f"
             ],
             [
              0.2222222222222222,
              "#7201a8"
             ],
             [
              0.3333333333333333,
              "#9c179e"
             ],
             [
              0.4444444444444444,
              "#bd3786"
             ],
             [
              0.5555555555555556,
              "#d8576b"
             ],
             [
              0.6666666666666666,
              "#ed7953"
             ],
             [
              0.7777777777777778,
              "#fb9f3a"
             ],
             [
              0.8888888888888888,
              "#fdca26"
             ],
             [
              1,
              "#f0f921"
             ]
            ],
            "type": "histogram2dcontour"
           }
          ],
          "mesh3d": [
           {
            "colorbar": {
             "outlinewidth": 0,
             "ticks": ""
            },
            "type": "mesh3d"
           }
          ],
          "parcoords": [
           {
            "line": {
             "colorbar": {
              "outlinewidth": 0,
              "ticks": ""
             }
            },
            "type": "parcoords"
           }
          ],
          "pie": [
           {
            "automargin": true,
            "type": "pie"
           }
          ],
          "scatter": [
           {
            "fillpattern": {
             "fillmode": "overlay",
             "size": 10,
             "solidity": 0.2
            },
            "type": "scatter"
           }
          ],
          "scatter3d": [
           {
            "line": {
             "colorbar": {
              "outlinewidth": 0,
              "ticks": ""
             }
            },
            "marker": {
             "colorbar": {
              "outlinewidth": 0,
              "ticks": ""
             }
            },
            "type": "scatter3d"
           }
          ],
          "scattercarpet": [
           {
            "marker": {
             "colorbar": {
              "outlinewidth": 0,
              "ticks": ""
             }
            },
            "type": "scattercarpet"
           }
          ],
          "scattergeo": [
           {
            "marker": {
             "colorbar": {
              "outlinewidth": 0,
              "ticks": ""
             }
            },
            "type": "scattergeo"
           }
          ],
          "scattergl": [
           {
            "marker": {
             "colorbar": {
              "outlinewidth": 0,
              "ticks": ""
             }
            },
            "type": "scattergl"
           }
          ],
          "scattermapbox": [
           {
            "marker": {
             "colorbar": {
              "outlinewidth": 0,
              "ticks": ""
             }
            },
            "type": "scattermapbox"
           }
          ],
          "scatterpolar": [
           {
            "marker": {
             "colorbar": {
              "outlinewidth": 0,
              "ticks": ""
             }
            },
            "type": "scatterpolar"
           }
          ],
          "scatterpolargl": [
           {
            "marker": {
             "colorbar": {
              "outlinewidth": 0,
              "ticks": ""
             }
            },
            "type": "scatterpolargl"
           }
          ],
          "scatterternary": [
           {
            "marker": {
             "colorbar": {
              "outlinewidth": 0,
              "ticks": ""
             }
            },
            "type": "scatterternary"
           }
          ],
          "surface": [
           {
            "colorbar": {
             "outlinewidth": 0,
             "ticks": ""
            },
            "colorscale": [
             [
              0,
              "#0d0887"
             ],
             [
              0.1111111111111111,
              "#46039f"
             ],
             [
              0.2222222222222222,
              "#7201a8"
             ],
             [
              0.3333333333333333,
              "#9c179e"
             ],
             [
              0.4444444444444444,
              "#bd3786"
             ],
             [
              0.5555555555555556,
              "#d8576b"
             ],
             [
              0.6666666666666666,
              "#ed7953"
             ],
             [
              0.7777777777777778,
              "#fb9f3a"
             ],
             [
              0.8888888888888888,
              "#fdca26"
             ],
             [
              1,
              "#f0f921"
             ]
            ],
            "type": "surface"
           }
          ],
          "table": [
           {
            "cells": {
             "fill": {
              "color": "#EBF0F8"
             },
             "line": {
              "color": "white"
             }
            },
            "header": {
             "fill": {
              "color": "#C8D4E3"
             },
             "line": {
              "color": "white"
             }
            },
            "type": "table"
           }
          ]
         },
         "layout": {
          "annotationdefaults": {
           "arrowcolor": "#2a3f5f",
           "arrowhead": 0,
           "arrowwidth": 1
          },
          "autotypenumbers": "strict",
          "coloraxis": {
           "colorbar": {
            "outlinewidth": 0,
            "ticks": ""
           }
          },
          "colorscale": {
           "diverging": [
            [
             0,
             "#8e0152"
            ],
            [
             0.1,
             "#c51b7d"
            ],
            [
             0.2,
             "#de77ae"
            ],
            [
             0.3,
             "#f1b6da"
            ],
            [
             0.4,
             "#fde0ef"
            ],
            [
             0.5,
             "#f7f7f7"
            ],
            [
             0.6,
             "#e6f5d0"
            ],
            [
             0.7,
             "#b8e186"
            ],
            [
             0.8,
             "#7fbc41"
            ],
            [
             0.9,
             "#4d9221"
            ],
            [
             1,
             "#276419"
            ]
           ],
           "sequential": [
            [
             0,
             "#0d0887"
            ],
            [
             0.1111111111111111,
             "#46039f"
            ],
            [
             0.2222222222222222,
             "#7201a8"
            ],
            [
             0.3333333333333333,
             "#9c179e"
            ],
            [
             0.4444444444444444,
             "#bd3786"
            ],
            [
             0.5555555555555556,
             "#d8576b"
            ],
            [
             0.6666666666666666,
             "#ed7953"
            ],
            [
             0.7777777777777778,
             "#fb9f3a"
            ],
            [
             0.8888888888888888,
             "#fdca26"
            ],
            [
             1,
             "#f0f921"
            ]
           ],
           "sequentialminus": [
            [
             0,
             "#0d0887"
            ],
            [
             0.1111111111111111,
             "#46039f"
            ],
            [
             0.2222222222222222,
             "#7201a8"
            ],
            [
             0.3333333333333333,
             "#9c179e"
            ],
            [
             0.4444444444444444,
             "#bd3786"
            ],
            [
             0.5555555555555556,
             "#d8576b"
            ],
            [
             0.6666666666666666,
             "#ed7953"
            ],
            [
             0.7777777777777778,
             "#fb9f3a"
            ],
            [
             0.8888888888888888,
             "#fdca26"
            ],
            [
             1,
             "#f0f921"
            ]
           ]
          },
          "colorway": [
           "#636efa",
           "#EF553B",
           "#00cc96",
           "#ab63fa",
           "#FFA15A",
           "#19d3f3",
           "#FF6692",
           "#B6E880",
           "#FF97FF",
           "#FECB52"
          ],
          "font": {
           "color": "#2a3f5f"
          },
          "geo": {
           "bgcolor": "white",
           "lakecolor": "white",
           "landcolor": "#E5ECF6",
           "showlakes": true,
           "showland": true,
           "subunitcolor": "white"
          },
          "hoverlabel": {
           "align": "left"
          },
          "hovermode": "closest",
          "mapbox": {
           "style": "light"
          },
          "paper_bgcolor": "white",
          "plot_bgcolor": "#E5ECF6",
          "polar": {
           "angularaxis": {
            "gridcolor": "white",
            "linecolor": "white",
            "ticks": ""
           },
           "bgcolor": "#E5ECF6",
           "radialaxis": {
            "gridcolor": "white",
            "linecolor": "white",
            "ticks": ""
           }
          },
          "scene": {
           "xaxis": {
            "backgroundcolor": "#E5ECF6",
            "gridcolor": "white",
            "gridwidth": 2,
            "linecolor": "white",
            "showbackground": true,
            "ticks": "",
            "zerolinecolor": "white"
           },
           "yaxis": {
            "backgroundcolor": "#E5ECF6",
            "gridcolor": "white",
            "gridwidth": 2,
            "linecolor": "white",
            "showbackground": true,
            "ticks": "",
            "zerolinecolor": "white"
           },
           "zaxis": {
            "backgroundcolor": "#E5ECF6",
            "gridcolor": "white",
            "gridwidth": 2,
            "linecolor": "white",
            "showbackground": true,
            "ticks": "",
            "zerolinecolor": "white"
           }
          },
          "shapedefaults": {
           "line": {
            "color": "#2a3f5f"
           }
          },
          "ternary": {
           "aaxis": {
            "gridcolor": "white",
            "linecolor": "white",
            "ticks": ""
           },
           "baxis": {
            "gridcolor": "white",
            "linecolor": "white",
            "ticks": ""
           },
           "bgcolor": "#E5ECF6",
           "caxis": {
            "gridcolor": "white",
            "linecolor": "white",
            "ticks": ""
           }
          },
          "title": {
           "x": 0.05
          },
          "xaxis": {
           "automargin": true,
           "gridcolor": "white",
           "linecolor": "white",
           "ticks": "",
           "title": {
            "standoff": 15
           },
           "zerolinecolor": "white",
           "zerolinewidth": 2
          },
          "yaxis": {
           "automargin": true,
           "gridcolor": "white",
           "linecolor": "white",
           "ticks": "",
           "title": {
            "standoff": 15
           },
           "zerolinecolor": "white",
           "zerolinewidth": 2
          }
         }
        },
        "title": {
         "text": "The Distribution of Vaccine Counts by Zip Code"
        },
        "xaxis": {
         "anchor": "y",
         "categoryarray": [
          "60601",
          "60602",
          "60603",
          "60604",
          "60605",
          "60606",
          "60607",
          "60608",
          "60609",
          "60610",
          "60611",
          "60612",
          "60613",
          "60614",
          "60615",
          "60616",
          "60617",
          "60618",
          "60619",
          "60620",
          "60621",
          "60622",
          "60623",
          "60624",
          "60625",
          "60626",
          "60628",
          "60629",
          "60630",
          "60631",
          "60632",
          "60633",
          "60634",
          "60636",
          "60637",
          "60638",
          "60639",
          "60640",
          "60641",
          "60642",
          "60643",
          "60644",
          "60645",
          "60646",
          "60647",
          "60649",
          "60651",
          "60652",
          "60653",
          "60654",
          "60655",
          "60656",
          "60657",
          "60659",
          "60660",
          "60661",
          "60666",
          "60707",
          "60827",
          "Unknown"
         ],
         "categoryorder": "array",
         "domain": [
          0,
          1
         ],
         "title": {
          "text": "zip"
         }
        },
        "yaxis": {
         "anchor": "x",
         "domain": [
          0,
          1
         ],
         "title": {
          "text": "count"
         }
        }
       }
      },
      "text/html": [
       "<div>                            <div id=\"e63e55aa-9ed9-4565-8f63-cbc63cdd238f\" class=\"plotly-graph-div\" style=\"height:525px; width:100%;\"></div>            <script type=\"text/javascript\">                require([\"plotly\"], function(Plotly) {                    window.PLOTLYENV=window.PLOTLYENV || {};                                    if (document.getElementById(\"e63e55aa-9ed9-4565-8f63-cbc63cdd238f\")) {                    Plotly.newPlot(                        \"e63e55aa-9ed9-4565-8f63-cbc63cdd238f\",                        [{\"alignmentgroup\":\"True\",\"hovertemplate\":\"zip=%{x}<br>count=%{y}<extra></extra>\",\"legendgroup\":\"60601\",\"marker\":{\"color\":\"#636efa\",\"pattern\":{\"shape\":\"\"}},\"name\":\"60601\",\"offsetgroup\":\"60601\",\"orientation\":\"v\",\"showlegend\":true,\"textposition\":\"auto\",\"x\":[\"60601\"],\"xaxis\":\"x\",\"y\":[281095],\"yaxis\":\"y\",\"type\":\"bar\"},{\"alignmentgroup\":\"True\",\"hovertemplate\":\"zip=%{x}<br>count=%{y}<extra></extra>\",\"legendgroup\":\"60602\",\"marker\":{\"color\":\"#EF553B\",\"pattern\":{\"shape\":\"\"}},\"name\":\"60602\",\"offsetgroup\":\"60602\",\"orientation\":\"v\",\"showlegend\":true,\"textposition\":\"auto\",\"x\":[\"60602\"],\"xaxis\":\"x\",\"y\":[40884],\"yaxis\":\"y\",\"type\":\"bar\"},{\"alignmentgroup\":\"True\",\"hovertemplate\":\"zip=%{x}<br>count=%{y}<extra></extra>\",\"legendgroup\":\"60603\",\"marker\":{\"color\":\"#00cc96\",\"pattern\":{\"shape\":\"\"}},\"name\":\"60603\",\"offsetgroup\":\"60603\",\"orientation\":\"v\",\"showlegend\":true,\"textposition\":\"auto\",\"x\":[\"60603\"],\"xaxis\":\"x\",\"y\":[36062],\"yaxis\":\"y\",\"type\":\"bar\"},{\"alignmentgroup\":\"True\",\"hovertemplate\":\"zip=%{x}<br>count=%{y}<extra></extra>\",\"legendgroup\":\"60604\",\"marker\":{\"color\":\"#ab63fa\",\"pattern\":{\"shape\":\"\"}},\"name\":\"60604\",\"offsetgroup\":\"60604\",\"orientation\":\"v\",\"showlegend\":true,\"textposition\":\"auto\",\"x\":[\"60604\"],\"xaxis\":\"x\",\"y\":[32121],\"yaxis\":\"y\",\"type\":\"bar\"},{\"alignmentgroup\":\"True\",\"hovertemplate\":\"zip=%{x}<br>count=%{y}<extra></extra>\",\"legendgroup\":\"60605\",\"marker\":{\"color\":\"#FFA15A\",\"pattern\":{\"shape\":\"\"}},\"name\":\"60605\",\"offsetgroup\":\"60605\",\"orientation\":\"v\",\"showlegend\":true,\"textposition\":\"auto\",\"x\":[\"60605\"],\"xaxis\":\"x\",\"y\":[546475],\"yaxis\":\"y\",\"type\":\"bar\"},{\"alignmentgroup\":\"True\",\"hovertemplate\":\"zip=%{x}<br>count=%{y}<extra></extra>\",\"legendgroup\":\"60606\",\"marker\":{\"color\":\"#19d3f3\",\"pattern\":{\"shape\":\"\"}},\"name\":\"60606\",\"offsetgroup\":\"60606\",\"orientation\":\"v\",\"showlegend\":true,\"textposition\":\"auto\",\"x\":[\"60606\"],\"xaxis\":\"x\",\"y\":[66422],\"yaxis\":\"y\",\"type\":\"bar\"},{\"alignmentgroup\":\"True\",\"hovertemplate\":\"zip=%{x}<br>count=%{y}<extra></extra>\",\"legendgroup\":\"60607\",\"marker\":{\"color\":\"#FF6692\",\"pattern\":{\"shape\":\"\"}},\"name\":\"60607\",\"offsetgroup\":\"60607\",\"orientation\":\"v\",\"showlegend\":true,\"textposition\":\"auto\",\"x\":[\"60607\"],\"xaxis\":\"x\",\"y\":[429567],\"yaxis\":\"y\",\"type\":\"bar\"},{\"alignmentgroup\":\"True\",\"hovertemplate\":\"zip=%{x}<br>count=%{y}<extra></extra>\",\"legendgroup\":\"60608\",\"marker\":{\"color\":\"#B6E880\",\"pattern\":{\"shape\":\"\"}},\"name\":\"60608\",\"offsetgroup\":\"60608\",\"orientation\":\"v\",\"showlegend\":true,\"textposition\":\"auto\",\"x\":[\"60608\"],\"xaxis\":\"x\",\"y\":[645616],\"yaxis\":\"y\",\"type\":\"bar\"},{\"alignmentgroup\":\"True\",\"hovertemplate\":\"zip=%{x}<br>count=%{y}<extra></extra>\",\"legendgroup\":\"60609\",\"marker\":{\"color\":\"#FF97FF\",\"pattern\":{\"shape\":\"\"}},\"name\":\"60609\",\"offsetgroup\":\"60609\",\"orientation\":\"v\",\"showlegend\":true,\"textposition\":\"auto\",\"x\":[\"60609\"],\"xaxis\":\"x\",\"y\":[355733],\"yaxis\":\"y\",\"type\":\"bar\"},{\"alignmentgroup\":\"True\",\"hovertemplate\":\"zip=%{x}<br>count=%{y}<extra></extra>\",\"legendgroup\":\"60610\",\"marker\":{\"color\":\"#FECB52\",\"pattern\":{\"shape\":\"\"}},\"name\":\"60610\",\"offsetgroup\":\"60610\",\"orientation\":\"v\",\"showlegend\":true,\"textposition\":\"auto\",\"x\":[\"60610\"],\"xaxis\":\"x\",\"y\":[662261],\"yaxis\":\"y\",\"type\":\"bar\"},{\"alignmentgroup\":\"True\",\"hovertemplate\":\"zip=%{x}<br>count=%{y}<extra></extra>\",\"legendgroup\":\"60611\",\"marker\":{\"color\":\"#636efa\",\"pattern\":{\"shape\":\"\"}},\"name\":\"60611\",\"offsetgroup\":\"60611\",\"orientation\":\"v\",\"showlegend\":true,\"textposition\":\"auto\",\"x\":[\"60611\"],\"xaxis\":\"x\",\"y\":[758124],\"yaxis\":\"y\",\"type\":\"bar\"},{\"alignmentgroup\":\"True\",\"hovertemplate\":\"zip=%{x}<br>count=%{y}<extra></extra>\",\"legendgroup\":\"60612\",\"marker\":{\"color\":\"#EF553B\",\"pattern\":{\"shape\":\"\"}},\"name\":\"60612\",\"offsetgroup\":\"60612\",\"orientation\":\"v\",\"showlegend\":true,\"textposition\":\"auto\",\"x\":[\"60612\"],\"xaxis\":\"x\",\"y\":[292045],\"yaxis\":\"y\",\"type\":\"bar\"},{\"alignmentgroup\":\"True\",\"hovertemplate\":\"zip=%{x}<br>count=%{y}<extra></extra>\",\"legendgroup\":\"60613\",\"marker\":{\"color\":\"#00cc96\",\"pattern\":{\"shape\":\"\"}},\"name\":\"60613\",\"offsetgroup\":\"60613\",\"orientation\":\"v\",\"showlegend\":true,\"textposition\":\"auto\",\"x\":[\"60613\"],\"xaxis\":\"x\",\"y\":[1031824],\"yaxis\":\"y\",\"type\":\"bar\"},{\"alignmentgroup\":\"True\",\"hovertemplate\":\"zip=%{x}<br>count=%{y}<extra></extra>\",\"legendgroup\":\"60614\",\"marker\":{\"color\":\"#ab63fa\",\"pattern\":{\"shape\":\"\"}},\"name\":\"60614\",\"offsetgroup\":\"60614\",\"orientation\":\"v\",\"showlegend\":true,\"textposition\":\"auto\",\"x\":[\"60614\"],\"xaxis\":\"x\",\"y\":[1217450],\"yaxis\":\"y\",\"type\":\"bar\"},{\"alignmentgroup\":\"True\",\"hovertemplate\":\"zip=%{x}<br>count=%{y}<extra></extra>\",\"legendgroup\":\"60615\",\"marker\":{\"color\":\"#FFA15A\",\"pattern\":{\"shape\":\"\"}},\"name\":\"60615\",\"offsetgroup\":\"60615\",\"orientation\":\"v\",\"showlegend\":true,\"textposition\":\"auto\",\"x\":[\"60615\"],\"xaxis\":\"x\",\"y\":[590753],\"yaxis\":\"y\",\"type\":\"bar\"},{\"alignmentgroup\":\"True\",\"hovertemplate\":\"zip=%{x}<br>count=%{y}<extra></extra>\",\"legendgroup\":\"60616\",\"marker\":{\"color\":\"#19d3f3\",\"pattern\":{\"shape\":\"\"}},\"name\":\"60616\",\"offsetgroup\":\"60616\",\"orientation\":\"v\",\"showlegend\":true,\"textposition\":\"auto\",\"x\":[\"60616\"],\"xaxis\":\"x\",\"y\":[535321],\"yaxis\":\"y\",\"type\":\"bar\"},{\"alignmentgroup\":\"True\",\"hovertemplate\":\"zip=%{x}<br>count=%{y}<extra></extra>\",\"legendgroup\":\"60617\",\"marker\":{\"color\":\"#FF6692\",\"pattern\":{\"shape\":\"\"}},\"name\":\"60617\",\"offsetgroup\":\"60617\",\"orientation\":\"v\",\"showlegend\":true,\"textposition\":\"auto\",\"x\":[\"60617\"],\"xaxis\":\"x\",\"y\":[464803],\"yaxis\":\"y\",\"type\":\"bar\"},{\"alignmentgroup\":\"True\",\"hovertemplate\":\"zip=%{x}<br>count=%{y}<extra></extra>\",\"legendgroup\":\"60618\",\"marker\":{\"color\":\"#B6E880\",\"pattern\":{\"shape\":\"\"}},\"name\":\"60618\",\"offsetgroup\":\"60618\",\"orientation\":\"v\",\"showlegend\":true,\"textposition\":\"auto\",\"x\":[\"60618\"],\"xaxis\":\"x\",\"y\":[1380679],\"yaxis\":\"y\",\"type\":\"bar\"},{\"alignmentgroup\":\"True\",\"hovertemplate\":\"zip=%{x}<br>count=%{y}<extra></extra>\",\"legendgroup\":\"60619\",\"marker\":{\"color\":\"#FF97FF\",\"pattern\":{\"shape\":\"\"}},\"name\":\"60619\",\"offsetgroup\":\"60619\",\"orientation\":\"v\",\"showlegend\":true,\"textposition\":\"auto\",\"x\":[\"60619\"],\"xaxis\":\"x\",\"y\":[435451],\"yaxis\":\"y\",\"type\":\"bar\"},{\"alignmentgroup\":\"True\",\"hovertemplate\":\"zip=%{x}<br>count=%{y}<extra></extra>\",\"legendgroup\":\"60620\",\"marker\":{\"color\":\"#FECB52\",\"pattern\":{\"shape\":\"\"}},\"name\":\"60620\",\"offsetgroup\":\"60620\",\"orientation\":\"v\",\"showlegend\":true,\"textposition\":\"auto\",\"x\":[\"60620\"],\"xaxis\":\"x\",\"y\":[369126],\"yaxis\":\"y\",\"type\":\"bar\"},{\"alignmentgroup\":\"True\",\"hovertemplate\":\"zip=%{x}<br>count=%{y}<extra></extra>\",\"legendgroup\":\"60621\",\"marker\":{\"color\":\"#636efa\",\"pattern\":{\"shape\":\"\"}},\"name\":\"60621\",\"offsetgroup\":\"60621\",\"orientation\":\"v\",\"showlegend\":true,\"textposition\":\"auto\",\"x\":[\"60621\"],\"xaxis\":\"x\",\"y\":[119459],\"yaxis\":\"y\",\"type\":\"bar\"},{\"alignmentgroup\":\"True\",\"hovertemplate\":\"zip=%{x}<br>count=%{y}<extra></extra>\",\"legendgroup\":\"60622\",\"marker\":{\"color\":\"#EF553B\",\"pattern\":{\"shape\":\"\"}},\"name\":\"60622\",\"offsetgroup\":\"60622\",\"orientation\":\"v\",\"showlegend\":true,\"textposition\":\"auto\",\"x\":[\"60622\"],\"xaxis\":\"x\",\"y\":[752245],\"yaxis\":\"y\",\"type\":\"bar\"},{\"alignmentgroup\":\"True\",\"hovertemplate\":\"zip=%{x}<br>count=%{y}<extra></extra>\",\"legendgroup\":\"60623\",\"marker\":{\"color\":\"#00cc96\",\"pattern\":{\"shape\":\"\"}},\"name\":\"60623\",\"offsetgroup\":\"60623\",\"orientation\":\"v\",\"showlegend\":true,\"textposition\":\"auto\",\"x\":[\"60623\"],\"xaxis\":\"x\",\"y\":[375040],\"yaxis\":\"y\",\"type\":\"bar\"},{\"alignmentgroup\":\"True\",\"hovertemplate\":\"zip=%{x}<br>count=%{y}<extra></extra>\",\"legendgroup\":\"60624\",\"marker\":{\"color\":\"#ab63fa\",\"pattern\":{\"shape\":\"\"}},\"name\":\"60624\",\"offsetgroup\":\"60624\",\"orientation\":\"v\",\"showlegend\":true,\"textposition\":\"auto\",\"x\":[\"60624\"],\"xaxis\":\"x\",\"y\":[163470],\"yaxis\":\"y\",\"type\":\"bar\"},{\"alignmentgroup\":\"True\",\"hovertemplate\":\"zip=%{x}<br>count=%{y}<extra></extra>\",\"legendgroup\":\"60625\",\"marker\":{\"color\":\"#FFA15A\",\"pattern\":{\"shape\":\"\"}},\"name\":\"60625\",\"offsetgroup\":\"60625\",\"orientation\":\"v\",\"showlegend\":true,\"textposition\":\"auto\",\"x\":[\"60625\"],\"xaxis\":\"x\",\"y\":[1132699],\"yaxis\":\"y\",\"type\":\"bar\"},{\"alignmentgroup\":\"True\",\"hovertemplate\":\"zip=%{x}<br>count=%{y}<extra></extra>\",\"legendgroup\":\"60626\",\"marker\":{\"color\":\"#19d3f3\",\"pattern\":{\"shape\":\"\"}},\"name\":\"60626\",\"offsetgroup\":\"60626\",\"orientation\":\"v\",\"showlegend\":true,\"textposition\":\"auto\",\"x\":[\"60626\"],\"xaxis\":\"x\",\"y\":[707090],\"yaxis\":\"y\",\"type\":\"bar\"},{\"alignmentgroup\":\"True\",\"hovertemplate\":\"zip=%{x}<br>count=%{y}<extra></extra>\",\"legendgroup\":\"60628\",\"marker\":{\"color\":\"#FF6692\",\"pattern\":{\"shape\":\"\"}},\"name\":\"60628\",\"offsetgroup\":\"60628\",\"orientation\":\"v\",\"showlegend\":true,\"textposition\":\"auto\",\"x\":[\"60628\"],\"xaxis\":\"x\",\"y\":[386726],\"yaxis\":\"y\",\"type\":\"bar\"},{\"alignmentgroup\":\"True\",\"hovertemplate\":\"zip=%{x}<br>count=%{y}<extra></extra>\",\"legendgroup\":\"60629\",\"marker\":{\"color\":\"#B6E880\",\"pattern\":{\"shape\":\"\"}},\"name\":\"60629\",\"offsetgroup\":\"60629\",\"orientation\":\"v\",\"showlegend\":true,\"textposition\":\"auto\",\"x\":[\"60629\"],\"xaxis\":\"x\",\"y\":[543788],\"yaxis\":\"y\",\"type\":\"bar\"},{\"alignmentgroup\":\"True\",\"hovertemplate\":\"zip=%{x}<br>count=%{y}<extra></extra>\",\"legendgroup\":\"60630\",\"marker\":{\"color\":\"#FF97FF\",\"pattern\":{\"shape\":\"\"}},\"name\":\"60630\",\"offsetgroup\":\"60630\",\"orientation\":\"v\",\"showlegend\":true,\"textposition\":\"auto\",\"x\":[\"60630\"],\"xaxis\":\"x\",\"y\":[618356],\"yaxis\":\"y\",\"type\":\"bar\"},{\"alignmentgroup\":\"True\",\"hovertemplate\":\"zip=%{x}<br>count=%{y}<extra></extra>\",\"legendgroup\":\"60631\",\"marker\":{\"color\":\"#FECB52\",\"pattern\":{\"shape\":\"\"}},\"name\":\"60631\",\"offsetgroup\":\"60631\",\"orientation\":\"v\",\"showlegend\":true,\"textposition\":\"auto\",\"x\":[\"60631\"],\"xaxis\":\"x\",\"y\":[337479],\"yaxis\":\"y\",\"type\":\"bar\"},{\"alignmentgroup\":\"True\",\"hovertemplate\":\"zip=%{x}<br>count=%{y}<extra></extra>\",\"legendgroup\":\"60632\",\"marker\":{\"color\":\"#636efa\",\"pattern\":{\"shape\":\"\"}},\"name\":\"60632\",\"offsetgroup\":\"60632\",\"orientation\":\"v\",\"showlegend\":true,\"textposition\":\"auto\",\"x\":[\"60632\"],\"xaxis\":\"x\",\"y\":[449018],\"yaxis\":\"y\",\"type\":\"bar\"},{\"alignmentgroup\":\"True\",\"hovertemplate\":\"zip=%{x}<br>count=%{y}<extra></extra>\",\"legendgroup\":\"60633\",\"marker\":{\"color\":\"#EF553B\",\"pattern\":{\"shape\":\"\"}},\"name\":\"60633\",\"offsetgroup\":\"60633\",\"orientation\":\"v\",\"showlegend\":true,\"textposition\":\"auto\",\"x\":[\"60633\"],\"xaxis\":\"x\",\"y\":[49389],\"yaxis\":\"y\",\"type\":\"bar\"},{\"alignmentgroup\":\"True\",\"hovertemplate\":\"zip=%{x}<br>count=%{y}<extra></extra>\",\"legendgroup\":\"60634\",\"marker\":{\"color\":\"#00cc96\",\"pattern\":{\"shape\":\"\"}},\"name\":\"60634\",\"offsetgroup\":\"60634\",\"orientation\":\"v\",\"showlegend\":true,\"textposition\":\"auto\",\"x\":[\"60634\"],\"xaxis\":\"x\",\"y\":[584566],\"yaxis\":\"y\",\"type\":\"bar\"},{\"alignmentgroup\":\"True\",\"hovertemplate\":\"zip=%{x}<br>count=%{y}<extra></extra>\",\"legendgroup\":\"60636\",\"marker\":{\"color\":\"#ab63fa\",\"pattern\":{\"shape\":\"\"}},\"name\":\"60636\",\"offsetgroup\":\"60636\",\"orientation\":\"v\",\"showlegend\":true,\"textposition\":\"auto\",\"x\":[\"60636\"],\"xaxis\":\"x\",\"y\":[150265],\"yaxis\":\"y\",\"type\":\"bar\"},{\"alignmentgroup\":\"True\",\"hovertemplate\":\"zip=%{x}<br>count=%{y}<extra></extra>\",\"legendgroup\":\"60637\",\"marker\":{\"color\":\"#FFA15A\",\"pattern\":{\"shape\":\"\"}},\"name\":\"60637\",\"offsetgroup\":\"60637\",\"orientation\":\"v\",\"showlegend\":true,\"textposition\":\"auto\",\"x\":[\"60637\"],\"xaxis\":\"x\",\"y\":[409199],\"yaxis\":\"y\",\"type\":\"bar\"},{\"alignmentgroup\":\"True\",\"hovertemplate\":\"zip=%{x}<br>count=%{y}<extra></extra>\",\"legendgroup\":\"60638\",\"marker\":{\"color\":\"#19d3f3\",\"pattern\":{\"shape\":\"\"}},\"name\":\"60638\",\"offsetgroup\":\"60638\",\"orientation\":\"v\",\"showlegend\":true,\"textposition\":\"auto\",\"x\":[\"60638\"],\"xaxis\":\"x\",\"y\":[367847],\"yaxis\":\"y\",\"type\":\"bar\"},{\"alignmentgroup\":\"True\",\"hovertemplate\":\"zip=%{x}<br>count=%{y}<extra></extra>\",\"legendgroup\":\"60639\",\"marker\":{\"color\":\"#FF6692\",\"pattern\":{\"shape\":\"\"}},\"name\":\"60639\",\"offsetgroup\":\"60639\",\"orientation\":\"v\",\"showlegend\":true,\"textposition\":\"auto\",\"x\":[\"60639\"],\"xaxis\":\"x\",\"y\":[463789],\"yaxis\":\"y\",\"type\":\"bar\"},{\"alignmentgroup\":\"True\",\"hovertemplate\":\"zip=%{x}<br>count=%{y}<extra></extra>\",\"legendgroup\":\"60640\",\"marker\":{\"color\":\"#B6E880\",\"pattern\":{\"shape\":\"\"}},\"name\":\"60640\",\"offsetgroup\":\"60640\",\"orientation\":\"v\",\"showlegend\":true,\"textposition\":\"auto\",\"x\":[\"60640\"],\"xaxis\":\"x\",\"y\":[1398616],\"yaxis\":\"y\",\"type\":\"bar\"},{\"alignmentgroup\":\"True\",\"hovertemplate\":\"zip=%{x}<br>count=%{y}<extra></extra>\",\"legendgroup\":\"60641\",\"marker\":{\"color\":\"#FF97FF\",\"pattern\":{\"shape\":\"\"}},\"name\":\"60641\",\"offsetgroup\":\"60641\",\"orientation\":\"v\",\"showlegend\":true,\"textposition\":\"auto\",\"x\":[\"60641\"],\"xaxis\":\"x\",\"y\":[671835],\"yaxis\":\"y\",\"type\":\"bar\"},{\"alignmentgroup\":\"True\",\"hovertemplate\":\"zip=%{x}<br>count=%{y}<extra></extra>\",\"legendgroup\":\"60642\",\"marker\":{\"color\":\"#FECB52\",\"pattern\":{\"shape\":\"\"}},\"name\":\"60642\",\"offsetgroup\":\"60642\",\"orientation\":\"v\",\"showlegend\":true,\"textposition\":\"auto\",\"x\":[\"60642\"],\"xaxis\":\"x\",\"y\":[277792],\"yaxis\":\"y\",\"type\":\"bar\"},{\"alignmentgroup\":\"True\",\"hovertemplate\":\"zip=%{x}<br>count=%{y}<extra></extra>\",\"legendgroup\":\"60643\",\"marker\":{\"color\":\"#636efa\",\"pattern\":{\"shape\":\"\"}},\"name\":\"60643\",\"offsetgroup\":\"60643\",\"orientation\":\"v\",\"showlegend\":true,\"textposition\":\"auto\",\"x\":[\"60643\"],\"xaxis\":\"x\",\"y\":[499905],\"yaxis\":\"y\",\"type\":\"bar\"},{\"alignmentgroup\":\"True\",\"hovertemplate\":\"zip=%{x}<br>count=%{y}<extra></extra>\",\"legendgroup\":\"60644\",\"marker\":{\"color\":\"#EF553B\",\"pattern\":{\"shape\":\"\"}},\"name\":\"60644\",\"offsetgroup\":\"60644\",\"orientation\":\"v\",\"showlegend\":true,\"textposition\":\"auto\",\"x\":[\"60644\"],\"xaxis\":\"x\",\"y\":[221906],\"yaxis\":\"y\",\"type\":\"bar\"},{\"alignmentgroup\":\"True\",\"hovertemplate\":\"zip=%{x}<br>count=%{y}<extra></extra>\",\"legendgroup\":\"60645\",\"marker\":{\"color\":\"#00cc96\",\"pattern\":{\"shape\":\"\"}},\"name\":\"60645\",\"offsetgroup\":\"60645\",\"orientation\":\"v\",\"showlegend\":true,\"textposition\":\"auto\",\"x\":[\"60645\"],\"xaxis\":\"x\",\"y\":[475703],\"yaxis\":\"y\",\"type\":\"bar\"},{\"alignmentgroup\":\"True\",\"hovertemplate\":\"zip=%{x}<br>count=%{y}<extra></extra>\",\"legendgroup\":\"60646\",\"marker\":{\"color\":\"#ab63fa\",\"pattern\":{\"shape\":\"\"}},\"name\":\"60646\",\"offsetgroup\":\"60646\",\"orientation\":\"v\",\"showlegend\":true,\"textposition\":\"auto\",\"x\":[\"60646\"],\"xaxis\":\"x\",\"y\":[406591],\"yaxis\":\"y\",\"type\":\"bar\"},{\"alignmentgroup\":\"True\",\"hovertemplate\":\"zip=%{x}<br>count=%{y}<extra></extra>\",\"legendgroup\":\"60647\",\"marker\":{\"color\":\"#FFA15A\",\"pattern\":{\"shape\":\"\"}},\"name\":\"60647\",\"offsetgroup\":\"60647\",\"orientation\":\"v\",\"showlegend\":true,\"textposition\":\"auto\",\"x\":[\"60647\"],\"xaxis\":\"x\",\"y\":[1194063],\"yaxis\":\"y\",\"type\":\"bar\"},{\"alignmentgroup\":\"True\",\"hovertemplate\":\"zip=%{x}<br>count=%{y}<extra></extra>\",\"legendgroup\":\"60649\",\"marker\":{\"color\":\"#19d3f3\",\"pattern\":{\"shape\":\"\"}},\"name\":\"60649\",\"offsetgroup\":\"60649\",\"orientation\":\"v\",\"showlegend\":true,\"textposition\":\"auto\",\"x\":[\"60649\"],\"xaxis\":\"x\",\"y\":[288891],\"yaxis\":\"y\",\"type\":\"bar\"},{\"alignmentgroup\":\"True\",\"hovertemplate\":\"zip=%{x}<br>count=%{y}<extra></extra>\",\"legendgroup\":\"60651\",\"marker\":{\"color\":\"#FF6692\",\"pattern\":{\"shape\":\"\"}},\"name\":\"60651\",\"offsetgroup\":\"60651\",\"orientation\":\"v\",\"showlegend\":true,\"textposition\":\"auto\",\"x\":[\"60651\"],\"xaxis\":\"x\",\"y\":[344578],\"yaxis\":\"y\",\"type\":\"bar\"},{\"alignmentgroup\":\"True\",\"hovertemplate\":\"zip=%{x}<br>count=%{y}<extra></extra>\",\"legendgroup\":\"60652\",\"marker\":{\"color\":\"#B6E880\",\"pattern\":{\"shape\":\"\"}},\"name\":\"60652\",\"offsetgroup\":\"60652\",\"orientation\":\"v\",\"showlegend\":true,\"textposition\":\"auto\",\"x\":[\"60652\"],\"xaxis\":\"x\",\"y\":[267959],\"yaxis\":\"y\",\"type\":\"bar\"},{\"alignmentgroup\":\"True\",\"hovertemplate\":\"zip=%{x}<br>count=%{y}<extra></extra>\",\"legendgroup\":\"60653\",\"marker\":{\"color\":\"#FF97FF\",\"pattern\":{\"shape\":\"\"}},\"name\":\"60653\",\"offsetgroup\":\"60653\",\"orientation\":\"v\",\"showlegend\":true,\"textposition\":\"auto\",\"x\":[\"60653\"],\"xaxis\":\"x\",\"y\":[255347],\"yaxis\":\"y\",\"type\":\"bar\"},{\"alignmentgroup\":\"True\",\"hovertemplate\":\"zip=%{x}<br>count=%{y}<extra></extra>\",\"legendgroup\":\"60654\",\"marker\":{\"color\":\"#FECB52\",\"pattern\":{\"shape\":\"\"}},\"name\":\"60654\",\"offsetgroup\":\"60654\",\"orientation\":\"v\",\"showlegend\":true,\"textposition\":\"auto\",\"x\":[\"60654\"],\"xaxis\":\"x\",\"y\":[328271],\"yaxis\":\"y\",\"type\":\"bar\"},{\"alignmentgroup\":\"True\",\"hovertemplate\":\"zip=%{x}<br>count=%{y}<extra></extra>\",\"legendgroup\":\"60655\",\"marker\":{\"color\":\"#636efa\",\"pattern\":{\"shape\":\"\"}},\"name\":\"60655\",\"offsetgroup\":\"60655\",\"orientation\":\"v\",\"showlegend\":true,\"textposition\":\"auto\",\"x\":[\"60655\"],\"xaxis\":\"x\",\"y\":[193011],\"yaxis\":\"y\",\"type\":\"bar\"},{\"alignmentgroup\":\"True\",\"hovertemplate\":\"zip=%{x}<br>count=%{y}<extra></extra>\",\"legendgroup\":\"60656\",\"marker\":{\"color\":\"#EF553B\",\"pattern\":{\"shape\":\"\"}},\"name\":\"60656\",\"offsetgroup\":\"60656\",\"orientation\":\"v\",\"showlegend\":true,\"textposition\":\"auto\",\"x\":[\"60656\"],\"xaxis\":\"x\",\"y\":[209026],\"yaxis\":\"y\",\"type\":\"bar\"},{\"alignmentgroup\":\"True\",\"hovertemplate\":\"zip=%{x}<br>count=%{y}<extra></extra>\",\"legendgroup\":\"60657\",\"marker\":{\"color\":\"#00cc96\",\"pattern\":{\"shape\":\"\"}},\"name\":\"60657\",\"offsetgroup\":\"60657\",\"orientation\":\"v\",\"showlegend\":true,\"textposition\":\"auto\",\"x\":[\"60657\"],\"xaxis\":\"x\",\"y\":[1408250],\"yaxis\":\"y\",\"type\":\"bar\"},{\"alignmentgroup\":\"True\",\"hovertemplate\":\"zip=%{x}<br>count=%{y}<extra></extra>\",\"legendgroup\":\"60659\",\"marker\":{\"color\":\"#ab63fa\",\"pattern\":{\"shape\":\"\"}},\"name\":\"60659\",\"offsetgroup\":\"60659\",\"orientation\":\"v\",\"showlegend\":true,\"textposition\":\"auto\",\"x\":[\"60659\"],\"xaxis\":\"x\",\"y\":[340525],\"yaxis\":\"y\",\"type\":\"bar\"},{\"alignmentgroup\":\"True\",\"hovertemplate\":\"zip=%{x}<br>count=%{y}<extra></extra>\",\"legendgroup\":\"60660\",\"marker\":{\"color\":\"#FFA15A\",\"pattern\":{\"shape\":\"\"}},\"name\":\"60660\",\"offsetgroup\":\"60660\",\"orientation\":\"v\",\"showlegend\":true,\"textposition\":\"auto\",\"x\":[\"60660\"],\"xaxis\":\"x\",\"y\":[780157],\"yaxis\":\"y\",\"type\":\"bar\"},{\"alignmentgroup\":\"True\",\"hovertemplate\":\"zip=%{x}<br>count=%{y}<extra></extra>\",\"legendgroup\":\"60661\",\"marker\":{\"color\":\"#19d3f3\",\"pattern\":{\"shape\":\"\"}},\"name\":\"60661\",\"offsetgroup\":\"60661\",\"orientation\":\"v\",\"showlegend\":true,\"textposition\":\"auto\",\"x\":[\"60661\"],\"xaxis\":\"x\",\"y\":[152458],\"yaxis\":\"y\",\"type\":\"bar\"},{\"alignmentgroup\":\"True\",\"hovertemplate\":\"zip=%{x}<br>count=%{y}<extra></extra>\",\"legendgroup\":\"60666\",\"marker\":{\"color\":\"#FF6692\",\"pattern\":{\"shape\":\"\"}},\"name\":\"60666\",\"offsetgroup\":\"60666\",\"orientation\":\"v\",\"showlegend\":true,\"textposition\":\"auto\",\"x\":[\"60666\"],\"xaxis\":\"x\",\"y\":[3943],\"yaxis\":\"y\",\"type\":\"bar\"},{\"alignmentgroup\":\"True\",\"hovertemplate\":\"zip=%{x}<br>count=%{y}<extra></extra>\",\"legendgroup\":\"60707\",\"marker\":{\"color\":\"#B6E880\",\"pattern\":{\"shape\":\"\"}},\"name\":\"60707\",\"offsetgroup\":\"60707\",\"orientation\":\"v\",\"showlegend\":true,\"textposition\":\"auto\",\"x\":[\"60707\"],\"xaxis\":\"x\",\"y\":[76072],\"yaxis\":\"y\",\"type\":\"bar\"},{\"alignmentgroup\":\"True\",\"hovertemplate\":\"zip=%{x}<br>count=%{y}<extra></extra>\",\"legendgroup\":\"60827\",\"marker\":{\"color\":\"#FF97FF\",\"pattern\":{\"shape\":\"\"}},\"name\":\"60827\",\"offsetgroup\":\"60827\",\"orientation\":\"v\",\"showlegend\":true,\"textposition\":\"auto\",\"x\":[\"60827\"],\"xaxis\":\"x\",\"y\":[9397],\"yaxis\":\"y\",\"type\":\"bar\"},{\"alignmentgroup\":\"True\",\"hovertemplate\":\"zip=%{x}<br>count=%{y}<extra></extra>\",\"legendgroup\":\"Unknown\",\"marker\":{\"color\":\"#FECB52\",\"pattern\":{\"shape\":\"\"}},\"name\":\"Unknown\",\"offsetgroup\":\"Unknown\",\"orientation\":\"v\",\"showlegend\":true,\"textposition\":\"auto\",\"x\":[\"Unknown\"],\"xaxis\":\"x\",\"y\":[54762],\"yaxis\":\"y\",\"type\":\"bar\"}],                        {\"template\":{\"data\":{\"histogram2dcontour\":[{\"type\":\"histogram2dcontour\",\"colorbar\":{\"outlinewidth\":0,\"ticks\":\"\"},\"colorscale\":[[0.0,\"#0d0887\"],[0.1111111111111111,\"#46039f\"],[0.2222222222222222,\"#7201a8\"],[0.3333333333333333,\"#9c179e\"],[0.4444444444444444,\"#bd3786\"],[0.5555555555555556,\"#d8576b\"],[0.6666666666666666,\"#ed7953\"],[0.7777777777777778,\"#fb9f3a\"],[0.8888888888888888,\"#fdca26\"],[1.0,\"#f0f921\"]]}],\"choropleth\":[{\"type\":\"choropleth\",\"colorbar\":{\"outlinewidth\":0,\"ticks\":\"\"}}],\"histogram2d\":[{\"type\":\"histogram2d\",\"colorbar\":{\"outlinewidth\":0,\"ticks\":\"\"},\"colorscale\":[[0.0,\"#0d0887\"],[0.1111111111111111,\"#46039f\"],[0.2222222222222222,\"#7201a8\"],[0.3333333333333333,\"#9c179e\"],[0.4444444444444444,\"#bd3786\"],[0.5555555555555556,\"#d8576b\"],[0.6666666666666666,\"#ed7953\"],[0.7777777777777778,\"#fb9f3a\"],[0.8888888888888888,\"#fdca26\"],[1.0,\"#f0f921\"]]}],\"heatmap\":[{\"type\":\"heatmap\",\"colorbar\":{\"outlinewidth\":0,\"ticks\":\"\"},\"colorscale\":[[0.0,\"#0d0887\"],[0.1111111111111111,\"#46039f\"],[0.2222222222222222,\"#7201a8\"],[0.3333333333333333,\"#9c179e\"],[0.4444444444444444,\"#bd3786\"],[0.5555555555555556,\"#d8576b\"],[0.6666666666666666,\"#ed7953\"],[0.7777777777777778,\"#fb9f3a\"],[0.8888888888888888,\"#fdca26\"],[1.0,\"#f0f921\"]]}],\"heatmapgl\":[{\"type\":\"heatmapgl\",\"colorbar\":{\"outlinewidth\":0,\"ticks\":\"\"},\"colorscale\":[[0.0,\"#0d0887\"],[0.1111111111111111,\"#46039f\"],[0.2222222222222222,\"#7201a8\"],[0.3333333333333333,\"#9c179e\"],[0.4444444444444444,\"#bd3786\"],[0.5555555555555556,\"#d8576b\"],[0.6666666666666666,\"#ed7953\"],[0.7777777777777778,\"#fb9f3a\"],[0.8888888888888888,\"#fdca26\"],[1.0,\"#f0f921\"]]}],\"contourcarpet\":[{\"type\":\"contourcarpet\",\"colorbar\":{\"outlinewidth\":0,\"ticks\":\"\"}}],\"contour\":[{\"type\":\"contour\",\"colorbar\":{\"outlinewidth\":0,\"ticks\":\"\"},\"colorscale\":[[0.0,\"#0d0887\"],[0.1111111111111111,\"#46039f\"],[0.2222222222222222,\"#7201a8\"],[0.3333333333333333,\"#9c179e\"],[0.4444444444444444,\"#bd3786\"],[0.5555555555555556,\"#d8576b\"],[0.6666666666666666,\"#ed7953\"],[0.7777777777777778,\"#fb9f3a\"],[0.8888888888888888,\"#fdca26\"],[1.0,\"#f0f921\"]]}],\"surface\":[{\"type\":\"surface\",\"colorbar\":{\"outlinewidth\":0,\"ticks\":\"\"},\"colorscale\":[[0.0,\"#0d0887\"],[0.1111111111111111,\"#46039f\"],[0.2222222222222222,\"#7201a8\"],[0.3333333333333333,\"#9c179e\"],[0.4444444444444444,\"#bd3786\"],[0.5555555555555556,\"#d8576b\"],[0.6666666666666666,\"#ed7953\"],[0.7777777777777778,\"#fb9f3a\"],[0.8888888888888888,\"#fdca26\"],[1.0,\"#f0f921\"]]}],\"mesh3d\":[{\"type\":\"mesh3d\",\"colorbar\":{\"outlinewidth\":0,\"ticks\":\"\"}}],\"scatter\":[{\"fillpattern\":{\"fillmode\":\"overlay\",\"size\":10,\"solidity\":0.2},\"type\":\"scatter\"}],\"parcoords\":[{\"type\":\"parcoords\",\"line\":{\"colorbar\":{\"outlinewidth\":0,\"ticks\":\"\"}}}],\"scatterpolargl\":[{\"type\":\"scatterpolargl\",\"marker\":{\"colorbar\":{\"outlinewidth\":0,\"ticks\":\"\"}}}],\"bar\":[{\"error_x\":{\"color\":\"#2a3f5f\"},\"error_y\":{\"color\":\"#2a3f5f\"},\"marker\":{\"line\":{\"color\":\"#E5ECF6\",\"width\":0.5},\"pattern\":{\"fillmode\":\"overlay\",\"size\":10,\"solidity\":0.2}},\"type\":\"bar\"}],\"scattergeo\":[{\"type\":\"scattergeo\",\"marker\":{\"colorbar\":{\"outlinewidth\":0,\"ticks\":\"\"}}}],\"scatterpolar\":[{\"type\":\"scatterpolar\",\"marker\":{\"colorbar\":{\"outlinewidth\":0,\"ticks\":\"\"}}}],\"histogram\":[{\"marker\":{\"pattern\":{\"fillmode\":\"overlay\",\"size\":10,\"solidity\":0.2}},\"type\":\"histogram\"}],\"scattergl\":[{\"type\":\"scattergl\",\"marker\":{\"colorbar\":{\"outlinewidth\":0,\"ticks\":\"\"}}}],\"scatter3d\":[{\"type\":\"scatter3d\",\"line\":{\"colorbar\":{\"outlinewidth\":0,\"ticks\":\"\"}},\"marker\":{\"colorbar\":{\"outlinewidth\":0,\"ticks\":\"\"}}}],\"scattermapbox\":[{\"type\":\"scattermapbox\",\"marker\":{\"colorbar\":{\"outlinewidth\":0,\"ticks\":\"\"}}}],\"scatterternary\":[{\"type\":\"scatterternary\",\"marker\":{\"colorbar\":{\"outlinewidth\":0,\"ticks\":\"\"}}}],\"scattercarpet\":[{\"type\":\"scattercarpet\",\"marker\":{\"colorbar\":{\"outlinewidth\":0,\"ticks\":\"\"}}}],\"carpet\":[{\"aaxis\":{\"endlinecolor\":\"#2a3f5f\",\"gridcolor\":\"white\",\"linecolor\":\"white\",\"minorgridcolor\":\"white\",\"startlinecolor\":\"#2a3f5f\"},\"baxis\":{\"endlinecolor\":\"#2a3f5f\",\"gridcolor\":\"white\",\"linecolor\":\"white\",\"minorgridcolor\":\"white\",\"startlinecolor\":\"#2a3f5f\"},\"type\":\"carpet\"}],\"table\":[{\"cells\":{\"fill\":{\"color\":\"#EBF0F8\"},\"line\":{\"color\":\"white\"}},\"header\":{\"fill\":{\"color\":\"#C8D4E3\"},\"line\":{\"color\":\"white\"}},\"type\":\"table\"}],\"barpolar\":[{\"marker\":{\"line\":{\"color\":\"#E5ECF6\",\"width\":0.5},\"pattern\":{\"fillmode\":\"overlay\",\"size\":10,\"solidity\":0.2}},\"type\":\"barpolar\"}],\"pie\":[{\"automargin\":true,\"type\":\"pie\"}]},\"layout\":{\"autotypenumbers\":\"strict\",\"colorway\":[\"#636efa\",\"#EF553B\",\"#00cc96\",\"#ab63fa\",\"#FFA15A\",\"#19d3f3\",\"#FF6692\",\"#B6E880\",\"#FF97FF\",\"#FECB52\"],\"font\":{\"color\":\"#2a3f5f\"},\"hovermode\":\"closest\",\"hoverlabel\":{\"align\":\"left\"},\"paper_bgcolor\":\"white\",\"plot_bgcolor\":\"#E5ECF6\",\"polar\":{\"bgcolor\":\"#E5ECF6\",\"angularaxis\":{\"gridcolor\":\"white\",\"linecolor\":\"white\",\"ticks\":\"\"},\"radialaxis\":{\"gridcolor\":\"white\",\"linecolor\":\"white\",\"ticks\":\"\"}},\"ternary\":{\"bgcolor\":\"#E5ECF6\",\"aaxis\":{\"gridcolor\":\"white\",\"linecolor\":\"white\",\"ticks\":\"\"},\"baxis\":{\"gridcolor\":\"white\",\"linecolor\":\"white\",\"ticks\":\"\"},\"caxis\":{\"gridcolor\":\"white\",\"linecolor\":\"white\",\"ticks\":\"\"}},\"coloraxis\":{\"colorbar\":{\"outlinewidth\":0,\"ticks\":\"\"}},\"colorscale\":{\"sequential\":[[0.0,\"#0d0887\"],[0.1111111111111111,\"#46039f\"],[0.2222222222222222,\"#7201a8\"],[0.3333333333333333,\"#9c179e\"],[0.4444444444444444,\"#bd3786\"],[0.5555555555555556,\"#d8576b\"],[0.6666666666666666,\"#ed7953\"],[0.7777777777777778,\"#fb9f3a\"],[0.8888888888888888,\"#fdca26\"],[1.0,\"#f0f921\"]],\"sequentialminus\":[[0.0,\"#0d0887\"],[0.1111111111111111,\"#46039f\"],[0.2222222222222222,\"#7201a8\"],[0.3333333333333333,\"#9c179e\"],[0.4444444444444444,\"#bd3786\"],[0.5555555555555556,\"#d8576b\"],[0.6666666666666666,\"#ed7953\"],[0.7777777777777778,\"#fb9f3a\"],[0.8888888888888888,\"#fdca26\"],[1.0,\"#f0f921\"]],\"diverging\":[[0,\"#8e0152\"],[0.1,\"#c51b7d\"],[0.2,\"#de77ae\"],[0.3,\"#f1b6da\"],[0.4,\"#fde0ef\"],[0.5,\"#f7f7f7\"],[0.6,\"#e6f5d0\"],[0.7,\"#b8e186\"],[0.8,\"#7fbc41\"],[0.9,\"#4d9221\"],[1,\"#276419\"]]},\"xaxis\":{\"gridcolor\":\"white\",\"linecolor\":\"white\",\"ticks\":\"\",\"title\":{\"standoff\":15},\"zerolinecolor\":\"white\",\"automargin\":true,\"zerolinewidth\":2},\"yaxis\":{\"gridcolor\":\"white\",\"linecolor\":\"white\",\"ticks\":\"\",\"title\":{\"standoff\":15},\"zerolinecolor\":\"white\",\"automargin\":true,\"zerolinewidth\":2},\"scene\":{\"xaxis\":{\"backgroundcolor\":\"#E5ECF6\",\"gridcolor\":\"white\",\"linecolor\":\"white\",\"showbackground\":true,\"ticks\":\"\",\"zerolinecolor\":\"white\",\"gridwidth\":2},\"yaxis\":{\"backgroundcolor\":\"#E5ECF6\",\"gridcolor\":\"white\",\"linecolor\":\"white\",\"showbackground\":true,\"ticks\":\"\",\"zerolinecolor\":\"white\",\"gridwidth\":2},\"zaxis\":{\"backgroundcolor\":\"#E5ECF6\",\"gridcolor\":\"white\",\"linecolor\":\"white\",\"showbackground\":true,\"ticks\":\"\",\"zerolinecolor\":\"white\",\"gridwidth\":2}},\"shapedefaults\":{\"line\":{\"color\":\"#2a3f5f\"}},\"annotationdefaults\":{\"arrowcolor\":\"#2a3f5f\",\"arrowhead\":0,\"arrowwidth\":1},\"geo\":{\"bgcolor\":\"white\",\"landcolor\":\"#E5ECF6\",\"subunitcolor\":\"white\",\"showland\":true,\"showlakes\":true,\"lakecolor\":\"white\"},\"title\":{\"x\":0.05},\"mapbox\":{\"style\":\"light\"}}},\"xaxis\":{\"anchor\":\"y\",\"domain\":[0.0,1.0],\"title\":{\"text\":\"zip\"},\"categoryorder\":\"array\",\"categoryarray\":[\"60601\",\"60602\",\"60603\",\"60604\",\"60605\",\"60606\",\"60607\",\"60608\",\"60609\",\"60610\",\"60611\",\"60612\",\"60613\",\"60614\",\"60615\",\"60616\",\"60617\",\"60618\",\"60619\",\"60620\",\"60621\",\"60622\",\"60623\",\"60624\",\"60625\",\"60626\",\"60628\",\"60629\",\"60630\",\"60631\",\"60632\",\"60633\",\"60634\",\"60636\",\"60637\",\"60638\",\"60639\",\"60640\",\"60641\",\"60642\",\"60643\",\"60644\",\"60645\",\"60646\",\"60647\",\"60649\",\"60651\",\"60652\",\"60653\",\"60654\",\"60655\",\"60656\",\"60657\",\"60659\",\"60660\",\"60661\",\"60666\",\"60707\",\"60827\",\"Unknown\"]},\"yaxis\":{\"anchor\":\"x\",\"domain\":[0.0,1.0],\"title\":{\"text\":\"count\"}},\"legend\":{\"title\":{\"text\":\"zip\"},\"tracegroupgap\":0},\"title\":{\"text\":\"The Distribution of Vaccine Counts by Zip Code\"},\"barmode\":\"relative\"},                        {\"responsive\": true}                    ).then(function(){\n",
       "                            \n",
       "var gd = document.getElementById('e63e55aa-9ed9-4565-8f63-cbc63cdd238f');\n",
       "var x = new MutationObserver(function (mutations, observer) {{\n",
       "        var display = window.getComputedStyle(gd).display;\n",
       "        if (!display || display === 'none') {{\n",
       "            console.log([gd, 'removed!']);\n",
       "            Plotly.purge(gd);\n",
       "            observer.disconnect();\n",
       "        }}\n",
       "}});\n",
       "\n",
       "// Listen for the removal of the full notebook cells\n",
       "var notebookContainer = gd.closest('#notebook-container');\n",
       "if (notebookContainer) {{\n",
       "    x.observe(notebookContainer, {childList: true});\n",
       "}}\n",
       "\n",
       "// Listen for the clearing of the current output cell\n",
       "var outputEl = gd.closest('.output');\n",
       "if (outputEl) {{\n",
       "    x.observe(outputEl, {childList: true});\n",
       "}}\n",
       "\n",
       "                        })                };                });            </script>        </div>"
      ]
     },
     "metadata": {},
     "output_type": "display_data"
    }
   ],
   "source": [
    "df1=df.groupby('zip')['count'].sum().reset_index()\n",
    "fig=px.bar(df1, x='zip', y='count', color='zip', title='The Distribution of Vaccine Counts by Zip Code')\n",
    "fig.show()   "
   ]
  }
 ],
 "metadata": {
  "kernelspec": {
   "display_name": "Python 3 (ipykernel)",
   "language": "python",
   "name": "python3"
  },
  "language_info": {
   "codemirror_mode": {
    "name": "ipython",
    "version": 3
   },
   "file_extension": ".py",
   "mimetype": "text/x-python",
   "name": "python",
   "nbconvert_exporter": "python",
   "pygments_lexer": "ipython3",
   "version": "3.11.5"
  }
 },
 "nbformat": 4,
 "nbformat_minor": 5
}
